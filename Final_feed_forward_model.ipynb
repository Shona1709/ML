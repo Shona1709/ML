{
  "nbformat": 4,
  "nbformat_minor": 0,
  "metadata": {
    "colab": {
      "provenance": [],
      "authorship_tag": "ABX9TyNBArDOiEnKBzFdsRQwh3sH",
      "include_colab_link": true
    },
    "kernelspec": {
      "name": "python3",
      "display_name": "Python 3"
    }
  },
  "cells": [
    {
      "cell_type": "markdown",
      "metadata": {
        "id": "view-in-github",
        "colab_type": "text"
      },
      "source": [
        "<a href=\"https://colab.research.google.com/github/Shona1709/ML/blob/Python-scripts/Final_feed_forward_model.ipynb\" target=\"_parent\"><img src=\"https://colab.research.google.com/assets/colab-badge.svg\" alt=\"Open In Colab\"/></a>"
      ]
    },
    {
      "cell_type": "code",
      "metadata": {
        "id": "tKhgKAAOXUvy",
        "colab": {
          "base_uri": "https://localhost:8080/",
          "height": 456
        },
        "outputId": "1460bbc8-3b29-4289-ca81-defa4c92ffb8"
      },
      "source": [
        "import pandas as pd\n",
        "\n",
        "df = pd.read_csv('dataset_feature_selection.csv')\n",
        "df"
      ],
      "execution_count": null,
      "outputs": [
        {
          "output_type": "execute_result",
          "data": {
            "text/html": [
              "<div>\n",
              "<style scoped>\n",
              "    .dataframe tbody tr th:only-of-type {\n",
              "        vertical-align: middle;\n",
              "    }\n",
              "\n",
              "    .dataframe tbody tr th {\n",
              "        vertical-align: top;\n",
              "    }\n",
              "\n",
              "    .dataframe thead th {\n",
              "        text-align: right;\n",
              "    }\n",
              "</style>\n",
              "<table border=\"1\" class=\"dataframe\">\n",
              "  <thead>\n",
              "    <tr style=\"text-align: right;\">\n",
              "      <th></th>\n",
              "      <th>diagnosis</th>\n",
              "      <th>texture_mean</th>\n",
              "      <th>concavity_mean</th>\n",
              "      <th>concave points_mean</th>\n",
              "      <th>area_se</th>\n",
              "      <th>texture_worst</th>\n",
              "      <th>perimeter_worst</th>\n",
              "      <th>area_worst</th>\n",
              "      <th>concavity_worst</th>\n",
              "      <th>concave points_worst</th>\n",
              "    </tr>\n",
              "  </thead>\n",
              "  <tbody>\n",
              "    <tr>\n",
              "      <th>0</th>\n",
              "      <td>M</td>\n",
              "      <td>10.38</td>\n",
              "      <td>0.30010</td>\n",
              "      <td>0.14710</td>\n",
              "      <td>153.40</td>\n",
              "      <td>17.33</td>\n",
              "      <td>184.60</td>\n",
              "      <td>2019.0</td>\n",
              "      <td>0.7119</td>\n",
              "      <td>0.2654</td>\n",
              "    </tr>\n",
              "    <tr>\n",
              "      <th>1</th>\n",
              "      <td>M</td>\n",
              "      <td>17.77</td>\n",
              "      <td>0.08690</td>\n",
              "      <td>0.07017</td>\n",
              "      <td>74.08</td>\n",
              "      <td>23.41</td>\n",
              "      <td>158.80</td>\n",
              "      <td>1956.0</td>\n",
              "      <td>0.2416</td>\n",
              "      <td>0.1860</td>\n",
              "    </tr>\n",
              "    <tr>\n",
              "      <th>2</th>\n",
              "      <td>M</td>\n",
              "      <td>21.25</td>\n",
              "      <td>0.19740</td>\n",
              "      <td>0.12790</td>\n",
              "      <td>94.03</td>\n",
              "      <td>25.53</td>\n",
              "      <td>152.50</td>\n",
              "      <td>1709.0</td>\n",
              "      <td>0.4504</td>\n",
              "      <td>0.2430</td>\n",
              "    </tr>\n",
              "    <tr>\n",
              "      <th>3</th>\n",
              "      <td>M</td>\n",
              "      <td>20.38</td>\n",
              "      <td>0.24140</td>\n",
              "      <td>0.10520</td>\n",
              "      <td>27.23</td>\n",
              "      <td>26.50</td>\n",
              "      <td>98.87</td>\n",
              "      <td>567.7</td>\n",
              "      <td>0.6869</td>\n",
              "      <td>0.2575</td>\n",
              "    </tr>\n",
              "    <tr>\n",
              "      <th>4</th>\n",
              "      <td>M</td>\n",
              "      <td>14.34</td>\n",
              "      <td>0.19800</td>\n",
              "      <td>0.10430</td>\n",
              "      <td>94.44</td>\n",
              "      <td>16.67</td>\n",
              "      <td>152.20</td>\n",
              "      <td>1575.0</td>\n",
              "      <td>0.4000</td>\n",
              "      <td>0.1625</td>\n",
              "    </tr>\n",
              "    <tr>\n",
              "      <th>...</th>\n",
              "      <td>...</td>\n",
              "      <td>...</td>\n",
              "      <td>...</td>\n",
              "      <td>...</td>\n",
              "      <td>...</td>\n",
              "      <td>...</td>\n",
              "      <td>...</td>\n",
              "      <td>...</td>\n",
              "      <td>...</td>\n",
              "      <td>...</td>\n",
              "    </tr>\n",
              "    <tr>\n",
              "      <th>564</th>\n",
              "      <td>M</td>\n",
              "      <td>22.39</td>\n",
              "      <td>0.24390</td>\n",
              "      <td>0.13890</td>\n",
              "      <td>158.70</td>\n",
              "      <td>26.40</td>\n",
              "      <td>166.10</td>\n",
              "      <td>2027.0</td>\n",
              "      <td>0.4107</td>\n",
              "      <td>0.2216</td>\n",
              "    </tr>\n",
              "    <tr>\n",
              "      <th>565</th>\n",
              "      <td>M</td>\n",
              "      <td>28.25</td>\n",
              "      <td>0.14400</td>\n",
              "      <td>0.09791</td>\n",
              "      <td>99.04</td>\n",
              "      <td>38.25</td>\n",
              "      <td>155.00</td>\n",
              "      <td>1731.0</td>\n",
              "      <td>0.3215</td>\n",
              "      <td>0.1628</td>\n",
              "    </tr>\n",
              "    <tr>\n",
              "      <th>566</th>\n",
              "      <td>M</td>\n",
              "      <td>28.08</td>\n",
              "      <td>0.09251</td>\n",
              "      <td>0.05302</td>\n",
              "      <td>48.55</td>\n",
              "      <td>34.12</td>\n",
              "      <td>126.70</td>\n",
              "      <td>1124.0</td>\n",
              "      <td>0.3403</td>\n",
              "      <td>0.1418</td>\n",
              "    </tr>\n",
              "    <tr>\n",
              "      <th>567</th>\n",
              "      <td>M</td>\n",
              "      <td>29.33</td>\n",
              "      <td>0.35140</td>\n",
              "      <td>0.15200</td>\n",
              "      <td>86.22</td>\n",
              "      <td>39.42</td>\n",
              "      <td>184.60</td>\n",
              "      <td>1821.0</td>\n",
              "      <td>0.9387</td>\n",
              "      <td>0.2650</td>\n",
              "    </tr>\n",
              "    <tr>\n",
              "      <th>568</th>\n",
              "      <td>B</td>\n",
              "      <td>24.54</td>\n",
              "      <td>0.00000</td>\n",
              "      <td>0.00000</td>\n",
              "      <td>19.15</td>\n",
              "      <td>30.37</td>\n",
              "      <td>59.16</td>\n",
              "      <td>268.6</td>\n",
              "      <td>0.0000</td>\n",
              "      <td>0.0000</td>\n",
              "    </tr>\n",
              "  </tbody>\n",
              "</table>\n",
              "<p>569 rows × 10 columns</p>\n",
              "</div>"
            ],
            "text/plain": [
              "    diagnosis  texture_mean  ...  concavity_worst  concave points_worst\n",
              "0           M         10.38  ...           0.7119                0.2654\n",
              "1           M         17.77  ...           0.2416                0.1860\n",
              "2           M         21.25  ...           0.4504                0.2430\n",
              "3           M         20.38  ...           0.6869                0.2575\n",
              "4           M         14.34  ...           0.4000                0.1625\n",
              "..        ...           ...  ...              ...                   ...\n",
              "564         M         22.39  ...           0.4107                0.2216\n",
              "565         M         28.25  ...           0.3215                0.1628\n",
              "566         M         28.08  ...           0.3403                0.1418\n",
              "567         M         29.33  ...           0.9387                0.2650\n",
              "568         B         24.54  ...           0.0000                0.0000\n",
              "\n",
              "[569 rows x 10 columns]"
            ]
          },
          "metadata": {
            "tags": []
          },
          "execution_count": 1
        }
      ]
    },
    {
      "cell_type": "code",
      "metadata": {
        "id": "zKJDOITj-BvT",
        "colab": {
          "base_uri": "https://localhost:8080/",
          "height": 456
        },
        "outputId": "5cedf9cb-155d-4c0d-bc5a-fa3c41886c2d"
      },
      "source": [
        "df=df.replace(\"B\", 0.0)\n",
        "df"
      ],
      "execution_count": null,
      "outputs": [
        {
          "output_type": "execute_result",
          "data": {
            "text/html": [
              "<div>\n",
              "<style scoped>\n",
              "    .dataframe tbody tr th:only-of-type {\n",
              "        vertical-align: middle;\n",
              "    }\n",
              "\n",
              "    .dataframe tbody tr th {\n",
              "        vertical-align: top;\n",
              "    }\n",
              "\n",
              "    .dataframe thead th {\n",
              "        text-align: right;\n",
              "    }\n",
              "</style>\n",
              "<table border=\"1\" class=\"dataframe\">\n",
              "  <thead>\n",
              "    <tr style=\"text-align: right;\">\n",
              "      <th></th>\n",
              "      <th>diagnosis</th>\n",
              "      <th>texture_mean</th>\n",
              "      <th>concavity_mean</th>\n",
              "      <th>concave points_mean</th>\n",
              "      <th>area_se</th>\n",
              "      <th>texture_worst</th>\n",
              "      <th>perimeter_worst</th>\n",
              "      <th>area_worst</th>\n",
              "      <th>concavity_worst</th>\n",
              "      <th>concave points_worst</th>\n",
              "    </tr>\n",
              "  </thead>\n",
              "  <tbody>\n",
              "    <tr>\n",
              "      <th>0</th>\n",
              "      <td>M</td>\n",
              "      <td>10.38</td>\n",
              "      <td>0.30010</td>\n",
              "      <td>0.14710</td>\n",
              "      <td>153.40</td>\n",
              "      <td>17.33</td>\n",
              "      <td>184.60</td>\n",
              "      <td>2019.0</td>\n",
              "      <td>0.7119</td>\n",
              "      <td>0.2654</td>\n",
              "    </tr>\n",
              "    <tr>\n",
              "      <th>1</th>\n",
              "      <td>M</td>\n",
              "      <td>17.77</td>\n",
              "      <td>0.08690</td>\n",
              "      <td>0.07017</td>\n",
              "      <td>74.08</td>\n",
              "      <td>23.41</td>\n",
              "      <td>158.80</td>\n",
              "      <td>1956.0</td>\n",
              "      <td>0.2416</td>\n",
              "      <td>0.1860</td>\n",
              "    </tr>\n",
              "    <tr>\n",
              "      <th>2</th>\n",
              "      <td>M</td>\n",
              "      <td>21.25</td>\n",
              "      <td>0.19740</td>\n",
              "      <td>0.12790</td>\n",
              "      <td>94.03</td>\n",
              "      <td>25.53</td>\n",
              "      <td>152.50</td>\n",
              "      <td>1709.0</td>\n",
              "      <td>0.4504</td>\n",
              "      <td>0.2430</td>\n",
              "    </tr>\n",
              "    <tr>\n",
              "      <th>3</th>\n",
              "      <td>M</td>\n",
              "      <td>20.38</td>\n",
              "      <td>0.24140</td>\n",
              "      <td>0.10520</td>\n",
              "      <td>27.23</td>\n",
              "      <td>26.50</td>\n",
              "      <td>98.87</td>\n",
              "      <td>567.7</td>\n",
              "      <td>0.6869</td>\n",
              "      <td>0.2575</td>\n",
              "    </tr>\n",
              "    <tr>\n",
              "      <th>4</th>\n",
              "      <td>M</td>\n",
              "      <td>14.34</td>\n",
              "      <td>0.19800</td>\n",
              "      <td>0.10430</td>\n",
              "      <td>94.44</td>\n",
              "      <td>16.67</td>\n",
              "      <td>152.20</td>\n",
              "      <td>1575.0</td>\n",
              "      <td>0.4000</td>\n",
              "      <td>0.1625</td>\n",
              "    </tr>\n",
              "    <tr>\n",
              "      <th>...</th>\n",
              "      <td>...</td>\n",
              "      <td>...</td>\n",
              "      <td>...</td>\n",
              "      <td>...</td>\n",
              "      <td>...</td>\n",
              "      <td>...</td>\n",
              "      <td>...</td>\n",
              "      <td>...</td>\n",
              "      <td>...</td>\n",
              "      <td>...</td>\n",
              "    </tr>\n",
              "    <tr>\n",
              "      <th>564</th>\n",
              "      <td>M</td>\n",
              "      <td>22.39</td>\n",
              "      <td>0.24390</td>\n",
              "      <td>0.13890</td>\n",
              "      <td>158.70</td>\n",
              "      <td>26.40</td>\n",
              "      <td>166.10</td>\n",
              "      <td>2027.0</td>\n",
              "      <td>0.4107</td>\n",
              "      <td>0.2216</td>\n",
              "    </tr>\n",
              "    <tr>\n",
              "      <th>565</th>\n",
              "      <td>M</td>\n",
              "      <td>28.25</td>\n",
              "      <td>0.14400</td>\n",
              "      <td>0.09791</td>\n",
              "      <td>99.04</td>\n",
              "      <td>38.25</td>\n",
              "      <td>155.00</td>\n",
              "      <td>1731.0</td>\n",
              "      <td>0.3215</td>\n",
              "      <td>0.1628</td>\n",
              "    </tr>\n",
              "    <tr>\n",
              "      <th>566</th>\n",
              "      <td>M</td>\n",
              "      <td>28.08</td>\n",
              "      <td>0.09251</td>\n",
              "      <td>0.05302</td>\n",
              "      <td>48.55</td>\n",
              "      <td>34.12</td>\n",
              "      <td>126.70</td>\n",
              "      <td>1124.0</td>\n",
              "      <td>0.3403</td>\n",
              "      <td>0.1418</td>\n",
              "    </tr>\n",
              "    <tr>\n",
              "      <th>567</th>\n",
              "      <td>M</td>\n",
              "      <td>29.33</td>\n",
              "      <td>0.35140</td>\n",
              "      <td>0.15200</td>\n",
              "      <td>86.22</td>\n",
              "      <td>39.42</td>\n",
              "      <td>184.60</td>\n",
              "      <td>1821.0</td>\n",
              "      <td>0.9387</td>\n",
              "      <td>0.2650</td>\n",
              "    </tr>\n",
              "    <tr>\n",
              "      <th>568</th>\n",
              "      <td>0</td>\n",
              "      <td>24.54</td>\n",
              "      <td>0.00000</td>\n",
              "      <td>0.00000</td>\n",
              "      <td>19.15</td>\n",
              "      <td>30.37</td>\n",
              "      <td>59.16</td>\n",
              "      <td>268.6</td>\n",
              "      <td>0.0000</td>\n",
              "      <td>0.0000</td>\n",
              "    </tr>\n",
              "  </tbody>\n",
              "</table>\n",
              "<p>569 rows × 10 columns</p>\n",
              "</div>"
            ],
            "text/plain": [
              "    diagnosis  texture_mean  ...  concavity_worst  concave points_worst\n",
              "0           M         10.38  ...           0.7119                0.2654\n",
              "1           M         17.77  ...           0.2416                0.1860\n",
              "2           M         21.25  ...           0.4504                0.2430\n",
              "3           M         20.38  ...           0.6869                0.2575\n",
              "4           M         14.34  ...           0.4000                0.1625\n",
              "..        ...           ...  ...              ...                   ...\n",
              "564         M         22.39  ...           0.4107                0.2216\n",
              "565         M         28.25  ...           0.3215                0.1628\n",
              "566         M         28.08  ...           0.3403                0.1418\n",
              "567         M         29.33  ...           0.9387                0.2650\n",
              "568         0         24.54  ...           0.0000                0.0000\n",
              "\n",
              "[569 rows x 10 columns]"
            ]
          },
          "metadata": {
            "tags": []
          },
          "execution_count": 2
        }
      ]
    },
    {
      "cell_type": "code",
      "metadata": {
        "id": "ECCzYfD4-b5q",
        "colab": {
          "base_uri": "https://localhost:8080/",
          "height": 456
        },
        "outputId": "de0bddee-5846-4b04-ef86-7c2b80d427a9"
      },
      "source": [
        "df=df.replace(\"M\", 1.0)\n",
        "df"
      ],
      "execution_count": null,
      "outputs": [
        {
          "output_type": "execute_result",
          "data": {
            "text/html": [
              "<div>\n",
              "<style scoped>\n",
              "    .dataframe tbody tr th:only-of-type {\n",
              "        vertical-align: middle;\n",
              "    }\n",
              "\n",
              "    .dataframe tbody tr th {\n",
              "        vertical-align: top;\n",
              "    }\n",
              "\n",
              "    .dataframe thead th {\n",
              "        text-align: right;\n",
              "    }\n",
              "</style>\n",
              "<table border=\"1\" class=\"dataframe\">\n",
              "  <thead>\n",
              "    <tr style=\"text-align: right;\">\n",
              "      <th></th>\n",
              "      <th>diagnosis</th>\n",
              "      <th>texture_mean</th>\n",
              "      <th>concavity_mean</th>\n",
              "      <th>concave points_mean</th>\n",
              "      <th>area_se</th>\n",
              "      <th>texture_worst</th>\n",
              "      <th>perimeter_worst</th>\n",
              "      <th>area_worst</th>\n",
              "      <th>concavity_worst</th>\n",
              "      <th>concave points_worst</th>\n",
              "    </tr>\n",
              "  </thead>\n",
              "  <tbody>\n",
              "    <tr>\n",
              "      <th>0</th>\n",
              "      <td>1.0</td>\n",
              "      <td>10.38</td>\n",
              "      <td>0.30010</td>\n",
              "      <td>0.14710</td>\n",
              "      <td>153.40</td>\n",
              "      <td>17.33</td>\n",
              "      <td>184.60</td>\n",
              "      <td>2019.0</td>\n",
              "      <td>0.7119</td>\n",
              "      <td>0.2654</td>\n",
              "    </tr>\n",
              "    <tr>\n",
              "      <th>1</th>\n",
              "      <td>1.0</td>\n",
              "      <td>17.77</td>\n",
              "      <td>0.08690</td>\n",
              "      <td>0.07017</td>\n",
              "      <td>74.08</td>\n",
              "      <td>23.41</td>\n",
              "      <td>158.80</td>\n",
              "      <td>1956.0</td>\n",
              "      <td>0.2416</td>\n",
              "      <td>0.1860</td>\n",
              "    </tr>\n",
              "    <tr>\n",
              "      <th>2</th>\n",
              "      <td>1.0</td>\n",
              "      <td>21.25</td>\n",
              "      <td>0.19740</td>\n",
              "      <td>0.12790</td>\n",
              "      <td>94.03</td>\n",
              "      <td>25.53</td>\n",
              "      <td>152.50</td>\n",
              "      <td>1709.0</td>\n",
              "      <td>0.4504</td>\n",
              "      <td>0.2430</td>\n",
              "    </tr>\n",
              "    <tr>\n",
              "      <th>3</th>\n",
              "      <td>1.0</td>\n",
              "      <td>20.38</td>\n",
              "      <td>0.24140</td>\n",
              "      <td>0.10520</td>\n",
              "      <td>27.23</td>\n",
              "      <td>26.50</td>\n",
              "      <td>98.87</td>\n",
              "      <td>567.7</td>\n",
              "      <td>0.6869</td>\n",
              "      <td>0.2575</td>\n",
              "    </tr>\n",
              "    <tr>\n",
              "      <th>4</th>\n",
              "      <td>1.0</td>\n",
              "      <td>14.34</td>\n",
              "      <td>0.19800</td>\n",
              "      <td>0.10430</td>\n",
              "      <td>94.44</td>\n",
              "      <td>16.67</td>\n",
              "      <td>152.20</td>\n",
              "      <td>1575.0</td>\n",
              "      <td>0.4000</td>\n",
              "      <td>0.1625</td>\n",
              "    </tr>\n",
              "    <tr>\n",
              "      <th>...</th>\n",
              "      <td>...</td>\n",
              "      <td>...</td>\n",
              "      <td>...</td>\n",
              "      <td>...</td>\n",
              "      <td>...</td>\n",
              "      <td>...</td>\n",
              "      <td>...</td>\n",
              "      <td>...</td>\n",
              "      <td>...</td>\n",
              "      <td>...</td>\n",
              "    </tr>\n",
              "    <tr>\n",
              "      <th>564</th>\n",
              "      <td>1.0</td>\n",
              "      <td>22.39</td>\n",
              "      <td>0.24390</td>\n",
              "      <td>0.13890</td>\n",
              "      <td>158.70</td>\n",
              "      <td>26.40</td>\n",
              "      <td>166.10</td>\n",
              "      <td>2027.0</td>\n",
              "      <td>0.4107</td>\n",
              "      <td>0.2216</td>\n",
              "    </tr>\n",
              "    <tr>\n",
              "      <th>565</th>\n",
              "      <td>1.0</td>\n",
              "      <td>28.25</td>\n",
              "      <td>0.14400</td>\n",
              "      <td>0.09791</td>\n",
              "      <td>99.04</td>\n",
              "      <td>38.25</td>\n",
              "      <td>155.00</td>\n",
              "      <td>1731.0</td>\n",
              "      <td>0.3215</td>\n",
              "      <td>0.1628</td>\n",
              "    </tr>\n",
              "    <tr>\n",
              "      <th>566</th>\n",
              "      <td>1.0</td>\n",
              "      <td>28.08</td>\n",
              "      <td>0.09251</td>\n",
              "      <td>0.05302</td>\n",
              "      <td>48.55</td>\n",
              "      <td>34.12</td>\n",
              "      <td>126.70</td>\n",
              "      <td>1124.0</td>\n",
              "      <td>0.3403</td>\n",
              "      <td>0.1418</td>\n",
              "    </tr>\n",
              "    <tr>\n",
              "      <th>567</th>\n",
              "      <td>1.0</td>\n",
              "      <td>29.33</td>\n",
              "      <td>0.35140</td>\n",
              "      <td>0.15200</td>\n",
              "      <td>86.22</td>\n",
              "      <td>39.42</td>\n",
              "      <td>184.60</td>\n",
              "      <td>1821.0</td>\n",
              "      <td>0.9387</td>\n",
              "      <td>0.2650</td>\n",
              "    </tr>\n",
              "    <tr>\n",
              "      <th>568</th>\n",
              "      <td>0.0</td>\n",
              "      <td>24.54</td>\n",
              "      <td>0.00000</td>\n",
              "      <td>0.00000</td>\n",
              "      <td>19.15</td>\n",
              "      <td>30.37</td>\n",
              "      <td>59.16</td>\n",
              "      <td>268.6</td>\n",
              "      <td>0.0000</td>\n",
              "      <td>0.0000</td>\n",
              "    </tr>\n",
              "  </tbody>\n",
              "</table>\n",
              "<p>569 rows × 10 columns</p>\n",
              "</div>"
            ],
            "text/plain": [
              "     diagnosis  texture_mean  ...  concavity_worst  concave points_worst\n",
              "0          1.0         10.38  ...           0.7119                0.2654\n",
              "1          1.0         17.77  ...           0.2416                0.1860\n",
              "2          1.0         21.25  ...           0.4504                0.2430\n",
              "3          1.0         20.38  ...           0.6869                0.2575\n",
              "4          1.0         14.34  ...           0.4000                0.1625\n",
              "..         ...           ...  ...              ...                   ...\n",
              "564        1.0         22.39  ...           0.4107                0.2216\n",
              "565        1.0         28.25  ...           0.3215                0.1628\n",
              "566        1.0         28.08  ...           0.3403                0.1418\n",
              "567        1.0         29.33  ...           0.9387                0.2650\n",
              "568        0.0         24.54  ...           0.0000                0.0000\n",
              "\n",
              "[569 rows x 10 columns]"
            ]
          },
          "metadata": {
            "tags": []
          },
          "execution_count": 3
        }
      ]
    },
    {
      "cell_type": "code",
      "metadata": {
        "id": "_hGu7W-F-k8O",
        "colab": {
          "base_uri": "https://localhost:8080/",
          "height": 238
        },
        "outputId": "cd0cc22d-829f-4f68-ffc8-f90a230c22a9"
      },
      "source": [
        "dataset = df.values\n",
        "dataset"
      ],
      "execution_count": null,
      "outputs": [
        {
          "output_type": "execute_result",
          "data": {
            "text/plain": [
              "array([[1.000e+00, 1.038e+01, 3.001e-01, ..., 2.019e+03, 7.119e-01,\n",
              "        2.654e-01],\n",
              "       [1.000e+00, 1.777e+01, 8.690e-02, ..., 1.956e+03, 2.416e-01,\n",
              "        1.860e-01],\n",
              "       [1.000e+00, 2.125e+01, 1.974e-01, ..., 1.709e+03, 4.504e-01,\n",
              "        2.430e-01],\n",
              "       ...,\n",
              "       [1.000e+00, 2.808e+01, 9.251e-02, ..., 1.124e+03, 3.403e-01,\n",
              "        1.418e-01],\n",
              "       [1.000e+00, 2.933e+01, 3.514e-01, ..., 1.821e+03, 9.387e-01,\n",
              "        2.650e-01],\n",
              "       [0.000e+00, 2.454e+01, 0.000e+00, ..., 2.686e+02, 0.000e+00,\n",
              "        0.000e+00]])"
            ]
          },
          "metadata": {
            "tags": []
          },
          "execution_count": 4
        }
      ]
    },
    {
      "cell_type": "code",
      "metadata": {
        "id": "phpZ6Sr2-sQc"
      },
      "source": [
        "X = dataset[:,1:10]\n",
        "Y = dataset[:,0]"
      ],
      "execution_count": null,
      "outputs": []
    },
    {
      "cell_type": "code",
      "metadata": {
        "id": "ben5QUyM-vfy",
        "colab": {
          "base_uri": "https://localhost:8080/",
          "height": 238
        },
        "outputId": "5d9b539c-f014-4026-b06c-3e6054ff0a42"
      },
      "source": [
        "from sklearn import preprocessing\n",
        "min_max_scaler = preprocessing.MinMaxScaler()\n",
        "X_scale = min_max_scaler.fit_transform(X)\n",
        "X_scale"
      ],
      "execution_count": null,
      "outputs": [
        {
          "output_type": "execute_result",
          "data": {
            "text/plain": [
              "array([[0.0226581 , 0.70313964, 0.73111332, ..., 0.45069799, 0.56861022,\n",
              "        0.91202749],\n",
              "       [0.27257355, 0.20360825, 0.34875746, ..., 0.43521431, 0.19297125,\n",
              "        0.63917526],\n",
              "       [0.3902604 , 0.46251172, 0.63568588, ..., 0.37450845, 0.35974441,\n",
              "        0.83505155],\n",
              "       ...,\n",
              "       [0.62123774, 0.21675258, 0.26351889, ..., 0.23073142, 0.27180511,\n",
              "        0.48728522],\n",
              "       [0.66351031, 0.82333646, 0.7554672 , ..., 0.402035  , 0.74976038,\n",
              "        0.91065292],\n",
              "       [0.50152181, 0.        , 0.        , ..., 0.02049744, 0.        ,\n",
              "        0.        ]])"
            ]
          },
          "metadata": {
            "tags": []
          },
          "execution_count": 6
        }
      ]
    },
    {
      "cell_type": "code",
      "metadata": {
        "id": "Tfib2Bjz-8h3",
        "colab": {
          "base_uri": "https://localhost:8080/",
          "height": 34
        },
        "outputId": "3c5570bd-2d08-4321-eadb-11c84fb6ee4f"
      },
      "source": [
        "from sklearn.model_selection import train_test_split\n",
        "X_train, X_val_and_test, Y_train, Y_val_and_test = train_test_split(X_scale, Y, test_size=0.3)\n",
        "X_val, X_test, Y_val, Y_test = train_test_split(X_val_and_test, Y_val_and_test, test_size=0.5)\n",
        "print(X_train.shape, X_val.shape, X_test.shape, Y_train.shape, Y_val.shape, Y_test.shape)"
      ],
      "execution_count": null,
      "outputs": [
        {
          "output_type": "stream",
          "text": [
            "(398, 9) (85, 9) (86, 9) (398,) (85,) (86,)\n"
          ],
          "name": "stdout"
        }
      ]
    },
    {
      "cell_type": "code",
      "metadata": {
        "id": "PuyPIpD5_LFs",
        "colab": {
          "base_uri": "https://localhost:8080/",
          "height": 34
        },
        "outputId": "c2f6423b-6895-40e6-e4b1-759ff6e267a8"
      },
      "source": [
        "from keras.layers import Dropout\n",
        "from keras import regularizers\n",
        "import keras\n",
        "from keras.models import Sequential\n",
        "from keras.layers import Dense"
      ],
      "execution_count": null,
      "outputs": [
        {
          "output_type": "stream",
          "text": [
            "Using TensorFlow backend.\n"
          ],
          "name": "stderr"
        }
      ]
    },
    {
      "cell_type": "code",
      "metadata": {
        "id": "oDpY3rec_PwL"
      },
      "source": [
        "model1 = Sequential([\n",
        "    Dense(7, activation='relu',kernel_regularizer=regularizers.l2(0.01), input_shape=(9,)),Dropout(0.3),\n",
        "    Dense(7, activation='relu',kernel_regularizer=regularizers.l2(0.01)),Dropout(0.3),\n",
        "\n",
        "     Dense(7, activation='relu',kernel_regularizer=regularizers.l2(0.01)),Dropout(0.3),\n",
        "\n",
        "    Dense(1, activation='sigmoid',kernel_regularizer=regularizers.l2(0.01)),\n",
        "])"
      ],
      "execution_count": null,
      "outputs": []
    },
    {
      "cell_type": "code",
      "metadata": {
        "id": "hyECIT5T_Ykt"
      },
      "source": [
        "model1.compile(optimizer='adam',\n",
        "              loss='binary_crossentropy',\n",
        "              metrics=['accuracy'])"
      ],
      "execution_count": null,
      "outputs": []
    },
    {
      "cell_type": "code",
      "metadata": {
        "id": "5gaarYwg_dOt",
        "colab": {
          "base_uri": "https://localhost:8080/",
          "height": 1000
        },
        "outputId": "2626738b-68d2-4c07-d797-27ed83fa5e69"
      },
      "source": [
        "hist1=model1.fit(X_train, Y_train,\n",
        "          batch_size=20, epochs=150,\n",
        "          validation_data=(X_val, Y_val))"
      ],
      "execution_count": null,
      "outputs": [
        {
          "output_type": "stream",
          "text": [
            "Train on 398 samples, validate on 85 samples\n",
            "Epoch 1/150\n",
            "398/398 [==============================] - 0s 113us/step - loss: 0.3825 - accuracy: 0.9196 - val_loss: 0.2858 - val_accuracy: 0.9882\n",
            "Epoch 2/150\n",
            "398/398 [==============================] - 0s 90us/step - loss: 0.3860 - accuracy: 0.9196 - val_loss: 0.2848 - val_accuracy: 0.9882\n",
            "Epoch 3/150\n",
            "398/398 [==============================] - 0s 85us/step - loss: 0.3822 - accuracy: 0.9196 - val_loss: 0.2825 - val_accuracy: 0.9882\n",
            "Epoch 4/150\n",
            "398/398 [==============================] - 0s 84us/step - loss: 0.3883 - accuracy: 0.9246 - val_loss: 0.2846 - val_accuracy: 0.9882\n",
            "Epoch 5/150\n",
            "398/398 [==============================] - 0s 88us/step - loss: 0.3819 - accuracy: 0.9347 - val_loss: 0.2916 - val_accuracy: 0.9765\n",
            "Epoch 6/150\n",
            "398/398 [==============================] - 0s 88us/step - loss: 0.3770 - accuracy: 0.9271 - val_loss: 0.2856 - val_accuracy: 0.9882\n",
            "Epoch 7/150\n",
            "398/398 [==============================] - 0s 83us/step - loss: 0.3540 - accuracy: 0.9397 - val_loss: 0.2832 - val_accuracy: 0.9882\n",
            "Epoch 8/150\n",
            "398/398 [==============================] - 0s 84us/step - loss: 0.4062 - accuracy: 0.9121 - val_loss: 0.2892 - val_accuracy: 0.9882\n",
            "Epoch 9/150\n",
            "398/398 [==============================] - 0s 86us/step - loss: 0.3855 - accuracy: 0.9121 - val_loss: 0.2877 - val_accuracy: 0.9882\n",
            "Epoch 10/150\n",
            "398/398 [==============================] - 0s 85us/step - loss: 0.3914 - accuracy: 0.9146 - val_loss: 0.2919 - val_accuracy: 0.9765\n",
            "Epoch 11/150\n",
            "398/398 [==============================] - 0s 85us/step - loss: 0.3623 - accuracy: 0.9347 - val_loss: 0.2842 - val_accuracy: 0.9882\n",
            "Epoch 12/150\n",
            "398/398 [==============================] - 0s 86us/step - loss: 0.3714 - accuracy: 0.9347 - val_loss: 0.2854 - val_accuracy: 0.9882\n",
            "Epoch 13/150\n",
            "398/398 [==============================] - 0s 95us/step - loss: 0.3581 - accuracy: 0.9196 - val_loss: 0.2854 - val_accuracy: 0.9882\n",
            "Epoch 14/150\n",
            "398/398 [==============================] - 0s 81us/step - loss: 0.3974 - accuracy: 0.9121 - val_loss: 0.2875 - val_accuracy: 0.9882\n",
            "Epoch 15/150\n",
            "398/398 [==============================] - 0s 83us/step - loss: 0.3732 - accuracy: 0.9296 - val_loss: 0.2835 - val_accuracy: 0.9882\n",
            "Epoch 16/150\n",
            "398/398 [==============================] - 0s 94us/step - loss: 0.3709 - accuracy: 0.9296 - val_loss: 0.2804 - val_accuracy: 0.9765\n",
            "Epoch 17/150\n",
            "398/398 [==============================] - 0s 90us/step - loss: 0.3645 - accuracy: 0.9221 - val_loss: 0.2876 - val_accuracy: 0.9882\n",
            "Epoch 18/150\n",
            "398/398 [==============================] - 0s 85us/step - loss: 0.3756 - accuracy: 0.9347 - val_loss: 0.2843 - val_accuracy: 0.9882\n",
            "Epoch 19/150\n",
            "398/398 [==============================] - 0s 88us/step - loss: 0.3904 - accuracy: 0.9095 - val_loss: 0.2809 - val_accuracy: 0.9765\n",
            "Epoch 20/150\n",
            "398/398 [==============================] - 0s 82us/step - loss: 0.3804 - accuracy: 0.9246 - val_loss: 0.2851 - val_accuracy: 0.9882\n",
            "Epoch 21/150\n",
            "398/398 [==============================] - 0s 89us/step - loss: 0.3496 - accuracy: 0.9296 - val_loss: 0.2853 - val_accuracy: 0.9882\n",
            "Epoch 22/150\n",
            "398/398 [==============================] - 0s 83us/step - loss: 0.4039 - accuracy: 0.9146 - val_loss: 0.2812 - val_accuracy: 0.9765\n",
            "Epoch 23/150\n",
            "398/398 [==============================] - 0s 86us/step - loss: 0.3728 - accuracy: 0.9221 - val_loss: 0.2880 - val_accuracy: 0.9882\n",
            "Epoch 24/150\n",
            "398/398 [==============================] - 0s 83us/step - loss: 0.3824 - accuracy: 0.9146 - val_loss: 0.2864 - val_accuracy: 0.9882\n",
            "Epoch 25/150\n",
            "398/398 [==============================] - 0s 86us/step - loss: 0.3726 - accuracy: 0.9347 - val_loss: 0.2825 - val_accuracy: 0.9882\n",
            "Epoch 26/150\n",
            "398/398 [==============================] - 0s 85us/step - loss: 0.3724 - accuracy: 0.9246 - val_loss: 0.2788 - val_accuracy: 0.9765\n",
            "Epoch 27/150\n",
            "398/398 [==============================] - 0s 81us/step - loss: 0.3744 - accuracy: 0.9271 - val_loss: 0.2811 - val_accuracy: 0.9765\n",
            "Epoch 28/150\n",
            "398/398 [==============================] - 0s 86us/step - loss: 0.3652 - accuracy: 0.9372 - val_loss: 0.2816 - val_accuracy: 0.9882\n",
            "Epoch 29/150\n",
            "398/398 [==============================] - 0s 86us/step - loss: 0.3829 - accuracy: 0.9271 - val_loss: 0.2881 - val_accuracy: 0.9882\n",
            "Epoch 30/150\n",
            "398/398 [==============================] - 0s 86us/step - loss: 0.3827 - accuracy: 0.9221 - val_loss: 0.2835 - val_accuracy: 0.9882\n",
            "Epoch 31/150\n",
            "398/398 [==============================] - 0s 85us/step - loss: 0.3805 - accuracy: 0.9221 - val_loss: 0.2808 - val_accuracy: 0.9765\n",
            "Epoch 32/150\n",
            "398/398 [==============================] - 0s 84us/step - loss: 0.4042 - accuracy: 0.9121 - val_loss: 0.2815 - val_accuracy: 0.9765\n",
            "Epoch 33/150\n",
            "398/398 [==============================] - 0s 84us/step - loss: 0.3922 - accuracy: 0.9246 - val_loss: 0.2785 - val_accuracy: 0.9765\n",
            "Epoch 34/150\n",
            "398/398 [==============================] - 0s 82us/step - loss: 0.3611 - accuracy: 0.9447 - val_loss: 0.2787 - val_accuracy: 0.9765\n",
            "Epoch 35/150\n",
            "398/398 [==============================] - 0s 81us/step - loss: 0.3925 - accuracy: 0.9196 - val_loss: 0.2823 - val_accuracy: 0.9882\n",
            "Epoch 36/150\n",
            "398/398 [==============================] - 0s 85us/step - loss: 0.3848 - accuracy: 0.9070 - val_loss: 0.2875 - val_accuracy: 0.9882\n",
            "Epoch 37/150\n",
            "398/398 [==============================] - 0s 84us/step - loss: 0.3686 - accuracy: 0.9221 - val_loss: 0.2918 - val_accuracy: 0.9647\n",
            "Epoch 38/150\n",
            "398/398 [==============================] - 0s 85us/step - loss: 0.3659 - accuracy: 0.9296 - val_loss: 0.2835 - val_accuracy: 0.9882\n",
            "Epoch 39/150\n",
            "398/398 [==============================] - 0s 84us/step - loss: 0.3816 - accuracy: 0.9146 - val_loss: 0.2840 - val_accuracy: 0.9882\n",
            "Epoch 40/150\n",
            "398/398 [==============================] - 0s 88us/step - loss: 0.3691 - accuracy: 0.9271 - val_loss: 0.2858 - val_accuracy: 0.9882\n",
            "Epoch 41/150\n",
            "398/398 [==============================] - 0s 83us/step - loss: 0.3838 - accuracy: 0.9095 - val_loss: 0.2879 - val_accuracy: 0.9882\n",
            "Epoch 42/150\n",
            "398/398 [==============================] - 0s 95us/step - loss: 0.3841 - accuracy: 0.9271 - val_loss: 0.2882 - val_accuracy: 0.9882\n",
            "Epoch 43/150\n",
            "398/398 [==============================] - 0s 93us/step - loss: 0.3924 - accuracy: 0.9146 - val_loss: 0.2862 - val_accuracy: 0.9882\n",
            "Epoch 44/150\n",
            "398/398 [==============================] - 0s 94us/step - loss: 0.3471 - accuracy: 0.9472 - val_loss: 0.2852 - val_accuracy: 0.9882\n",
            "Epoch 45/150\n",
            "398/398 [==============================] - 0s 89us/step - loss: 0.3940 - accuracy: 0.9196 - val_loss: 0.2777 - val_accuracy: 0.9765\n",
            "Epoch 46/150\n",
            "398/398 [==============================] - 0s 83us/step - loss: 0.4034 - accuracy: 0.9020 - val_loss: 0.2838 - val_accuracy: 0.9882\n",
            "Epoch 47/150\n",
            "398/398 [==============================] - 0s 87us/step - loss: 0.3757 - accuracy: 0.9221 - val_loss: 0.2821 - val_accuracy: 0.9882\n",
            "Epoch 48/150\n",
            "398/398 [==============================] - 0s 82us/step - loss: 0.3666 - accuracy: 0.9296 - val_loss: 0.2921 - val_accuracy: 0.9647\n",
            "Epoch 49/150\n",
            "398/398 [==============================] - 0s 86us/step - loss: 0.3820 - accuracy: 0.9246 - val_loss: 0.2849 - val_accuracy: 0.9882\n",
            "Epoch 50/150\n",
            "398/398 [==============================] - 0s 81us/step - loss: 0.3787 - accuracy: 0.9146 - val_loss: 0.2867 - val_accuracy: 0.9882\n",
            "Epoch 51/150\n",
            "398/398 [==============================] - 0s 92us/step - loss: 0.3863 - accuracy: 0.9146 - val_loss: 0.2896 - val_accuracy: 0.9765\n",
            "Epoch 52/150\n",
            "398/398 [==============================] - 0s 92us/step - loss: 0.3476 - accuracy: 0.9397 - val_loss: 0.2826 - val_accuracy: 0.9882\n",
            "Epoch 53/150\n",
            "398/398 [==============================] - 0s 91us/step - loss: 0.3923 - accuracy: 0.9271 - val_loss: 0.2884 - val_accuracy: 0.9882\n",
            "Epoch 54/150\n",
            "398/398 [==============================] - 0s 91us/step - loss: 0.3670 - accuracy: 0.9322 - val_loss: 0.2889 - val_accuracy: 0.9882\n",
            "Epoch 55/150\n",
            "398/398 [==============================] - 0s 89us/step - loss: 0.3827 - accuracy: 0.9246 - val_loss: 0.2973 - val_accuracy: 0.9647\n",
            "Epoch 56/150\n",
            "398/398 [==============================] - 0s 87us/step - loss: 0.3733 - accuracy: 0.9196 - val_loss: 0.2808 - val_accuracy: 0.9765\n",
            "Epoch 57/150\n",
            "398/398 [==============================] - 0s 82us/step - loss: 0.3414 - accuracy: 0.9472 - val_loss: 0.2814 - val_accuracy: 0.9882\n",
            "Epoch 58/150\n",
            "398/398 [==============================] - 0s 85us/step - loss: 0.3738 - accuracy: 0.9146 - val_loss: 0.2829 - val_accuracy: 0.9882\n",
            "Epoch 59/150\n",
            "398/398 [==============================] - 0s 102us/step - loss: 0.3981 - accuracy: 0.8995 - val_loss: 0.2815 - val_accuracy: 0.9882\n",
            "Epoch 60/150\n",
            "398/398 [==============================] - 0s 105us/step - loss: 0.3585 - accuracy: 0.9372 - val_loss: 0.2868 - val_accuracy: 0.9882\n",
            "Epoch 61/150\n",
            "398/398 [==============================] - 0s 88us/step - loss: 0.3949 - accuracy: 0.9171 - val_loss: 0.2841 - val_accuracy: 0.9882\n",
            "Epoch 62/150\n",
            "398/398 [==============================] - 0s 85us/step - loss: 0.3855 - accuracy: 0.9070 - val_loss: 0.2872 - val_accuracy: 0.9882\n",
            "Epoch 63/150\n",
            "398/398 [==============================] - 0s 84us/step - loss: 0.3748 - accuracy: 0.9347 - val_loss: 0.2836 - val_accuracy: 0.9882\n",
            "Epoch 64/150\n",
            "398/398 [==============================] - 0s 82us/step - loss: 0.3592 - accuracy: 0.9397 - val_loss: 0.2934 - val_accuracy: 0.9647\n",
            "Epoch 65/150\n",
            "398/398 [==============================] - 0s 87us/step - loss: 0.3568 - accuracy: 0.9322 - val_loss: 0.2862 - val_accuracy: 0.9882\n",
            "Epoch 66/150\n",
            "398/398 [==============================] - 0s 82us/step - loss: 0.3618 - accuracy: 0.9322 - val_loss: 0.2812 - val_accuracy: 0.9882\n",
            "Epoch 67/150\n",
            "398/398 [==============================] - 0s 91us/step - loss: 0.3548 - accuracy: 0.9347 - val_loss: 0.2790 - val_accuracy: 0.9765\n",
            "Epoch 68/150\n",
            "398/398 [==============================] - 0s 81us/step - loss: 0.3888 - accuracy: 0.9196 - val_loss: 0.2856 - val_accuracy: 0.9882\n",
            "Epoch 69/150\n",
            "398/398 [==============================] - 0s 85us/step - loss: 0.3930 - accuracy: 0.9196 - val_loss: 0.2888 - val_accuracy: 0.9765\n",
            "Epoch 70/150\n",
            "398/398 [==============================] - 0s 102us/step - loss: 0.3784 - accuracy: 0.9221 - val_loss: 0.2787 - val_accuracy: 0.9765\n",
            "Epoch 71/150\n",
            "398/398 [==============================] - 0s 87us/step - loss: 0.3634 - accuracy: 0.9121 - val_loss: 0.2841 - val_accuracy: 0.9882\n",
            "Epoch 72/150\n",
            "398/398 [==============================] - 0s 85us/step - loss: 0.3664 - accuracy: 0.9121 - val_loss: 0.2857 - val_accuracy: 0.9882\n",
            "Epoch 73/150\n",
            "398/398 [==============================] - 0s 81us/step - loss: 0.3664 - accuracy: 0.9271 - val_loss: 0.2860 - val_accuracy: 0.9882\n",
            "Epoch 74/150\n",
            "398/398 [==============================] - 0s 86us/step - loss: 0.4009 - accuracy: 0.9221 - val_loss: 0.2807 - val_accuracy: 0.9882\n",
            "Epoch 75/150\n",
            "398/398 [==============================] - 0s 88us/step - loss: 0.3582 - accuracy: 0.9296 - val_loss: 0.2812 - val_accuracy: 0.9882\n",
            "Epoch 76/150\n",
            "398/398 [==============================] - 0s 86us/step - loss: 0.3800 - accuracy: 0.9296 - val_loss: 0.2847 - val_accuracy: 0.9882\n",
            "Epoch 77/150\n",
            "398/398 [==============================] - 0s 92us/step - loss: 0.3678 - accuracy: 0.9296 - val_loss: 0.2800 - val_accuracy: 0.9882\n",
            "Epoch 78/150\n",
            "398/398 [==============================] - 0s 90us/step - loss: 0.3817 - accuracy: 0.9196 - val_loss: 0.2805 - val_accuracy: 0.9882\n",
            "Epoch 79/150\n",
            "398/398 [==============================] - 0s 89us/step - loss: 0.3611 - accuracy: 0.9221 - val_loss: 0.2861 - val_accuracy: 0.9882\n",
            "Epoch 80/150\n",
            "398/398 [==============================] - 0s 86us/step - loss: 0.3641 - accuracy: 0.9271 - val_loss: 0.2899 - val_accuracy: 0.9647\n",
            "Epoch 81/150\n",
            "398/398 [==============================] - 0s 83us/step - loss: 0.3706 - accuracy: 0.9221 - val_loss: 0.2842 - val_accuracy: 0.9882\n",
            "Epoch 82/150\n",
            "398/398 [==============================] - 0s 84us/step - loss: 0.3571 - accuracy: 0.9322 - val_loss: 0.2837 - val_accuracy: 0.9882\n",
            "Epoch 83/150\n",
            "398/398 [==============================] - 0s 85us/step - loss: 0.3618 - accuracy: 0.9246 - val_loss: 0.2806 - val_accuracy: 0.9882\n",
            "Epoch 84/150\n",
            "398/398 [==============================] - 0s 86us/step - loss: 0.3675 - accuracy: 0.9246 - val_loss: 0.2809 - val_accuracy: 0.9882\n",
            "Epoch 85/150\n",
            "398/398 [==============================] - 0s 83us/step - loss: 0.3728 - accuracy: 0.9121 - val_loss: 0.2882 - val_accuracy: 0.9647\n",
            "Epoch 86/150\n",
            "398/398 [==============================] - 0s 86us/step - loss: 0.4011 - accuracy: 0.9121 - val_loss: 0.2849 - val_accuracy: 0.9882\n",
            "Epoch 87/150\n",
            "398/398 [==============================] - 0s 84us/step - loss: 0.3690 - accuracy: 0.9322 - val_loss: 0.2843 - val_accuracy: 0.9882\n",
            "Epoch 88/150\n",
            "398/398 [==============================] - 0s 87us/step - loss: 0.4020 - accuracy: 0.9045 - val_loss: 0.2809 - val_accuracy: 0.9882\n",
            "Epoch 89/150\n",
            "398/398 [==============================] - 0s 102us/step - loss: 0.3853 - accuracy: 0.9322 - val_loss: 0.2870 - val_accuracy: 0.9882\n",
            "Epoch 90/150\n",
            "398/398 [==============================] - 0s 101us/step - loss: 0.3697 - accuracy: 0.9296 - val_loss: 0.2855 - val_accuracy: 0.9882\n",
            "Epoch 91/150\n",
            "398/398 [==============================] - 0s 83us/step - loss: 0.3852 - accuracy: 0.9146 - val_loss: 0.2892 - val_accuracy: 0.9647\n",
            "Epoch 92/150\n",
            "398/398 [==============================] - 0s 83us/step - loss: 0.3689 - accuracy: 0.9397 - val_loss: 0.2866 - val_accuracy: 0.9882\n",
            "Epoch 93/150\n",
            "398/398 [==============================] - 0s 86us/step - loss: 0.3868 - accuracy: 0.9246 - val_loss: 0.2897 - val_accuracy: 0.9647\n",
            "Epoch 94/150\n",
            "398/398 [==============================] - 0s 82us/step - loss: 0.3572 - accuracy: 0.9372 - val_loss: 0.2952 - val_accuracy: 0.9647\n",
            "Epoch 95/150\n",
            "398/398 [==============================] - 0s 92us/step - loss: 0.3884 - accuracy: 0.9171 - val_loss: 0.2865 - val_accuracy: 0.9882\n",
            "Epoch 96/150\n",
            "398/398 [==============================] - 0s 98us/step - loss: 0.3819 - accuracy: 0.9146 - val_loss: 0.2822 - val_accuracy: 0.9882\n",
            "Epoch 97/150\n",
            "398/398 [==============================] - 0s 107us/step - loss: 0.3511 - accuracy: 0.9322 - val_loss: 0.2841 - val_accuracy: 0.9882\n",
            "Epoch 98/150\n",
            "398/398 [==============================] - 0s 110us/step - loss: 0.3838 - accuracy: 0.9146 - val_loss: 0.2804 - val_accuracy: 0.9882\n",
            "Epoch 99/150\n",
            "398/398 [==============================] - 0s 82us/step - loss: 0.3642 - accuracy: 0.9271 - val_loss: 0.2844 - val_accuracy: 0.9882\n",
            "Epoch 100/150\n",
            "398/398 [==============================] - 0s 82us/step - loss: 0.3704 - accuracy: 0.9171 - val_loss: 0.2833 - val_accuracy: 0.9882\n",
            "Epoch 101/150\n",
            "398/398 [==============================] - 0s 91us/step - loss: 0.3823 - accuracy: 0.9070 - val_loss: 0.2809 - val_accuracy: 0.9882\n",
            "Epoch 102/150\n",
            "398/398 [==============================] - 0s 86us/step - loss: 0.3666 - accuracy: 0.9397 - val_loss: 0.2838 - val_accuracy: 0.9882\n",
            "Epoch 103/150\n",
            "398/398 [==============================] - 0s 83us/step - loss: 0.3800 - accuracy: 0.9196 - val_loss: 0.2805 - val_accuracy: 0.9882\n",
            "Epoch 104/150\n",
            "398/398 [==============================] - 0s 86us/step - loss: 0.3805 - accuracy: 0.9146 - val_loss: 0.2805 - val_accuracy: 0.9882\n",
            "Epoch 105/150\n",
            "398/398 [==============================] - 0s 83us/step - loss: 0.3972 - accuracy: 0.9121 - val_loss: 0.2808 - val_accuracy: 0.9882\n",
            "Epoch 106/150\n",
            "398/398 [==============================] - 0s 84us/step - loss: 0.3689 - accuracy: 0.9322 - val_loss: 0.2807 - val_accuracy: 0.9882\n",
            "Epoch 107/150\n",
            "398/398 [==============================] - 0s 84us/step - loss: 0.4117 - accuracy: 0.8869 - val_loss: 0.2818 - val_accuracy: 0.9882\n",
            "Epoch 108/150\n",
            "398/398 [==============================] - 0s 83us/step - loss: 0.3894 - accuracy: 0.9121 - val_loss: 0.2851 - val_accuracy: 0.9882\n",
            "Epoch 109/150\n",
            "398/398 [==============================] - 0s 83us/step - loss: 0.3802 - accuracy: 0.9196 - val_loss: 0.2912 - val_accuracy: 0.9647\n",
            "Epoch 110/150\n",
            "398/398 [==============================] - 0s 82us/step - loss: 0.3720 - accuracy: 0.9221 - val_loss: 0.2850 - val_accuracy: 0.9882\n",
            "Epoch 111/150\n",
            "398/398 [==============================] - 0s 82us/step - loss: 0.3696 - accuracy: 0.9322 - val_loss: 0.2849 - val_accuracy: 0.9882\n",
            "Epoch 112/150\n",
            "398/398 [==============================] - 0s 82us/step - loss: 0.3740 - accuracy: 0.9221 - val_loss: 0.2852 - val_accuracy: 0.9882\n",
            "Epoch 113/150\n",
            "398/398 [==============================] - 0s 82us/step - loss: 0.3672 - accuracy: 0.9246 - val_loss: 0.2815 - val_accuracy: 0.9882\n",
            "Epoch 114/150\n",
            "398/398 [==============================] - 0s 84us/step - loss: 0.3841 - accuracy: 0.9121 - val_loss: 0.2850 - val_accuracy: 0.9882\n",
            "Epoch 115/150\n",
            "398/398 [==============================] - 0s 92us/step - loss: 0.3774 - accuracy: 0.9347 - val_loss: 0.2836 - val_accuracy: 0.9882\n",
            "Epoch 116/150\n",
            "398/398 [==============================] - 0s 84us/step - loss: 0.3765 - accuracy: 0.9221 - val_loss: 0.2827 - val_accuracy: 0.9882\n",
            "Epoch 117/150\n",
            "398/398 [==============================] - 0s 85us/step - loss: 0.3562 - accuracy: 0.9422 - val_loss: 0.2806 - val_accuracy: 0.9882\n",
            "Epoch 118/150\n",
            "398/398 [==============================] - 0s 78us/step - loss: 0.3415 - accuracy: 0.9447 - val_loss: 0.2900 - val_accuracy: 0.9647\n",
            "Epoch 119/150\n",
            "398/398 [==============================] - 0s 83us/step - loss: 0.3707 - accuracy: 0.9246 - val_loss: 0.2887 - val_accuracy: 0.9647\n",
            "Epoch 120/150\n",
            "398/398 [==============================] - 0s 87us/step - loss: 0.3792 - accuracy: 0.9070 - val_loss: 0.2837 - val_accuracy: 0.9882\n",
            "Epoch 121/150\n",
            "398/398 [==============================] - 0s 87us/step - loss: 0.3571 - accuracy: 0.9322 - val_loss: 0.2806 - val_accuracy: 0.9882\n",
            "Epoch 122/150\n",
            "398/398 [==============================] - 0s 91us/step - loss: 0.3742 - accuracy: 0.9296 - val_loss: 0.2780 - val_accuracy: 0.9765\n",
            "Epoch 123/150\n",
            "398/398 [==============================] - 0s 89us/step - loss: 0.3868 - accuracy: 0.9221 - val_loss: 0.2819 - val_accuracy: 0.9882\n",
            "Epoch 124/150\n",
            "398/398 [==============================] - 0s 91us/step - loss: 0.3583 - accuracy: 0.9347 - val_loss: 0.2820 - val_accuracy: 0.9882\n",
            "Epoch 125/150\n",
            "398/398 [==============================] - 0s 82us/step - loss: 0.3760 - accuracy: 0.9221 - val_loss: 0.2849 - val_accuracy: 0.9882\n",
            "Epoch 126/150\n",
            "398/398 [==============================] - 0s 98us/step - loss: 0.3923 - accuracy: 0.9121 - val_loss: 0.2902 - val_accuracy: 0.9647\n",
            "Epoch 127/150\n",
            "398/398 [==============================] - 0s 86us/step - loss: 0.3720 - accuracy: 0.9246 - val_loss: 0.2901 - val_accuracy: 0.9647\n",
            "Epoch 128/150\n",
            "398/398 [==============================] - 0s 85us/step - loss: 0.3511 - accuracy: 0.9296 - val_loss: 0.2905 - val_accuracy: 0.9647\n",
            "Epoch 129/150\n",
            "398/398 [==============================] - 0s 85us/step - loss: 0.4249 - accuracy: 0.8995 - val_loss: 0.2884 - val_accuracy: 0.9647\n",
            "Epoch 130/150\n",
            "398/398 [==============================] - 0s 85us/step - loss: 0.3771 - accuracy: 0.9171 - val_loss: 0.2850 - val_accuracy: 0.9882\n",
            "Epoch 131/150\n",
            "398/398 [==============================] - 0s 90us/step - loss: 0.3475 - accuracy: 0.9347 - val_loss: 0.2868 - val_accuracy: 0.9882\n",
            "Epoch 132/150\n",
            "398/398 [==============================] - 0s 83us/step - loss: 0.3880 - accuracy: 0.9246 - val_loss: 0.2921 - val_accuracy: 0.9647\n",
            "Epoch 133/150\n",
            "398/398 [==============================] - 0s 85us/step - loss: 0.3430 - accuracy: 0.9322 - val_loss: 0.2777 - val_accuracy: 0.9765\n",
            "Epoch 134/150\n",
            "398/398 [==============================] - 0s 85us/step - loss: 0.3759 - accuracy: 0.9196 - val_loss: 0.2866 - val_accuracy: 0.9882\n",
            "Epoch 135/150\n",
            "398/398 [==============================] - 0s 84us/step - loss: 0.3894 - accuracy: 0.9146 - val_loss: 0.2874 - val_accuracy: 0.9647\n",
            "Epoch 136/150\n",
            "398/398 [==============================] - 0s 88us/step - loss: 0.3776 - accuracy: 0.9095 - val_loss: 0.2809 - val_accuracy: 0.9882\n",
            "Epoch 137/150\n",
            "398/398 [==============================] - 0s 84us/step - loss: 0.3958 - accuracy: 0.9121 - val_loss: 0.2825 - val_accuracy: 0.9882\n",
            "Epoch 138/150\n",
            "398/398 [==============================] - 0s 98us/step - loss: 0.3816 - accuracy: 0.9296 - val_loss: 0.2785 - val_accuracy: 0.9765\n",
            "Epoch 139/150\n",
            "398/398 [==============================] - 0s 85us/step - loss: 0.3665 - accuracy: 0.9246 - val_loss: 0.2793 - val_accuracy: 0.9765\n",
            "Epoch 140/150\n",
            "398/398 [==============================] - 0s 122us/step - loss: 0.3827 - accuracy: 0.8995 - val_loss: 0.2788 - val_accuracy: 0.9765\n",
            "Epoch 141/150\n",
            "398/398 [==============================] - 0s 89us/step - loss: 0.3914 - accuracy: 0.9070 - val_loss: 0.2853 - val_accuracy: 0.9882\n",
            "Epoch 142/150\n",
            "398/398 [==============================] - 0s 82us/step - loss: 0.3873 - accuracy: 0.9246 - val_loss: 0.2853 - val_accuracy: 0.9882\n",
            "Epoch 143/150\n",
            "398/398 [==============================] - 0s 102us/step - loss: 0.3487 - accuracy: 0.9322 - val_loss: 0.2885 - val_accuracy: 0.9647\n",
            "Epoch 144/150\n",
            "398/398 [==============================] - 0s 104us/step - loss: 0.3550 - accuracy: 0.9372 - val_loss: 0.2839 - val_accuracy: 0.9882\n",
            "Epoch 145/150\n",
            "398/398 [==============================] - 0s 99us/step - loss: 0.3909 - accuracy: 0.9121 - val_loss: 0.2878 - val_accuracy: 0.9765\n",
            "Epoch 146/150\n",
            "398/398 [==============================] - 0s 96us/step - loss: 0.3791 - accuracy: 0.9397 - val_loss: 0.2814 - val_accuracy: 0.9882\n",
            "Epoch 147/150\n",
            "398/398 [==============================] - 0s 103us/step - loss: 0.4037 - accuracy: 0.9070 - val_loss: 0.2825 - val_accuracy: 0.9882\n",
            "Epoch 148/150\n",
            "398/398 [==============================] - 0s 92us/step - loss: 0.3611 - accuracy: 0.9221 - val_loss: 0.2864 - val_accuracy: 0.9882\n",
            "Epoch 149/150\n",
            "398/398 [==============================] - 0s 84us/step - loss: 0.3785 - accuracy: 0.9171 - val_loss: 0.2792 - val_accuracy: 0.9765\n",
            "Epoch 150/150\n",
            "398/398 [==============================] - 0s 81us/step - loss: 0.3730 - accuracy: 0.9372 - val_loss: 0.2841 - val_accuracy: 0.9882\n"
          ],
          "name": "stdout"
        }
      ]
    },
    {
      "cell_type": "code",
      "metadata": {
        "id": "DuO00F3w_kXv",
        "colab": {
          "base_uri": "https://localhost:8080/",
          "height": 51
        },
        "outputId": "53b5290b-ac44-4433-bef7-a5a3bae74481"
      },
      "source": [
        "score=model1.evaluate(X_test,Y_test,verbose=1)\n",
        "print(score)"
      ],
      "execution_count": null,
      "outputs": [
        {
          "output_type": "stream",
          "text": [
            "86/86 [==============================] - 0s 90us/step\n",
            "[0.31698496189228326, 0.9534883499145508]\n"
          ],
          "name": "stdout"
        }
      ]
    },
    {
      "cell_type": "code",
      "metadata": {
        "id": "l1Wh9WQS_x19",
        "colab": {
          "base_uri": "https://localhost:8080/",
          "height": 295
        },
        "outputId": "ee61f36d-8d36-494b-888b-aa9fcca866d5"
      },
      "source": [
        "import matplotlib.pyplot as plt\n",
        "plt.plot(hist1.history['loss'])\n",
        "plt.plot(hist1.history['val_loss'])\n",
        "plt.title('Model loss')\n",
        "plt.ylabel('Loss')\n",
        "plt.xlabel('Epoch')\n",
        "plt.legend(['Train', 'Val'], loc='upper right')\n",
        "plt.show()"
      ],
      "execution_count": null,
      "outputs": [
        {
          "output_type": "display_data",
          "data": {
            "image/png": "[encoded data removed]",
            "text/plain": [
              "<Figure size 432x288 with 1 Axes>"
            ]
          },
          "metadata": {
            "tags": [],
            "needs_background": "light"
          }
        }
      ]
    },
    {
      "cell_type": "code",
      "metadata": {
        "id": "DzhK5blA_7_e",
        "colab": {
          "base_uri": "https://localhost:8080/",
          "height": 295
        },
        "outputId": "05ff7561-6c18-49e2-8f14-bf99cacca1fc"
      },
      "source": [
        "plt.plot(hist1.history['accuracy'])\n",
        "plt.plot(hist1.history['val_accuracy'])\n",
        "plt.title('Model accuracy')\n",
        "plt.ylabel('Accuracy')\n",
        "plt.xlabel('Epoch')\n",
        "plt.legend(['Train', 'Val'], loc='lower right')\n",
        "plt.show()"
      ],
      "execution_count": null,
      "outputs": [
        {
          "output_type": "display_data",
          "data": {
            "image/png": "[encoded data removed]",
            "text/plain": [
              "<Figure size 432x288 with 1 Axes>"
            ]
          },
          "metadata": {
            "tags": [],
            "needs_background": "light"
          }
        }
      ]
    },
    {
      "cell_type": "code",
      "metadata": {
        "id": "nsmK8TY9Bb3E",
        "colab": {
          "base_uri": "https://localhost:8080/",
          "height": 71
        },
        "outputId": "648c6ac7-2c1e-42dc-defb-434b83ac6c9c"
      },
      "source": [
        "from sklearn.metrics import f1_score, confusion_matrix\n",
        "from sklearn.metrics import accuracy_score, recall_score\n",
        "import seaborn as sns"
      ],
      "execution_count": null,
      "outputs": [
        {
          "output_type": "stream",
          "text": [
            "/usr/local/lib/python3.6/dist-packages/statsmodels/tools/_testing.py:19: FutureWarning: pandas.util.testing is deprecated. Use the functions in the public API at pandas.testing instead.\n",
            "  import pandas.util.testing as tm\n"
          ],
          "name": "stderr"
        }
      ]
    },
    {
      "cell_type": "code",
      "metadata": {
        "id": "PnIIv0UCBhqp",
        "colab": {
          "base_uri": "https://localhost:8080/",
          "height": 333
        },
        "outputId": "70d71252-5336-492d-b2e9-519e72c7434e"
      },
      "source": [
        "recall = recall_score(Y_test,model1.predict(X_test).round())\n",
        "print('Recall is: ', recall)\n",
        "accuracy = accuracy_score(Y_test,model1.predict(X_test).round())\n",
        "print('Accuracy is: ', accuracy)\n",
        "f1 = f1_score(Y_test,model1.predict(X_test).round())\n",
        "print('F1 score is: ', f1)\n",
        "cm = confusion_matrix(Y_test,model1.predict(X_test).round())\n",
        "sns.heatmap(cm,annot=True,fmt=\"d\")"
      ],
      "execution_count": null,
      "outputs": [
        {
          "output_type": "stream",
          "text": [
            "Recall is:  0.8857142857142857\n",
            "Accuracy is:  0.9534883720930233\n",
            "F1 score is:  0.9393939393939393\n"
          ],
          "name": "stdout"
        },
        {
          "output_type": "execute_result",
          "data": {
            "text/plain": [
              "<matplotlib.axes._subplots.AxesSubplot at 0x7f233cd507b8>"
            ]
          },
          "metadata": {
            "tags": []
          },
          "execution_count": 27
        },
        {
          "output_type": "display_data",
          "data": {
            "image/png": "[encoded data removed]",
            "text/plain": [
              "<Figure size 432x288 with 2 Axes>"
            ]
          },
          "metadata": {
            "tags": [],
            "needs_background": "light"
          }
        }
      ]
    },
    {
      "cell_type": "code",
      "metadata": {
        "id": "bYye0YA4LBFF"
      },
      "source": [
        "from sklearn.neural_network import MLPClassifier"
      ],
      "execution_count": null,
      "outputs": []
    },
    {
      "cell_type": "code",
      "metadata": {
        "id": "Ej-GKNfNLOXS"
      },
      "source": [
        "mlp = MLPClassifier(hidden_layer_sizes=(9,9,9),max_iter=500)"
      ],
      "execution_count": null,
      "outputs": []
    },
    {
      "cell_type": "code",
      "metadata": {
        "id": "CxXZ4sQ6LjYu"
      },
      "source": [
        "hist2=mlp.fit(X_train,Y_train)"
      ],
      "execution_count": null,
      "outputs": []
    },
    {
      "cell_type": "code",
      "metadata": {
        "id": "vbGrOJ-BL0rU"
      },
      "source": [
        "predictions = mlp.predict(X_test)"
      ],
      "execution_count": null,
      "outputs": []
    },
    {
      "cell_type": "code",
      "metadata": {
        "id": "P4O_sXfTL70w"
      },
      "source": [
        "from sklearn.metrics import f1_score, confusion_matrix\n",
        "from sklearn.metrics import accuracy_score, recall_score\n",
        "import seaborn as sns"
      ],
      "execution_count": null,
      "outputs": []
    },
    {
      "cell_type": "code",
      "metadata": {
        "id": "5Q7CLJ-XMZfo",
        "colab": {
          "base_uri": "https://localhost:8080/",
          "height": 299
        },
        "outputId": "6a69c2e6-20c4-4216-bf24-81cc1dd08efd"
      },
      "source": [
        "\n",
        "accuracy = accuracy_score(Y_test,mlp.predict(X_test).round())\n",
        "print('Accuracy is: ', accuracy)\n",
        "\n",
        "cm = confusion_matrix(Y_test,mlp.predict(X_test).round())\n",
        "sns.heatmap(cm,annot=True,fmt=\"d\")"
      ],
      "execution_count": null,
      "outputs": [
        {
          "output_type": "stream",
          "text": [
            "Accuracy is:  0.9651162790697675\n"
          ],
          "name": "stdout"
        },
        {
          "output_type": "execute_result",
          "data": {
            "text/plain": [
              "<matplotlib.axes._subplots.AxesSubplot at 0x7f233953b588>"
            ]
          },
          "metadata": {
            "tags": []
          },
          "execution_count": 78
        },
        {
          "output_type": "display_data",
          "data": {
            "image/png": "[encoded data removed]",
            "text/plain": [
              "<Figure size 432x288 with 2 Axes>"
            ]
          },
          "metadata": {
            "tags": [],
            "needs_background": "light"
          }
        }
      ]
    },
    {
      "cell_type": "code",
      "metadata": {
        "id": "3XlD1eobNJnv"
      },
      "source": [
        "model2 = Sequential([\n",
        "    Dense(8, activation='relu',kernel_regularizer=regularizers.l2(0.01), input_shape=(9,)),Dropout(0.3),\n",
        "    Dense(8, activation='relu',kernel_regularizer=regularizers.l2(0.01)),Dropout(0.3),\n",
        "\n",
        "     Dense(8, activation='relu',kernel_regularizer=regularizers.l2(0.01)),Dropout(0.3),\n",
        "\n",
        "    Dense(1, activation='sigmoid',kernel_regularizer=regularizers.l2(0.01)),\n",
        "])"
      ],
      "execution_count": null,
      "outputs": []
    },
    {
      "cell_type": "code",
      "metadata": {
        "id": "yp_CSl3ZT8kA"
      },
      "source": [
        "model2.compile(optimizer='adam',\n",
        "              loss='binary_crossentropy',\n",
        "              metrics=['accuracy'])"
      ],
      "execution_count": null,
      "outputs": []
    },
    {
      "cell_type": "code",
      "metadata": {
        "id": "dHpatf89T_bF",
        "colab": {
          "base_uri": "https://localhost:8080/",
          "height": 1000
        },
        "outputId": "f1517a5f-b199-4dc5-f4f4-e58e8338725e"
      },
      "source": [
        "hist2=model2.fit(X_train, Y_train,\n",
        "          batch_size=20, epochs=150,\n",
        "          validation_data=(X_val, Y_val))"
      ],
      "execution_count": null,
      "outputs": [
        {
          "output_type": "stream",
          "text": [
            "Train on 398 samples, validate on 85 samples\n",
            "Epoch 1/150\n",
            "398/398 [==============================] - 0s 670us/step - loss: 0.9690 - accuracy: 0.4523 - val_loss: 0.9507 - val_accuracy: 0.5294\n",
            "Epoch 2/150\n",
            "398/398 [==============================] - 0s 109us/step - loss: 0.9365 - accuracy: 0.5503 - val_loss: 0.9256 - val_accuracy: 0.6941\n",
            "Epoch 3/150\n",
            "398/398 [==============================] - 0s 84us/step - loss: 0.9111 - accuracy: 0.6457 - val_loss: 0.8995 - val_accuracy: 0.6706\n",
            "Epoch 4/150\n",
            "398/398 [==============================] - 0s 83us/step - loss: 0.8902 - accuracy: 0.6608 - val_loss: 0.8773 - val_accuracy: 0.6706\n",
            "Epoch 5/150\n",
            "398/398 [==============================] - 0s 101us/step - loss: 0.8679 - accuracy: 0.7085 - val_loss: 0.8571 - val_accuracy: 0.6706\n",
            "Epoch 6/150\n",
            "398/398 [==============================] - 0s 92us/step - loss: 0.8480 - accuracy: 0.7035 - val_loss: 0.8369 - val_accuracy: 0.6706\n",
            "Epoch 7/150\n",
            "398/398 [==============================] - 0s 86us/step - loss: 0.8314 - accuracy: 0.7085 - val_loss: 0.8179 - val_accuracy: 0.6706\n",
            "Epoch 8/150\n",
            "398/398 [==============================] - 0s 87us/step - loss: 0.8090 - accuracy: 0.7236 - val_loss: 0.7984 - val_accuracy: 0.6824\n",
            "Epoch 9/150\n",
            "398/398 [==============================] - 0s 80us/step - loss: 0.7960 - accuracy: 0.6935 - val_loss: 0.7802 - val_accuracy: 0.6824\n",
            "Epoch 10/150\n",
            "398/398 [==============================] - 0s 84us/step - loss: 0.7794 - accuracy: 0.7236 - val_loss: 0.7637 - val_accuracy: 0.6824\n",
            "Epoch 11/150\n",
            "398/398 [==============================] - 0s 84us/step - loss: 0.7602 - accuracy: 0.7362 - val_loss: 0.7442 - val_accuracy: 0.7059\n",
            "Epoch 12/150\n",
            "398/398 [==============================] - 0s 85us/step - loss: 0.7472 - accuracy: 0.7588 - val_loss: 0.7240 - val_accuracy: 0.7529\n",
            "Epoch 13/150\n",
            "398/398 [==============================] - 0s 84us/step - loss: 0.7251 - accuracy: 0.7638 - val_loss: 0.7045 - val_accuracy: 0.7647\n",
            "Epoch 14/150\n",
            "398/398 [==============================] - 0s 89us/step - loss: 0.7053 - accuracy: 0.8065 - val_loss: 0.6771 - val_accuracy: 0.8235\n",
            "Epoch 15/150\n",
            "398/398 [==============================] - 0s 116us/step - loss: 0.6816 - accuracy: 0.8317 - val_loss: 0.6468 - val_accuracy: 0.9176\n",
            "Epoch 16/150\n",
            "398/398 [==============================] - 0s 86us/step - loss: 0.6730 - accuracy: 0.7990 - val_loss: 0.6193 - val_accuracy: 0.9176\n",
            "Epoch 17/150\n",
            "398/398 [==============================] - 0s 87us/step - loss: 0.6491 - accuracy: 0.8266 - val_loss: 0.5924 - val_accuracy: 0.9765\n",
            "Epoch 18/150\n",
            "398/398 [==============================] - 0s 91us/step - loss: 0.6271 - accuracy: 0.8015 - val_loss: 0.5660 - val_accuracy: 0.9765\n",
            "Epoch 19/150\n",
            "398/398 [==============================] - 0s 86us/step - loss: 0.5865 - accuracy: 0.8518 - val_loss: 0.5350 - val_accuracy: 0.9765\n",
            "Epoch 20/150\n",
            "398/398 [==============================] - 0s 90us/step - loss: 0.5660 - accuracy: 0.8618 - val_loss: 0.5068 - val_accuracy: 0.9765\n",
            "Epoch 21/150\n",
            "398/398 [==============================] - 0s 83us/step - loss: 0.5856 - accuracy: 0.8317 - val_loss: 0.4839 - val_accuracy: 0.9765\n",
            "Epoch 22/150\n",
            "398/398 [==============================] - 0s 86us/step - loss: 0.5396 - accuracy: 0.8769 - val_loss: 0.4614 - val_accuracy: 0.9765\n",
            "Epoch 23/150\n",
            "398/398 [==============================] - 0s 100us/step - loss: 0.5315 - accuracy: 0.8668 - val_loss: 0.4407 - val_accuracy: 0.9765\n",
            "Epoch 24/150\n",
            "398/398 [==============================] - 0s 86us/step - loss: 0.5029 - accuracy: 0.8693 - val_loss: 0.4210 - val_accuracy: 0.9765\n",
            "Epoch 25/150\n",
            "398/398 [==============================] - 0s 91us/step - loss: 0.4838 - accuracy: 0.8894 - val_loss: 0.4086 - val_accuracy: 0.9647\n",
            "Epoch 26/150\n",
            "398/398 [==============================] - 0s 103us/step - loss: 0.4669 - accuracy: 0.8920 - val_loss: 0.3921 - val_accuracy: 0.9647\n",
            "Epoch 27/150\n",
            "398/398 [==============================] - 0s 87us/step - loss: 0.4573 - accuracy: 0.9070 - val_loss: 0.3827 - val_accuracy: 0.9765\n",
            "Epoch 28/150\n",
            "398/398 [==============================] - 0s 85us/step - loss: 0.4625 - accuracy: 0.8869 - val_loss: 0.3719 - val_accuracy: 0.9765\n",
            "Epoch 29/150\n",
            "398/398 [==============================] - 0s 101us/step - loss: 0.4794 - accuracy: 0.8719 - val_loss: 0.3599 - val_accuracy: 0.9647\n",
            "Epoch 30/150\n",
            "398/398 [==============================] - 0s 87us/step - loss: 0.4539 - accuracy: 0.8920 - val_loss: 0.3562 - val_accuracy: 0.9647\n",
            "Epoch 31/150\n",
            "398/398 [==============================] - 0s 95us/step - loss: 0.4368 - accuracy: 0.9121 - val_loss: 0.3461 - val_accuracy: 0.9647\n",
            "Epoch 32/150\n",
            "398/398 [==============================] - 0s 95us/step - loss: 0.4223 - accuracy: 0.9221 - val_loss: 0.3417 - val_accuracy: 0.9647\n",
            "Epoch 33/150\n",
            "398/398 [==============================] - 0s 86us/step - loss: 0.4059 - accuracy: 0.9246 - val_loss: 0.3379 - val_accuracy: 0.9647\n",
            "Epoch 34/150\n",
            "398/398 [==============================] - 0s 87us/step - loss: 0.4410 - accuracy: 0.8894 - val_loss: 0.3325 - val_accuracy: 0.9647\n",
            "Epoch 35/150\n",
            "398/398 [==============================] - 0s 93us/step - loss: 0.4215 - accuracy: 0.9121 - val_loss: 0.3323 - val_accuracy: 0.9765\n",
            "Epoch 36/150\n",
            "398/398 [==============================] - 0s 92us/step - loss: 0.4104 - accuracy: 0.9070 - val_loss: 0.3373 - val_accuracy: 0.9647\n",
            "Epoch 37/150\n",
            "398/398 [==============================] - 0s 89us/step - loss: 0.3982 - accuracy: 0.9246 - val_loss: 0.3356 - val_accuracy: 0.9647\n",
            "Epoch 38/150\n",
            "398/398 [==============================] - 0s 86us/step - loss: 0.4040 - accuracy: 0.9196 - val_loss: 0.3265 - val_accuracy: 0.9765\n",
            "Epoch 39/150\n",
            "398/398 [==============================] - 0s 84us/step - loss: 0.4006 - accuracy: 0.9045 - val_loss: 0.3283 - val_accuracy: 0.9647\n",
            "Epoch 40/150\n",
            "398/398 [==============================] - 0s 101us/step - loss: 0.4114 - accuracy: 0.9146 - val_loss: 0.3254 - val_accuracy: 0.9765\n",
            "Epoch 41/150\n",
            "398/398 [==============================] - 0s 92us/step - loss: 0.4151 - accuracy: 0.9020 - val_loss: 0.3105 - val_accuracy: 0.9765\n",
            "Epoch 42/150\n",
            "398/398 [==============================] - 0s 90us/step - loss: 0.3977 - accuracy: 0.9271 - val_loss: 0.3245 - val_accuracy: 0.9647\n",
            "Epoch 43/150\n",
            "398/398 [==============================] - 0s 85us/step - loss: 0.3939 - accuracy: 0.9271 - val_loss: 0.3218 - val_accuracy: 0.9765\n",
            "Epoch 44/150\n",
            "398/398 [==============================] - 0s 84us/step - loss: 0.3886 - accuracy: 0.9246 - val_loss: 0.3134 - val_accuracy: 0.9765\n",
            "Epoch 45/150\n",
            "398/398 [==============================] - 0s 91us/step - loss: 0.3854 - accuracy: 0.9322 - val_loss: 0.3075 - val_accuracy: 0.9765\n",
            "Epoch 46/150\n",
            "398/398 [==============================] - 0s 84us/step - loss: 0.3732 - accuracy: 0.9296 - val_loss: 0.3115 - val_accuracy: 0.9765\n",
            "Epoch 47/150\n",
            "398/398 [==============================] - 0s 93us/step - loss: 0.3927 - accuracy: 0.9221 - val_loss: 0.3076 - val_accuracy: 0.9765\n",
            "Epoch 48/150\n",
            "398/398 [==============================] - 0s 87us/step - loss: 0.4033 - accuracy: 0.9171 - val_loss: 0.3096 - val_accuracy: 0.9765\n",
            "Epoch 49/150\n",
            "398/398 [==============================] - 0s 86us/step - loss: 0.3990 - accuracy: 0.9322 - val_loss: 0.3110 - val_accuracy: 0.9765\n",
            "Epoch 50/150\n",
            "398/398 [==============================] - 0s 83us/step - loss: 0.3709 - accuracy: 0.9296 - val_loss: 0.3207 - val_accuracy: 0.9647\n",
            "Epoch 51/150\n",
            "398/398 [==============================] - 0s 84us/step - loss: 0.4045 - accuracy: 0.9171 - val_loss: 0.3070 - val_accuracy: 0.9765\n",
            "Epoch 52/150\n",
            "398/398 [==============================] - 0s 88us/step - loss: 0.3918 - accuracy: 0.9121 - val_loss: 0.3063 - val_accuracy: 0.9765\n",
            "Epoch 53/150\n",
            "398/398 [==============================] - 0s 86us/step - loss: 0.3923 - accuracy: 0.9045 - val_loss: 0.3121 - val_accuracy: 0.9647\n",
            "Epoch 54/150\n",
            "398/398 [==============================] - 0s 90us/step - loss: 0.3734 - accuracy: 0.9271 - val_loss: 0.3060 - val_accuracy: 0.9765\n",
            "Epoch 55/150\n",
            "398/398 [==============================] - 0s 91us/step - loss: 0.3786 - accuracy: 0.9271 - val_loss: 0.3052 - val_accuracy: 0.9765\n",
            "Epoch 56/150\n",
            "398/398 [==============================] - 0s 92us/step - loss: 0.3730 - accuracy: 0.9296 - val_loss: 0.3096 - val_accuracy: 0.9647\n",
            "Epoch 57/150\n",
            "398/398 [==============================] - 0s 102us/step - loss: 0.3928 - accuracy: 0.9296 - val_loss: 0.2993 - val_accuracy: 0.9882\n",
            "Epoch 58/150\n",
            "398/398 [==============================] - 0s 100us/step - loss: 0.3669 - accuracy: 0.9296 - val_loss: 0.3108 - val_accuracy: 0.9647\n",
            "Epoch 59/150\n",
            "398/398 [==============================] - 0s 95us/step - loss: 0.3678 - accuracy: 0.9422 - val_loss: 0.2956 - val_accuracy: 0.9765\n",
            "Epoch 60/150\n",
            "398/398 [==============================] - 0s 90us/step - loss: 0.3705 - accuracy: 0.9296 - val_loss: 0.3062 - val_accuracy: 0.9647\n",
            "Epoch 61/150\n",
            "398/398 [==============================] - 0s 94us/step - loss: 0.3528 - accuracy: 0.9422 - val_loss: 0.2977 - val_accuracy: 0.9882\n",
            "Epoch 62/150\n",
            "398/398 [==============================] - 0s 88us/step - loss: 0.4058 - accuracy: 0.9146 - val_loss: 0.3026 - val_accuracy: 0.9765\n",
            "Epoch 63/150\n",
            "398/398 [==============================] - 0s 86us/step - loss: 0.3580 - accuracy: 0.9296 - val_loss: 0.3045 - val_accuracy: 0.9647\n",
            "Epoch 64/150\n",
            "398/398 [==============================] - 0s 89us/step - loss: 0.3680 - accuracy: 0.9196 - val_loss: 0.3020 - val_accuracy: 0.9765\n",
            "Epoch 65/150\n",
            "398/398 [==============================] - 0s 89us/step - loss: 0.3627 - accuracy: 0.9271 - val_loss: 0.3010 - val_accuracy: 0.9765\n",
            "Epoch 66/150\n",
            "398/398 [==============================] - 0s 87us/step - loss: 0.3638 - accuracy: 0.9296 - val_loss: 0.3014 - val_accuracy: 0.9765\n",
            "Epoch 67/150\n",
            "398/398 [==============================] - 0s 87us/step - loss: 0.3733 - accuracy: 0.9221 - val_loss: 0.2992 - val_accuracy: 0.9765\n",
            "Epoch 68/150\n",
            "398/398 [==============================] - 0s 87us/step - loss: 0.3543 - accuracy: 0.9246 - val_loss: 0.2945 - val_accuracy: 0.9882\n",
            "Epoch 69/150\n",
            "398/398 [==============================] - 0s 85us/step - loss: 0.3610 - accuracy: 0.9347 - val_loss: 0.2994 - val_accuracy: 0.9765\n",
            "Epoch 70/150\n",
            "398/398 [==============================] - 0s 96us/step - loss: 0.3678 - accuracy: 0.9296 - val_loss: 0.2987 - val_accuracy: 0.9765\n",
            "Epoch 71/150\n",
            "398/398 [==============================] - 0s 97us/step - loss: 0.3734 - accuracy: 0.9347 - val_loss: 0.2954 - val_accuracy: 0.9765\n",
            "Epoch 72/150\n",
            "398/398 [==============================] - 0s 91us/step - loss: 0.3511 - accuracy: 0.9447 - val_loss: 0.3087 - val_accuracy: 0.9647\n",
            "Epoch 73/150\n",
            "398/398 [==============================] - 0s 107us/step - loss: 0.3706 - accuracy: 0.9372 - val_loss: 0.2960 - val_accuracy: 0.9765\n",
            "Epoch 74/150\n",
            "398/398 [==============================] - 0s 84us/step - loss: 0.3909 - accuracy: 0.9296 - val_loss: 0.2978 - val_accuracy: 0.9765\n",
            "Epoch 75/150\n",
            "398/398 [==============================] - 0s 88us/step - loss: 0.3626 - accuracy: 0.9447 - val_loss: 0.2935 - val_accuracy: 0.9882\n",
            "Epoch 76/150\n",
            "398/398 [==============================] - 0s 82us/step - loss: 0.3789 - accuracy: 0.9095 - val_loss: 0.2941 - val_accuracy: 0.9882\n",
            "Epoch 77/150\n",
            "398/398 [==============================] - 0s 86us/step - loss: 0.3766 - accuracy: 0.9322 - val_loss: 0.3039 - val_accuracy: 0.9647\n",
            "Epoch 78/150\n",
            "398/398 [==============================] - 0s 88us/step - loss: 0.3500 - accuracy: 0.9372 - val_loss: 0.2834 - val_accuracy: 0.9765\n",
            "Epoch 79/150\n",
            "398/398 [==============================] - 0s 95us/step - loss: 0.3562 - accuracy: 0.9347 - val_loss: 0.2934 - val_accuracy: 0.9882\n",
            "Epoch 80/150\n",
            "398/398 [==============================] - 0s 88us/step - loss: 0.3393 - accuracy: 0.9447 - val_loss: 0.2971 - val_accuracy: 0.9647\n",
            "Epoch 81/150\n",
            "398/398 [==============================] - 0s 88us/step - loss: 0.3776 - accuracy: 0.9397 - val_loss: 0.2866 - val_accuracy: 0.9765\n",
            "Epoch 82/150\n",
            "398/398 [==============================] - 0s 83us/step - loss: 0.3506 - accuracy: 0.9221 - val_loss: 0.2941 - val_accuracy: 0.9765\n",
            "Epoch 83/150\n",
            "398/398 [==============================] - 0s 89us/step - loss: 0.3595 - accuracy: 0.9397 - val_loss: 0.2913 - val_accuracy: 0.9882\n",
            "Epoch 84/150\n",
            "398/398 [==============================] - 0s 93us/step - loss: 0.3542 - accuracy: 0.9246 - val_loss: 0.2926 - val_accuracy: 0.9882\n",
            "Epoch 85/150\n",
            "398/398 [==============================] - 0s 86us/step - loss: 0.3687 - accuracy: 0.9246 - val_loss: 0.2941 - val_accuracy: 0.9765\n",
            "Epoch 86/150\n",
            "398/398 [==============================] - 0s 85us/step - loss: 0.3406 - accuracy: 0.9523 - val_loss: 0.2890 - val_accuracy: 0.9882\n",
            "Epoch 87/150\n",
            "398/398 [==============================] - 0s 90us/step - loss: 0.3592 - accuracy: 0.9372 - val_loss: 0.2969 - val_accuracy: 0.9647\n",
            "Epoch 88/150\n",
            "398/398 [==============================] - 0s 92us/step - loss: 0.3570 - accuracy: 0.9372 - val_loss: 0.2886 - val_accuracy: 0.9882\n",
            "Epoch 89/150\n",
            "398/398 [==============================] - 0s 90us/step - loss: 0.3702 - accuracy: 0.9221 - val_loss: 0.2897 - val_accuracy: 0.9882\n",
            "Epoch 90/150\n",
            "398/398 [==============================] - 0s 86us/step - loss: 0.3533 - accuracy: 0.9347 - val_loss: 0.2927 - val_accuracy: 0.9765\n",
            "Epoch 91/150\n",
            "398/398 [==============================] - 0s 83us/step - loss: 0.3606 - accuracy: 0.9271 - val_loss: 0.2933 - val_accuracy: 0.9765\n",
            "Epoch 92/150\n",
            "398/398 [==============================] - 0s 109us/step - loss: 0.3827 - accuracy: 0.9372 - val_loss: 0.2874 - val_accuracy: 0.9882\n",
            "Epoch 93/150\n",
            "398/398 [==============================] - 0s 90us/step - loss: 0.3370 - accuracy: 0.9397 - val_loss: 0.2910 - val_accuracy: 0.9882\n",
            "Epoch 94/150\n",
            "398/398 [==============================] - 0s 86us/step - loss: 0.3492 - accuracy: 0.9397 - val_loss: 0.2925 - val_accuracy: 0.9882\n",
            "Epoch 95/150\n",
            "398/398 [==============================] - 0s 91us/step - loss: 0.3764 - accuracy: 0.9246 - val_loss: 0.2989 - val_accuracy: 0.9647\n",
            "Epoch 96/150\n",
            "398/398 [==============================] - 0s 88us/step - loss: 0.3630 - accuracy: 0.9322 - val_loss: 0.2958 - val_accuracy: 0.9647\n",
            "Epoch 97/150\n",
            "398/398 [==============================] - 0s 86us/step - loss: 0.3756 - accuracy: 0.9171 - val_loss: 0.2864 - val_accuracy: 0.9882\n",
            "Epoch 98/150\n",
            "398/398 [==============================] - 0s 84us/step - loss: 0.3466 - accuracy: 0.9196 - val_loss: 0.2841 - val_accuracy: 0.9765\n",
            "Epoch 99/150\n",
            "398/398 [==============================] - 0s 86us/step - loss: 0.3569 - accuracy: 0.9347 - val_loss: 0.2967 - val_accuracy: 0.9647\n",
            "Epoch 100/150\n",
            "398/398 [==============================] - 0s 85us/step - loss: 0.3492 - accuracy: 0.9472 - val_loss: 0.3069 - val_accuracy: 0.9647\n",
            "Epoch 101/150\n",
            "398/398 [==============================] - 0s 87us/step - loss: 0.3567 - accuracy: 0.9372 - val_loss: 0.2995 - val_accuracy: 0.9647\n",
            "Epoch 102/150\n",
            "398/398 [==============================] - 0s 86us/step - loss: 0.3542 - accuracy: 0.9322 - val_loss: 0.2887 - val_accuracy: 0.9882\n",
            "Epoch 103/150\n",
            "398/398 [==============================] - 0s 84us/step - loss: 0.3388 - accuracy: 0.9472 - val_loss: 0.2831 - val_accuracy: 0.9765\n",
            "Epoch 104/150\n",
            "398/398 [==============================] - 0s 90us/step - loss: 0.3587 - accuracy: 0.9196 - val_loss: 0.2964 - val_accuracy: 0.9647\n",
            "Epoch 105/150\n",
            "398/398 [==============================] - 0s 83us/step - loss: 0.3667 - accuracy: 0.9397 - val_loss: 0.2807 - val_accuracy: 0.9765\n",
            "Epoch 106/150\n",
            "398/398 [==============================] - 0s 92us/step - loss: 0.3667 - accuracy: 0.9221 - val_loss: 0.2873 - val_accuracy: 0.9882\n",
            "Epoch 107/150\n",
            "398/398 [==============================] - 0s 87us/step - loss: 0.3455 - accuracy: 0.9372 - val_loss: 0.2881 - val_accuracy: 0.9882\n",
            "Epoch 108/150\n",
            "398/398 [==============================] - 0s 86us/step - loss: 0.3392 - accuracy: 0.9347 - val_loss: 0.2865 - val_accuracy: 0.9882\n",
            "Epoch 109/150\n",
            "398/398 [==============================] - 0s 93us/step - loss: 0.3265 - accuracy: 0.9523 - val_loss: 0.2919 - val_accuracy: 0.9647\n",
            "Epoch 110/150\n",
            "398/398 [==============================] - 0s 86us/step - loss: 0.3868 - accuracy: 0.9246 - val_loss: 0.2928 - val_accuracy: 0.9647\n",
            "Epoch 111/150\n",
            "398/398 [==============================] - 0s 97us/step - loss: 0.3430 - accuracy: 0.9422 - val_loss: 0.2858 - val_accuracy: 0.9882\n",
            "Epoch 112/150\n",
            "398/398 [==============================] - 0s 89us/step - loss: 0.3730 - accuracy: 0.9146 - val_loss: 0.2805 - val_accuracy: 0.9765\n",
            "Epoch 113/150\n",
            "398/398 [==============================] - 0s 83us/step - loss: 0.3431 - accuracy: 0.9422 - val_loss: 0.2953 - val_accuracy: 0.9647\n",
            "Epoch 114/150\n",
            "398/398 [==============================] - 0s 87us/step - loss: 0.3493 - accuracy: 0.9372 - val_loss: 0.2899 - val_accuracy: 0.9765\n",
            "Epoch 115/150\n",
            "398/398 [==============================] - 0s 87us/step - loss: 0.3565 - accuracy: 0.9422 - val_loss: 0.2875 - val_accuracy: 0.9882\n",
            "Epoch 116/150\n",
            "398/398 [==============================] - 0s 87us/step - loss: 0.3452 - accuracy: 0.9397 - val_loss: 0.2853 - val_accuracy: 0.9882\n",
            "Epoch 117/150\n",
            "398/398 [==============================] - 0s 84us/step - loss: 0.3511 - accuracy: 0.9422 - val_loss: 0.2858 - val_accuracy: 0.9882\n",
            "Epoch 118/150\n",
            "398/398 [==============================] - 0s 88us/step - loss: 0.3691 - accuracy: 0.9121 - val_loss: 0.2849 - val_accuracy: 0.9882\n",
            "Epoch 119/150\n",
            "398/398 [==============================] - 0s 85us/step - loss: 0.3425 - accuracy: 0.9447 - val_loss: 0.2931 - val_accuracy: 0.9647\n",
            "Epoch 120/150\n",
            "398/398 [==============================] - 0s 86us/step - loss: 0.3963 - accuracy: 0.9296 - val_loss: 0.2882 - val_accuracy: 0.9882\n",
            "Epoch 121/150\n",
            "398/398 [==============================] - 0s 96us/step - loss: 0.3561 - accuracy: 0.9296 - val_loss: 0.2853 - val_accuracy: 0.9882\n",
            "Epoch 122/150\n",
            "398/398 [==============================] - 0s 92us/step - loss: 0.3358 - accuracy: 0.9347 - val_loss: 0.2855 - val_accuracy: 0.9882\n",
            "Epoch 123/150\n",
            "398/398 [==============================] - 0s 83us/step - loss: 0.3412 - accuracy: 0.9422 - val_loss: 0.2952 - val_accuracy: 0.9647\n",
            "Epoch 124/150\n",
            "398/398 [==============================] - 0s 87us/step - loss: 0.3682 - accuracy: 0.9322 - val_loss: 0.2877 - val_accuracy: 0.9882\n",
            "Epoch 125/150\n",
            "398/398 [==============================] - 0s 88us/step - loss: 0.3299 - accuracy: 0.9422 - val_loss: 0.2865 - val_accuracy: 0.9882\n",
            "Epoch 126/150\n",
            "398/398 [==============================] - 0s 92us/step - loss: 0.3407 - accuracy: 0.9422 - val_loss: 0.2858 - val_accuracy: 0.9882\n",
            "Epoch 127/150\n",
            "398/398 [==============================] - 0s 91us/step - loss: 0.3600 - accuracy: 0.9397 - val_loss: 0.2848 - val_accuracy: 0.9882\n",
            "Epoch 128/150\n",
            "398/398 [==============================] - 0s 88us/step - loss: 0.3797 - accuracy: 0.9347 - val_loss: 0.2853 - val_accuracy: 0.9882\n",
            "Epoch 129/150\n",
            "398/398 [==============================] - 0s 85us/step - loss: 0.3425 - accuracy: 0.9447 - val_loss: 0.2818 - val_accuracy: 0.9765\n",
            "Epoch 130/150\n",
            "398/398 [==============================] - 0s 86us/step - loss: 0.3633 - accuracy: 0.9246 - val_loss: 0.2954 - val_accuracy: 0.9647\n",
            "Epoch 131/150\n",
            "398/398 [==============================] - 0s 83us/step - loss: 0.3246 - accuracy: 0.9472 - val_loss: 0.2837 - val_accuracy: 0.9882\n",
            "Epoch 132/150\n",
            "398/398 [==============================] - 0s 101us/step - loss: 0.3624 - accuracy: 0.9322 - val_loss: 0.2888 - val_accuracy: 0.9765\n",
            "Epoch 133/150\n",
            "398/398 [==============================] - 0s 101us/step - loss: 0.3479 - accuracy: 0.9296 - val_loss: 0.2918 - val_accuracy: 0.9647\n",
            "Epoch 134/150\n",
            "398/398 [==============================] - 0s 87us/step - loss: 0.3382 - accuracy: 0.9422 - val_loss: 0.2890 - val_accuracy: 0.9647\n",
            "Epoch 135/150\n",
            "398/398 [==============================] - 0s 96us/step - loss: 0.3740 - accuracy: 0.9196 - val_loss: 0.2874 - val_accuracy: 0.9882\n",
            "Epoch 136/150\n",
            "398/398 [==============================] - 0s 86us/step - loss: 0.3534 - accuracy: 0.9422 - val_loss: 0.2806 - val_accuracy: 0.9765\n",
            "Epoch 137/150\n",
            "398/398 [==============================] - 0s 85us/step - loss: 0.3688 - accuracy: 0.9271 - val_loss: 0.2854 - val_accuracy: 0.9882\n",
            "Epoch 138/150\n",
            "398/398 [==============================] - 0s 102us/step - loss: 0.3458 - accuracy: 0.9296 - val_loss: 0.2820 - val_accuracy: 0.9882\n",
            "Epoch 139/150\n",
            "398/398 [==============================] - 0s 83us/step - loss: 0.3467 - accuracy: 0.9347 - val_loss: 0.2837 - val_accuracy: 0.9882\n",
            "Epoch 140/150\n",
            "398/398 [==============================] - 0s 86us/step - loss: 0.3676 - accuracy: 0.9271 - val_loss: 0.2920 - val_accuracy: 0.9647\n",
            "Epoch 141/150\n",
            "398/398 [==============================] - 0s 91us/step - loss: 0.3589 - accuracy: 0.9372 - val_loss: 0.2906 - val_accuracy: 0.9647\n",
            "Epoch 142/150\n",
            "398/398 [==============================] - 0s 86us/step - loss: 0.3570 - accuracy: 0.9347 - val_loss: 0.2910 - val_accuracy: 0.9647\n",
            "Epoch 143/150\n",
            "398/398 [==============================] - 0s 86us/step - loss: 0.3482 - accuracy: 0.9296 - val_loss: 0.2811 - val_accuracy: 0.9765\n",
            "Epoch 144/150\n",
            "398/398 [==============================] - 0s 86us/step - loss: 0.3384 - accuracy: 0.9472 - val_loss: 0.2797 - val_accuracy: 0.9765\n",
            "Epoch 145/150\n",
            "398/398 [==============================] - 0s 87us/step - loss: 0.3439 - accuracy: 0.9271 - val_loss: 0.2895 - val_accuracy: 0.9647\n",
            "Epoch 146/150\n",
            "398/398 [==============================] - 0s 87us/step - loss: 0.3442 - accuracy: 0.9372 - val_loss: 0.2896 - val_accuracy: 0.9647\n",
            "Epoch 147/150\n",
            "398/398 [==============================] - 0s 89us/step - loss: 0.3619 - accuracy: 0.9372 - val_loss: 0.2795 - val_accuracy: 0.9765\n",
            "Epoch 148/150\n",
            "398/398 [==============================] - 0s 86us/step - loss: 0.3564 - accuracy: 0.9196 - val_loss: 0.2823 - val_accuracy: 0.9882\n",
            "Epoch 149/150\n",
            "398/398 [==============================] - 0s 87us/step - loss: 0.3398 - accuracy: 0.9447 - val_loss: 0.2902 - val_accuracy: 0.9647\n",
            "Epoch 150/150\n",
            "398/398 [==============================] - 0s 91us/step - loss: 0.3508 - accuracy: 0.9422 - val_loss: 0.2894 - val_accuracy: 0.9647\n"
          ],
          "name": "stdout"
        }
      ]
    },
    {
      "cell_type": "code",
      "metadata": {
        "id": "D87MUBuSUPt6",
        "colab": {
          "base_uri": "https://localhost:8080/",
          "height": 51
        },
        "outputId": "4df1f99b-1f37-46fd-e5ea-16dd9c3a4123"
      },
      "source": [
        "score=model2.evaluate(X_test,Y_test,verbose=1)\n",
        "print(score)"
      ],
      "execution_count": null,
      "outputs": [
        {
          "output_type": "stream",
          "text": [
            "86/86 [==============================] - 0s 79us/step\n",
            "[0.3171643573184346, 0.9651162624359131]\n"
          ],
          "name": "stdout"
        }
      ]
    },
    {
      "cell_type": "code",
      "metadata": {
        "id": "Lqt6BwllU3IA",
        "colab": {
          "base_uri": "https://localhost:8080/",
          "height": 207
        },
        "outputId": "bcce8a04-f399-4f60-d72a-f4b3312f65d3"
      },
      "source": [
        "predictions = model2.predict_classes(X_val)\n",
        "# summarize the first 10 cases\n",
        "for i in range(10):\n",
        "\tprint('%s => %d (expected %d)' % (X_val[i].tolist(), predictions[i], Y_val[i]))"
      ],
      "execution_count": null,
      "outputs": [
        {
          "output_type": "stream",
          "text": [
            "[0.31078796077105164, 0.5147610121836925, 0.5278330019880716, 0.23570876245335246, 0.37899786780383793, 0.6010757507844016, 0.4590542666142351, 0.48889776357827475, 0.6804123711340206] => 1 (expected 1)\n",
            "[0.2904971254649983, 0.0931115276476101, 0.13817097415506957, 0.03440057676719001, 0.3710021321961622, 0.23497186114846358, 0.12637632717263075, 0.11030351437699681, 0.27185567010309275] => 0 (expected 0)\n",
            "[0.17653026716266484, 0.0830834114339269, 0.10308151093439365, 0.009110979122073669, 0.23480810234541583, 0.14602320832710797, 0.06436787259142746, 0.12404153354632588, 0.23209621993127147] => 0 (expected 0)\n",
            "[0.3175515725397362, 0.13917525773195874, 0.23951292246520872, 0.033746857477988335, 0.37766524520255873, 0.29229543303949396, 0.15350963429020842, 0.1440894568690096, 0.5116838487972508] => 1 (expected 0)\n",
            "[0.5701724721001014, 0.5827085285848171, 0.7435387673956263, 0.13944392769491104, 0.5719616204690832, 0.627969520394442, 0.4679020841525757, 0.5415335463258786, 0.997594501718213] => 1 (expected 1)\n",
            "[0.4020967196482922, 0.038823805060918454, 0.05541749502982107, 0.040470827309777024, 0.36513859275053306, 0.1622092733701878, 0.08142449862367283, 0.04411341853035144, 0.12766323024054982] => 0 (expected 0)\n",
            "[0.20257017247209996, 0.12947516401124648, 0.2267892644135189, 0.0259022260075682, 0.15298507462686578, 0.29578166243338816, 0.1826091230829729, 0.15551118210862622, 0.46632302405498277] => 0 (expected 0)\n",
            "[0.03415623943185658, 0.03202905342080599, 0.04426938369781312, 0.004923440132387491, 0.02265458422174843, 0.15349369988545247, 0.06945536767597325, 0.06648562300319488, 0.1620274914089347] => 0 (expected 0)\n",
            "[0.21812647954007436, 0.04791471415182755, 0.04228131212723658, 0.03047826103197995, 0.21188699360341157, 0.245281139498979, 0.13765729453401493, 0.08714057507987222, 0.15591065292096218] => 0 (expected 0)\n",
            "[0.29996618194115643, 0.1914011246485473, 0.2889662027833002, 0.04131132353875061, 0.3821961620469083, 0.442203296976941, 0.3010224144710971, 0.28258785942492015, 0.5398625429553264] => 1 (expected 1)\n"
          ],
          "name": "stdout"
        }
      ]
    },
    {
      "cell_type": "code",
      "metadata": {
        "id": "RQKOqWwNU_Aa",
        "colab": {
          "base_uri": "https://localhost:8080/",
          "height": 295
        },
        "outputId": "c32bdcc5-a850-409c-9c66-19c68cfe0b6e"
      },
      "source": [
        "import matplotlib.pyplot as plt\n",
        "plt.plot(hist2.history['loss'])\n",
        "plt.plot(hist2.history['val_loss'])\n",
        "plt.title('Model loss')\n",
        "plt.ylabel('Loss')\n",
        "plt.xlabel('Epoch')\n",
        "plt.legend(['Train', 'Val'], loc='upper right')\n",
        "plt.show()"
      ],
      "execution_count": null,
      "outputs": [
        {
          "output_type": "display_data",
          "data": {
            "image/png": "[encoded data removed]",
            "text/plain": [
              "<Figure size 432x288 with 1 Axes>"
            ]
          },
          "metadata": {
            "tags": [],
            "needs_background": "light"
          }
        }
      ]
    },
    {
      "cell_type": "code",
      "metadata": {
        "id": "6ykmDvvfVOiI",
        "colab": {
          "base_uri": "https://localhost:8080/",
          "height": 295
        },
        "outputId": "8b089d78-ccb7-45d6-ec2b-b14794e2d6db"
      },
      "source": [
        "plt.plot(hist2.history['accuracy'])\n",
        "plt.plot(hist2.history['val_accuracy'])\n",
        "plt.title('Model accuracy')\n",
        "plt.ylabel('Accuracy')\n",
        "plt.xlabel('Epoch')\n",
        "plt.legend(['Train', 'Val'], loc='lower right')\n",
        "plt.show()"
      ],
      "execution_count": null,
      "outputs": [
        {
          "output_type": "display_data",
          "data": {
            "image/png": "[encoded data removed]",
            "text/plain": [
              "<Figure size 432x288 with 1 Axes>"
            ]
          },
          "metadata": {
            "tags": [],
            "needs_background": "light"
          }
        }
      ]
    },
    {
      "cell_type": "code",
      "metadata": {
        "id": "n0UKDBZZVXEm"
      },
      "source": [
        "from sklearn.metrics import f1_score, confusion_matrix\n",
        "from sklearn.metrics import accuracy_score, recall_score\n",
        "import seaborn as sns"
      ],
      "execution_count": null,
      "outputs": []
    },
    {
      "cell_type": "code",
      "metadata": {
        "id": "BDgGjNgTVfBX",
        "colab": {
          "base_uri": "https://localhost:8080/",
          "height": 333
        },
        "outputId": "403dbbbe-4aff-41c4-88d1-375d52f9a565"
      },
      "source": [
        "recall = recall_score(Y_test,model2.predict(X_test).round())\n",
        "print('Recall is: ', recall)\n",
        "accuracy = accuracy_score(Y_test,model2.predict(X_test).round())\n",
        "print('Accuracy is: ', accuracy)\n",
        "f1 = f1_score(Y_test,model2.predict(X_test).round())\n",
        "print('F1 score is: ', f1)\n",
        "cm = confusion_matrix(Y_test,model2.predict(X_test).round())\n",
        "sns.heatmap(cm,annot=True,fmt=\"d\")"
      ],
      "execution_count": null,
      "outputs": [
        {
          "output_type": "stream",
          "text": [
            "Recall is:  0.9142857142857143\n",
            "Accuracy is:  0.9651162790697675\n",
            "F1 score is:  0.955223880597015\n"
          ],
          "name": "stdout"
        },
        {
          "output_type": "execute_result",
          "data": {
            "text/plain": [
              "<matplotlib.axes._subplots.AxesSubplot at 0x7f2338e032e8>"
            ]
          },
          "metadata": {
            "tags": []
          },
          "execution_count": 99
        },
        {
          "output_type": "display_data",
          "data": {
            "image/png": "[encoded data removed]",
            "text/plain": [
              "<Figure size 432x288 with 2 Axes>"
            ]
          },
          "metadata": {
            "tags": [],
            "needs_background": "light"
          }
        }
      ]
    },
    {
      "cell_type": "code",
      "metadata": {
        "id": "QyGyXjLCk-JW"
      },
      "source": [
        "from keras.layers import Dropout\n",
        "from keras import regularizers\n",
        "import keras\n",
        "from keras.models import Sequential\n",
        "from keras.layers import Dense\n",
        "model3 = Sequential([\n",
        "    Dense(8, activation='relu', input_shape=(9,)),\n",
        "    Dense(8, activation='relu'),\n",
        "\n",
        "     Dense(8, activation='relu'),\n",
        "\n",
        "    Dense(1, activation='sigmoid'),\n",
        "])"
      ],
      "execution_count": null,
      "outputs": []
    },
    {
      "cell_type": "code",
      "metadata": {
        "id": "8754z-ZGl_p9"
      },
      "source": [
        "model3.compile(optimizer='adam',\n",
        "              loss='binary_crossentropy',\n",
        "              metrics=['accuracy'])"
      ],
      "execution_count": null,
      "outputs": []
    },
    {
      "cell_type": "code",
      "metadata": {
        "id": "1hMPJVYmmCaI",
        "colab": {
          "base_uri": "https://localhost:8080/",
          "height": 1000
        },
        "outputId": "f906e3ea-86db-47d0-ba10-4c8dade3556c"
      },
      "source": [
        "hist3=model3.fit(X_train, Y_train,\n",
        "          batch_size=20, epochs=150,\n",
        "          validation_data=(X_val, Y_val))"
      ],
      "execution_count": null,
      "outputs": [
        {
          "output_type": "stream",
          "text": [
            "Train on 398 samples, validate on 85 samples\n",
            "Epoch 1/150\n",
            "398/398 [==============================] - 0s 412us/step - loss: 0.6897 - accuracy: 0.6231 - val_loss: 0.6777 - val_accuracy: 0.6941\n",
            "Epoch 2/150\n",
            "398/398 [==============================] - 0s 88us/step - loss: 0.6715 - accuracy: 0.7261 - val_loss: 0.6604 - val_accuracy: 0.7294\n",
            "Epoch 3/150\n",
            "398/398 [==============================] - 0s 82us/step - loss: 0.6543 - accuracy: 0.7588 - val_loss: 0.6417 - val_accuracy: 0.7647\n",
            "Epoch 4/150\n",
            "398/398 [==============================] - 0s 94us/step - loss: 0.6345 - accuracy: 0.8367 - val_loss: 0.6193 - val_accuracy: 0.8471\n",
            "Epoch 5/150\n",
            "398/398 [==============================] - 0s 87us/step - loss: 0.6102 - accuracy: 0.8894 - val_loss: 0.5905 - val_accuracy: 0.8941\n",
            "Epoch 6/150\n",
            "398/398 [==============================] - 0s 85us/step - loss: 0.5783 - accuracy: 0.8844 - val_loss: 0.5504 - val_accuracy: 0.8941\n",
            "Epoch 7/150\n",
            "398/398 [==============================] - 0s 87us/step - loss: 0.5350 - accuracy: 0.8945 - val_loss: 0.5030 - val_accuracy: 0.8941\n",
            "Epoch 8/150\n",
            "398/398 [==============================] - 0s 85us/step - loss: 0.4890 - accuracy: 0.8995 - val_loss: 0.4553 - val_accuracy: 0.9294\n",
            "Epoch 9/150\n",
            "398/398 [==============================] - 0s 88us/step - loss: 0.4433 - accuracy: 0.9070 - val_loss: 0.4080 - val_accuracy: 0.9294\n",
            "Epoch 10/150\n",
            "398/398 [==============================] - 0s 85us/step - loss: 0.4011 - accuracy: 0.9146 - val_loss: 0.3624 - val_accuracy: 0.9529\n",
            "Epoch 11/150\n",
            "398/398 [==============================] - 0s 88us/step - loss: 0.3629 - accuracy: 0.9095 - val_loss: 0.3242 - val_accuracy: 0.9294\n",
            "Epoch 12/150\n",
            "398/398 [==============================] - 0s 86us/step - loss: 0.3310 - accuracy: 0.9121 - val_loss: 0.2893 - val_accuracy: 0.9529\n",
            "Epoch 13/150\n",
            "398/398 [==============================] - 0s 85us/step - loss: 0.3014 - accuracy: 0.9121 - val_loss: 0.2622 - val_accuracy: 0.9294\n",
            "Epoch 14/150\n",
            "398/398 [==============================] - 0s 81us/step - loss: 0.2788 - accuracy: 0.9196 - val_loss: 0.2347 - val_accuracy: 0.9529\n",
            "Epoch 15/150\n",
            "398/398 [==============================] - 0s 81us/step - loss: 0.2600 - accuracy: 0.9246 - val_loss: 0.2143 - val_accuracy: 0.9529\n",
            "Epoch 16/150\n",
            "398/398 [==============================] - 0s 91us/step - loss: 0.2432 - accuracy: 0.9246 - val_loss: 0.1958 - val_accuracy: 0.9647\n",
            "Epoch 17/150\n",
            "398/398 [==============================] - 0s 89us/step - loss: 0.2304 - accuracy: 0.9246 - val_loss: 0.1777 - val_accuracy: 0.9765\n",
            "Epoch 18/150\n",
            "398/398 [==============================] - 0s 91us/step - loss: 0.2180 - accuracy: 0.9271 - val_loss: 0.1661 - val_accuracy: 0.9765\n",
            "Epoch 19/150\n",
            "398/398 [==============================] - 0s 86us/step - loss: 0.2092 - accuracy: 0.9296 - val_loss: 0.1537 - val_accuracy: 0.9765\n",
            "Epoch 20/150\n",
            "398/398 [==============================] - 0s 88us/step - loss: 0.1984 - accuracy: 0.9322 - val_loss: 0.1456 - val_accuracy: 0.9765\n",
            "Epoch 21/150\n",
            "398/398 [==============================] - 0s 90us/step - loss: 0.1890 - accuracy: 0.9372 - val_loss: 0.1350 - val_accuracy: 0.9765\n",
            "Epoch 22/150\n",
            "398/398 [==============================] - 0s 99us/step - loss: 0.1830 - accuracy: 0.9397 - val_loss: 0.1268 - val_accuracy: 0.9765\n",
            "Epoch 23/150\n",
            "398/398 [==============================] - 0s 88us/step - loss: 0.1749 - accuracy: 0.9422 - val_loss: 0.1220 - val_accuracy: 0.9765\n",
            "Epoch 24/150\n",
            "398/398 [==============================] - 0s 91us/step - loss: 0.1703 - accuracy: 0.9397 - val_loss: 0.1139 - val_accuracy: 0.9765\n",
            "Epoch 25/150\n",
            "398/398 [==============================] - 0s 86us/step - loss: 0.1634 - accuracy: 0.9422 - val_loss: 0.1093 - val_accuracy: 0.9765\n",
            "Epoch 26/150\n",
            "398/398 [==============================] - 0s 88us/step - loss: 0.1585 - accuracy: 0.9497 - val_loss: 0.1036 - val_accuracy: 0.9765\n",
            "Epoch 27/150\n",
            "398/398 [==============================] - 0s 89us/step - loss: 0.1539 - accuracy: 0.9447 - val_loss: 0.0991 - val_accuracy: 0.9765\n",
            "Epoch 28/150\n",
            "398/398 [==============================] - 0s 89us/step - loss: 0.1484 - accuracy: 0.9548 - val_loss: 0.0948 - val_accuracy: 1.0000\n",
            "Epoch 29/150\n",
            "398/398 [==============================] - 0s 91us/step - loss: 0.1431 - accuracy: 0.9548 - val_loss: 0.0922 - val_accuracy: 0.9765\n",
            "Epoch 30/150\n",
            "398/398 [==============================] - 0s 80us/step - loss: 0.1390 - accuracy: 0.9573 - val_loss: 0.0875 - val_accuracy: 0.9882\n",
            "Epoch 31/150\n",
            "398/398 [==============================] - 0s 77us/step - loss: 0.1345 - accuracy: 0.9573 - val_loss: 0.0847 - val_accuracy: 1.0000\n",
            "Epoch 32/150\n",
            "398/398 [==============================] - 0s 90us/step - loss: 0.1326 - accuracy: 0.9548 - val_loss: 0.0824 - val_accuracy: 1.0000\n",
            "Epoch 33/150\n",
            "398/398 [==============================] - 0s 77us/step - loss: 0.1302 - accuracy: 0.9623 - val_loss: 0.0793 - val_accuracy: 1.0000\n",
            "Epoch 34/150\n",
            "398/398 [==============================] - 0s 76us/step - loss: 0.1256 - accuracy: 0.9598 - val_loss: 0.0775 - val_accuracy: 0.9882\n",
            "Epoch 35/150\n",
            "398/398 [==============================] - 0s 85us/step - loss: 0.1224 - accuracy: 0.9623 - val_loss: 0.0767 - val_accuracy: 1.0000\n",
            "Epoch 36/150\n",
            "398/398 [==============================] - 0s 95us/step - loss: 0.1192 - accuracy: 0.9698 - val_loss: 0.0724 - val_accuracy: 0.9882\n",
            "Epoch 37/150\n",
            "398/398 [==============================] - 0s 91us/step - loss: 0.1201 - accuracy: 0.9623 - val_loss: 0.0719 - val_accuracy: 1.0000\n",
            "Epoch 38/150\n",
            "398/398 [==============================] - 0s 93us/step - loss: 0.1141 - accuracy: 0.9623 - val_loss: 0.0694 - val_accuracy: 1.0000\n",
            "Epoch 39/150\n",
            "398/398 [==============================] - 0s 93us/step - loss: 0.1134 - accuracy: 0.9673 - val_loss: 0.0679 - val_accuracy: 1.0000\n",
            "Epoch 40/150\n",
            "398/398 [==============================] - 0s 84us/step - loss: 0.1108 - accuracy: 0.9698 - val_loss: 0.0672 - val_accuracy: 1.0000\n",
            "Epoch 41/150\n",
            "398/398 [==============================] - 0s 77us/step - loss: 0.1084 - accuracy: 0.9698 - val_loss: 0.0644 - val_accuracy: 1.0000\n",
            "Epoch 42/150\n",
            "398/398 [==============================] - 0s 77us/step - loss: 0.1114 - accuracy: 0.9598 - val_loss: 0.0665 - val_accuracy: 0.9882\n",
            "Epoch 43/150\n",
            "398/398 [==============================] - 0s 86us/step - loss: 0.1101 - accuracy: 0.9648 - val_loss: 0.0634 - val_accuracy: 0.9882\n",
            "Epoch 44/150\n",
            "398/398 [==============================] - 0s 78us/step - loss: 0.1037 - accuracy: 0.9724 - val_loss: 0.0627 - val_accuracy: 0.9882\n",
            "Epoch 45/150\n",
            "398/398 [==============================] - 0s 91us/step - loss: 0.1031 - accuracy: 0.9698 - val_loss: 0.0606 - val_accuracy: 1.0000\n",
            "Epoch 46/150\n",
            "398/398 [==============================] - 0s 87us/step - loss: 0.1019 - accuracy: 0.9724 - val_loss: 0.0624 - val_accuracy: 0.9882\n",
            "Epoch 47/150\n",
            "398/398 [==============================] - 0s 86us/step - loss: 0.0999 - accuracy: 0.9698 - val_loss: 0.0595 - val_accuracy: 0.9882\n",
            "Epoch 48/150\n",
            "398/398 [==============================] - 0s 88us/step - loss: 0.1003 - accuracy: 0.9673 - val_loss: 0.0602 - val_accuracy: 0.9882\n",
            "Epoch 49/150\n",
            "398/398 [==============================] - 0s 84us/step - loss: 0.0984 - accuracy: 0.9724 - val_loss: 0.0577 - val_accuracy: 0.9882\n",
            "Epoch 50/150\n",
            "398/398 [==============================] - 0s 84us/step - loss: 0.0969 - accuracy: 0.9724 - val_loss: 0.0574 - val_accuracy: 0.9882\n",
            "Epoch 51/150\n",
            "398/398 [==============================] - 0s 91us/step - loss: 0.0962 - accuracy: 0.9724 - val_loss: 0.0583 - val_accuracy: 0.9882\n",
            "Epoch 52/150\n",
            "398/398 [==============================] - 0s 89us/step - loss: 0.0952 - accuracy: 0.9724 - val_loss: 0.0571 - val_accuracy: 0.9882\n",
            "Epoch 53/150\n",
            "398/398 [==============================] - 0s 76us/step - loss: 0.0951 - accuracy: 0.9698 - val_loss: 0.0544 - val_accuracy: 0.9882\n",
            "Epoch 54/150\n",
            "398/398 [==============================] - 0s 86us/step - loss: 0.0948 - accuracy: 0.9724 - val_loss: 0.0560 - val_accuracy: 0.9882\n",
            "Epoch 55/150\n",
            "398/398 [==============================] - 0s 92us/step - loss: 0.0939 - accuracy: 0.9749 - val_loss: 0.0562 - val_accuracy: 0.9882\n",
            "Epoch 56/150\n",
            "398/398 [==============================] - 0s 85us/step - loss: 0.0938 - accuracy: 0.9698 - val_loss: 0.0546 - val_accuracy: 0.9882\n",
            "Epoch 57/150\n",
            "398/398 [==============================] - 0s 89us/step - loss: 0.0941 - accuracy: 0.9648 - val_loss: 0.0556 - val_accuracy: 0.9882\n",
            "Epoch 58/150\n",
            "398/398 [==============================] - 0s 95us/step - loss: 0.0917 - accuracy: 0.9698 - val_loss: 0.0535 - val_accuracy: 0.9882\n",
            "Epoch 59/150\n",
            "398/398 [==============================] - 0s 83us/step - loss: 0.0908 - accuracy: 0.9724 - val_loss: 0.0556 - val_accuracy: 0.9882\n",
            "Epoch 60/150\n",
            "398/398 [==============================] - 0s 123us/step - loss: 0.0923 - accuracy: 0.9724 - val_loss: 0.0531 - val_accuracy: 0.9882\n",
            "Epoch 61/150\n",
            "398/398 [==============================] - 0s 93us/step - loss: 0.0904 - accuracy: 0.9698 - val_loss: 0.0551 - val_accuracy: 0.9882\n",
            "Epoch 62/150\n",
            "398/398 [==============================] - 0s 98us/step - loss: 0.0887 - accuracy: 0.9673 - val_loss: 0.0572 - val_accuracy: 0.9882\n",
            "Epoch 63/150\n",
            "398/398 [==============================] - 0s 92us/step - loss: 0.0882 - accuracy: 0.9698 - val_loss: 0.0516 - val_accuracy: 0.9882\n",
            "Epoch 64/150\n",
            "398/398 [==============================] - 0s 90us/step - loss: 0.0882 - accuracy: 0.9698 - val_loss: 0.0507 - val_accuracy: 0.9882\n",
            "Epoch 65/150\n",
            "398/398 [==============================] - 0s 88us/step - loss: 0.0878 - accuracy: 0.9724 - val_loss: 0.0552 - val_accuracy: 0.9882\n",
            "Epoch 66/150\n",
            "398/398 [==============================] - 0s 85us/step - loss: 0.0879 - accuracy: 0.9724 - val_loss: 0.0570 - val_accuracy: 0.9882\n",
            "Epoch 67/150\n",
            "398/398 [==============================] - 0s 91us/step - loss: 0.0933 - accuracy: 0.9648 - val_loss: 0.0481 - val_accuracy: 0.9882\n",
            "Epoch 68/150\n",
            "398/398 [==============================] - 0s 93us/step - loss: 0.0841 - accuracy: 0.9749 - val_loss: 0.0575 - val_accuracy: 0.9882\n",
            "Epoch 69/150\n",
            "398/398 [==============================] - 0s 81us/step - loss: 0.0866 - accuracy: 0.9648 - val_loss: 0.0530 - val_accuracy: 0.9882\n",
            "Epoch 70/150\n",
            "398/398 [==============================] - 0s 80us/step - loss: 0.0853 - accuracy: 0.9749 - val_loss: 0.0484 - val_accuracy: 0.9882\n",
            "Epoch 71/150\n",
            "398/398 [==============================] - 0s 88us/step - loss: 0.0854 - accuracy: 0.9698 - val_loss: 0.0558 - val_accuracy: 0.9882\n",
            "Epoch 72/150\n",
            "398/398 [==============================] - 0s 84us/step - loss: 0.0850 - accuracy: 0.9698 - val_loss: 0.0530 - val_accuracy: 0.9882\n",
            "Epoch 73/150\n",
            "398/398 [==============================] - 0s 74us/step - loss: 0.0852 - accuracy: 0.9749 - val_loss: 0.0485 - val_accuracy: 0.9882\n",
            "Epoch 74/150\n",
            "398/398 [==============================] - 0s 79us/step - loss: 0.0834 - accuracy: 0.9749 - val_loss: 0.0527 - val_accuracy: 0.9882\n",
            "Epoch 75/150\n",
            "398/398 [==============================] - 0s 93us/step - loss: 0.0861 - accuracy: 0.9673 - val_loss: 0.0597 - val_accuracy: 0.9882\n",
            "Epoch 76/150\n",
            "398/398 [==============================] - 0s 91us/step - loss: 0.0845 - accuracy: 0.9749 - val_loss: 0.0489 - val_accuracy: 0.9882\n",
            "Epoch 77/150\n",
            "398/398 [==============================] - 0s 91us/step - loss: 0.0834 - accuracy: 0.9724 - val_loss: 0.0488 - val_accuracy: 0.9882\n",
            "Epoch 78/150\n",
            "398/398 [==============================] - 0s 92us/step - loss: 0.0835 - accuracy: 0.9698 - val_loss: 0.0496 - val_accuracy: 0.9882\n",
            "Epoch 79/150\n",
            "398/398 [==============================] - 0s 88us/step - loss: 0.0840 - accuracy: 0.9749 - val_loss: 0.0491 - val_accuracy: 0.9882\n",
            "Epoch 80/150\n",
            "398/398 [==============================] - 0s 91us/step - loss: 0.0842 - accuracy: 0.9623 - val_loss: 0.0530 - val_accuracy: 0.9882\n",
            "Epoch 81/150\n",
            "398/398 [==============================] - 0s 93us/step - loss: 0.0822 - accuracy: 0.9749 - val_loss: 0.0512 - val_accuracy: 0.9882\n",
            "Epoch 82/150\n",
            "398/398 [==============================] - 0s 94us/step - loss: 0.0815 - accuracy: 0.9749 - val_loss: 0.0487 - val_accuracy: 0.9882\n",
            "Epoch 83/150\n",
            "398/398 [==============================] - 0s 89us/step - loss: 0.0828 - accuracy: 0.9698 - val_loss: 0.0484 - val_accuracy: 0.9882\n",
            "Epoch 84/150\n",
            "398/398 [==============================] - 0s 92us/step - loss: 0.0813 - accuracy: 0.9724 - val_loss: 0.0494 - val_accuracy: 0.9882\n",
            "Epoch 85/150\n",
            "398/398 [==============================] - 0s 90us/step - loss: 0.0809 - accuracy: 0.9749 - val_loss: 0.0549 - val_accuracy: 0.9882\n",
            "Epoch 86/150\n",
            "398/398 [==============================] - 0s 85us/step - loss: 0.0815 - accuracy: 0.9698 - val_loss: 0.0481 - val_accuracy: 0.9882\n",
            "Epoch 87/150\n",
            "398/398 [==============================] - 0s 95us/step - loss: 0.0819 - accuracy: 0.9724 - val_loss: 0.0524 - val_accuracy: 0.9882\n",
            "Epoch 88/150\n",
            "398/398 [==============================] - 0s 93us/step - loss: 0.0830 - accuracy: 0.9724 - val_loss: 0.0497 - val_accuracy: 0.9882\n",
            "Epoch 89/150\n",
            "398/398 [==============================] - 0s 93us/step - loss: 0.0802 - accuracy: 0.9724 - val_loss: 0.0482 - val_accuracy: 0.9882\n",
            "Epoch 90/150\n",
            "398/398 [==============================] - 0s 92us/step - loss: 0.0794 - accuracy: 0.9749 - val_loss: 0.0490 - val_accuracy: 0.9882\n",
            "Epoch 91/150\n",
            "398/398 [==============================] - 0s 91us/step - loss: 0.0794 - accuracy: 0.9749 - val_loss: 0.0482 - val_accuracy: 0.9882\n",
            "Epoch 92/150\n",
            "398/398 [==============================] - 0s 92us/step - loss: 0.0806 - accuracy: 0.9698 - val_loss: 0.0495 - val_accuracy: 0.9882\n",
            "Epoch 93/150\n",
            "398/398 [==============================] - 0s 87us/step - loss: 0.0793 - accuracy: 0.9749 - val_loss: 0.0510 - val_accuracy: 0.9882\n",
            "Epoch 94/150\n",
            "398/398 [==============================] - 0s 83us/step - loss: 0.0818 - accuracy: 0.9698 - val_loss: 0.0505 - val_accuracy: 0.9882\n",
            "Epoch 95/150\n",
            "398/398 [==============================] - 0s 85us/step - loss: 0.0814 - accuracy: 0.9749 - val_loss: 0.0492 - val_accuracy: 0.9882\n",
            "Epoch 96/150\n",
            "398/398 [==============================] - 0s 89us/step - loss: 0.0801 - accuracy: 0.9673 - val_loss: 0.0492 - val_accuracy: 0.9882\n",
            "Epoch 97/150\n",
            "398/398 [==============================] - 0s 89us/step - loss: 0.0788 - accuracy: 0.9749 - val_loss: 0.0489 - val_accuracy: 0.9882\n",
            "Epoch 98/150\n",
            "398/398 [==============================] - 0s 91us/step - loss: 0.0805 - accuracy: 0.9698 - val_loss: 0.0559 - val_accuracy: 0.9882\n",
            "Epoch 99/150\n",
            "398/398 [==============================] - 0s 89us/step - loss: 0.0788 - accuracy: 0.9673 - val_loss: 0.0510 - val_accuracy: 0.9882\n",
            "Epoch 100/150\n",
            "398/398 [==============================] - 0s 92us/step - loss: 0.0803 - accuracy: 0.9749 - val_loss: 0.0431 - val_accuracy: 0.9882\n",
            "Epoch 101/150\n",
            "398/398 [==============================] - 0s 87us/step - loss: 0.0793 - accuracy: 0.9673 - val_loss: 0.0539 - val_accuracy: 0.9882\n",
            "Epoch 102/150\n",
            "398/398 [==============================] - 0s 90us/step - loss: 0.0805 - accuracy: 0.9724 - val_loss: 0.0487 - val_accuracy: 0.9882\n",
            "Epoch 103/150\n",
            "398/398 [==============================] - 0s 83us/step - loss: 0.0786 - accuracy: 0.9698 - val_loss: 0.0499 - val_accuracy: 0.9882\n",
            "Epoch 104/150\n",
            "398/398 [==============================] - 0s 98us/step - loss: 0.0777 - accuracy: 0.9749 - val_loss: 0.0505 - val_accuracy: 0.9882\n",
            "Epoch 105/150\n",
            "398/398 [==============================] - 0s 90us/step - loss: 0.0775 - accuracy: 0.9749 - val_loss: 0.0474 - val_accuracy: 0.9882\n",
            "Epoch 106/150\n",
            "398/398 [==============================] - 0s 85us/step - loss: 0.0786 - accuracy: 0.9724 - val_loss: 0.0470 - val_accuracy: 0.9882\n",
            "Epoch 107/150\n",
            "398/398 [==============================] - 0s 90us/step - loss: 0.0777 - accuracy: 0.9724 - val_loss: 0.0575 - val_accuracy: 0.9882\n",
            "Epoch 108/150\n",
            "398/398 [==============================] - 0s 84us/step - loss: 0.0787 - accuracy: 0.9698 - val_loss: 0.0481 - val_accuracy: 0.9882\n",
            "Epoch 109/150\n",
            "398/398 [==============================] - 0s 81us/step - loss: 0.0772 - accuracy: 0.9749 - val_loss: 0.0483 - val_accuracy: 0.9882\n",
            "Epoch 110/150\n",
            "398/398 [==============================] - 0s 80us/step - loss: 0.0765 - accuracy: 0.9724 - val_loss: 0.0514 - val_accuracy: 0.9882\n",
            "Epoch 111/150\n",
            "398/398 [==============================] - 0s 80us/step - loss: 0.0774 - accuracy: 0.9774 - val_loss: 0.0572 - val_accuracy: 0.9882\n",
            "Epoch 112/150\n",
            "398/398 [==============================] - 0s 84us/step - loss: 0.0789 - accuracy: 0.9724 - val_loss: 0.0444 - val_accuracy: 0.9882\n",
            "Epoch 113/150\n",
            "398/398 [==============================] - 0s 80us/step - loss: 0.0792 - accuracy: 0.9698 - val_loss: 0.0525 - val_accuracy: 0.9882\n",
            "Epoch 114/150\n",
            "398/398 [==============================] - 0s 82us/step - loss: 0.0745 - accuracy: 0.9749 - val_loss: 0.0441 - val_accuracy: 0.9882\n",
            "Epoch 115/150\n",
            "398/398 [==============================] - 0s 91us/step - loss: 0.0768 - accuracy: 0.9724 - val_loss: 0.0522 - val_accuracy: 0.9882\n",
            "Epoch 116/150\n",
            "398/398 [==============================] - 0s 78us/step - loss: 0.0757 - accuracy: 0.9749 - val_loss: 0.0488 - val_accuracy: 0.9882\n",
            "Epoch 117/150\n",
            "398/398 [==============================] - 0s 81us/step - loss: 0.0767 - accuracy: 0.9724 - val_loss: 0.0498 - val_accuracy: 0.9882\n",
            "Epoch 118/150\n",
            "398/398 [==============================] - 0s 82us/step - loss: 0.0765 - accuracy: 0.9724 - val_loss: 0.0525 - val_accuracy: 0.9882\n",
            "Epoch 119/150\n",
            "398/398 [==============================] - 0s 83us/step - loss: 0.0806 - accuracy: 0.9648 - val_loss: 0.0514 - val_accuracy: 0.9882\n",
            "Epoch 120/150\n",
            "398/398 [==============================] - 0s 94us/step - loss: 0.0839 - accuracy: 0.9698 - val_loss: 0.0451 - val_accuracy: 0.9765\n",
            "Epoch 121/150\n",
            "398/398 [==============================] - 0s 91us/step - loss: 0.0783 - accuracy: 0.9673 - val_loss: 0.0528 - val_accuracy: 0.9882\n",
            "Epoch 122/150\n",
            "398/398 [==============================] - 0s 85us/step - loss: 0.0759 - accuracy: 0.9724 - val_loss: 0.0493 - val_accuracy: 0.9882\n",
            "Epoch 123/150\n",
            "398/398 [==============================] - 0s 97us/step - loss: 0.0772 - accuracy: 0.9698 - val_loss: 0.0500 - val_accuracy: 0.9882\n",
            "Epoch 124/150\n",
            "398/398 [==============================] - 0s 78us/step - loss: 0.0755 - accuracy: 0.9724 - val_loss: 0.0466 - val_accuracy: 0.9882\n",
            "Epoch 125/150\n",
            "398/398 [==============================] - 0s 81us/step - loss: 0.0746 - accuracy: 0.9724 - val_loss: 0.0509 - val_accuracy: 0.9882\n",
            "Epoch 126/150\n",
            "398/398 [==============================] - 0s 92us/step - loss: 0.0757 - accuracy: 0.9749 - val_loss: 0.0496 - val_accuracy: 0.9882\n",
            "Epoch 127/150\n",
            "398/398 [==============================] - 0s 90us/step - loss: 0.0752 - accuracy: 0.9774 - val_loss: 0.0489 - val_accuracy: 0.9882\n",
            "Epoch 128/150\n",
            "398/398 [==============================] - 0s 87us/step - loss: 0.0747 - accuracy: 0.9749 - val_loss: 0.0569 - val_accuracy: 0.9882\n",
            "Epoch 129/150\n",
            "398/398 [==============================] - 0s 89us/step - loss: 0.0759 - accuracy: 0.9774 - val_loss: 0.0459 - val_accuracy: 0.9882\n",
            "Epoch 130/150\n",
            "398/398 [==============================] - 0s 88us/step - loss: 0.0740 - accuracy: 0.9749 - val_loss: 0.0538 - val_accuracy: 0.9882\n",
            "Epoch 131/150\n",
            "398/398 [==============================] - 0s 80us/step - loss: 0.0748 - accuracy: 0.9698 - val_loss: 0.0453 - val_accuracy: 0.9882\n",
            "Epoch 132/150\n",
            "398/398 [==============================] - 0s 82us/step - loss: 0.0749 - accuracy: 0.9774 - val_loss: 0.0495 - val_accuracy: 0.9882\n",
            "Epoch 133/150\n",
            "398/398 [==============================] - 0s 94us/step - loss: 0.0734 - accuracy: 0.9774 - val_loss: 0.0500 - val_accuracy: 0.9882\n",
            "Epoch 134/150\n",
            "398/398 [==============================] - 0s 82us/step - loss: 0.0751 - accuracy: 0.9724 - val_loss: 0.0508 - val_accuracy: 0.9882\n",
            "Epoch 135/150\n",
            "398/398 [==============================] - 0s 80us/step - loss: 0.0744 - accuracy: 0.9724 - val_loss: 0.0450 - val_accuracy: 0.9765\n",
            "Epoch 136/150\n",
            "398/398 [==============================] - 0s 75us/step - loss: 0.0799 - accuracy: 0.9724 - val_loss: 0.0563 - val_accuracy: 0.9882\n",
            "Epoch 137/150\n",
            "398/398 [==============================] - 0s 96us/step - loss: 0.0774 - accuracy: 0.9698 - val_loss: 0.0461 - val_accuracy: 0.9882\n",
            "Epoch 138/150\n",
            "398/398 [==============================] - 0s 88us/step - loss: 0.0760 - accuracy: 0.9749 - val_loss: 0.0483 - val_accuracy: 0.9882\n",
            "Epoch 139/150\n",
            "398/398 [==============================] - 0s 82us/step - loss: 0.0769 - accuracy: 0.9648 - val_loss: 0.0534 - val_accuracy: 0.9882\n",
            "Epoch 140/150\n",
            "398/398 [==============================] - 0s 81us/step - loss: 0.0747 - accuracy: 0.9724 - val_loss: 0.0467 - val_accuracy: 0.9882\n",
            "Epoch 141/150\n",
            "398/398 [==============================] - 0s 78us/step - loss: 0.0758 - accuracy: 0.9698 - val_loss: 0.0517 - val_accuracy: 0.9882\n",
            "Epoch 142/150\n",
            "398/398 [==============================] - 0s 93us/step - loss: 0.0731 - accuracy: 0.9749 - val_loss: 0.0455 - val_accuracy: 0.9765\n",
            "Epoch 143/150\n",
            "398/398 [==============================] - 0s 103us/step - loss: 0.0739 - accuracy: 0.9774 - val_loss: 0.0469 - val_accuracy: 0.9882\n",
            "Epoch 144/150\n",
            "398/398 [==============================] - 0s 90us/step - loss: 0.0747 - accuracy: 0.9724 - val_loss: 0.0491 - val_accuracy: 0.9882\n",
            "Epoch 145/150\n",
            "398/398 [==============================] - 0s 91us/step - loss: 0.0749 - accuracy: 0.9698 - val_loss: 0.0490 - val_accuracy: 0.9882\n",
            "Epoch 146/150\n",
            "398/398 [==============================] - 0s 96us/step - loss: 0.0753 - accuracy: 0.9724 - val_loss: 0.0474 - val_accuracy: 0.9882\n",
            "Epoch 147/150\n",
            "398/398 [==============================] - 0s 88us/step - loss: 0.0725 - accuracy: 0.9724 - val_loss: 0.0600 - val_accuracy: 0.9882\n",
            "Epoch 148/150\n",
            "398/398 [==============================] - 0s 75us/step - loss: 0.0717 - accuracy: 0.9724 - val_loss: 0.0431 - val_accuracy: 0.9765\n",
            "Epoch 149/150\n",
            "398/398 [==============================] - 0s 85us/step - loss: 0.0734 - accuracy: 0.9724 - val_loss: 0.0465 - val_accuracy: 0.9882\n",
            "Epoch 150/150\n",
            "398/398 [==============================] - 0s 92us/step - loss: 0.0715 - accuracy: 0.9724 - val_loss: 0.0566 - val_accuracy: 0.9882\n"
          ],
          "name": "stdout"
        }
      ]
    },
    {
      "cell_type": "code",
      "metadata": {
        "id": "QmbpoHJjmObq",
        "colab": {
          "base_uri": "https://localhost:8080/",
          "height": 51
        },
        "outputId": "33481fb3-3a81-4c33-e490-b70c2a15c4db"
      },
      "source": [
        "score=model3.evaluate(X_test,Y_test,verbose=1)\n",
        "print(score)"
      ],
      "execution_count": null,
      "outputs": [
        {
          "output_type": "stream",
          "text": [
            "86/86 [==============================] - 0s 45us/step\n",
            "[0.0813522494809572, 0.9534883499145508]\n"
          ],
          "name": "stdout"
        }
      ]
    },
    {
      "cell_type": "code",
      "metadata": {
        "id": "cLEqcbHbmWKb",
        "colab": {
          "base_uri": "https://localhost:8080/",
          "height": 295
        },
        "outputId": "13a4afd8-0c5a-4073-f8bb-f88ce08ba6cb"
      },
      "source": [
        "import matplotlib.pyplot as plt\n",
        "plt.plot(hist3.history['loss'])\n",
        "plt.plot(hist3.history['val_loss'])\n",
        "plt.title('Model loss')\n",
        "plt.ylabel('Loss')\n",
        "plt.xlabel('Epoch')\n",
        "plt.legend(['Train', 'Val'], loc='upper right')\n",
        "plt.show()"
      ],
      "execution_count": null,
      "outputs": [
        {
          "output_type": "display_data",
          "data": {
            "image/png": "[encoded data removed]",
            "text/plain": [
              "<Figure size 432x288 with 1 Axes>"
            ]
          },
          "metadata": {
            "tags": [],
            "needs_background": "light"
          }
        }
      ]
    },
    {
      "cell_type": "code",
      "metadata": {
        "id": "avpxAjMQmkPp",
        "colab": {
          "base_uri": "https://localhost:8080/",
          "height": 295
        },
        "outputId": "b811ac29-6b61-485d-a8f2-28fa4cdf3e46"
      },
      "source": [
        "plt.plot(hist3.history['accuracy'])\n",
        "plt.plot(hist3.history['val_accuracy'])\n",
        "plt.title('Model accuracy')\n",
        "plt.ylabel('Accuracy')\n",
        "plt.xlabel('Epoch')\n",
        "plt.legend(['Train', 'Val'], loc='lower right')\n",
        "plt.show()"
      ],
      "execution_count": null,
      "outputs": [
        {
          "output_type": "display_data",
          "data": {
            "image/png": "[encoded data removed]",
            "text/plain": [
              "<Figure size 432x288 with 1 Axes>"
            ]
          },
          "metadata": {
            "tags": [],
            "needs_background": "light"
          }
        }
      ]
    },
    {
      "cell_type": "code",
      "metadata": {
        "id": "H9ZOkeWynBz8",
        "colab": {
          "base_uri": "https://localhost:8080/",
          "height": 71
        },
        "outputId": "d9e9f550-1f8a-42fc-876d-13e368491f62"
      },
      "source": [
        "from sklearn.metrics import f1_score, confusion_matrix\n",
        "from sklearn.metrics import accuracy_score, recall_score\n",
        "import seaborn as sns"
      ],
      "execution_count": null,
      "outputs": [
        {
          "output_type": "stream",
          "text": [
            "/usr/local/lib/python3.6/dist-packages/statsmodels/tools/_testing.py:19: FutureWarning: pandas.util.testing is deprecated. Use the functions in the public API at pandas.testing instead.\n",
            "  import pandas.util.testing as tm\n"
          ],
          "name": "stderr"
        }
      ]
    },
    {
      "cell_type": "code",
      "metadata": {
        "id": "PYz2ObSbnJ19",
        "colab": {
          "base_uri": "https://localhost:8080/",
          "height": 333
        },
        "outputId": "537ab730-72ea-4cc9-fab1-74c935286c18"
      },
      "source": [
        "recall = recall_score(Y_test,model3.predict(X_test).round())\n",
        "print('Recall is: ', recall)\n",
        "accuracy = accuracy_score(Y_test,model3.predict(X_test).round())\n",
        "print('Accuracy is: ', accuracy)\n",
        "f1 = f1_score(Y_test,model3.predict(X_test).round())\n",
        "print('F1 score is: ', f1)\n",
        "cm = confusion_matrix(Y_test,model3.predict(X_test).round())\n",
        "sns.heatmap(cm,annot=True,fmt=\"d\")"
      ],
      "execution_count": null,
      "outputs": [
        {
          "output_type": "stream",
          "text": [
            "Recall is:  0.9111111111111111\n",
            "Accuracy is:  0.9534883720930233\n",
            "F1 score is:  0.9534883720930233\n"
          ],
          "name": "stdout"
        },
        {
          "output_type": "execute_result",
          "data": {
            "text/plain": [
              "<matplotlib.axes._subplots.AxesSubplot at 0x7fe155d8d908>"
            ]
          },
          "metadata": {
            "tags": []
          },
          "execution_count": 18
        },
        {
          "output_type": "display_data",
          "data": {
            "image/png": "[encoded data removed]",
            "text/plain": [
              "<Figure size 432x288 with 2 Axes>"
            ]
          },
          "metadata": {
            "tags": [],
            "needs_background": "light"
          }
        }
      ]
    },
    {
      "cell_type": "code",
      "metadata": {
        "id": "VShvEF1lpR43"
      },
      "source": [
        "model4 = Sequential([\n",
        "    Dense(8, activation='relu',kernel_regularizer=regularizers.l2(0.01), input_shape=(9,)),Dropout(0.3),\n",
        "    Dense(8, activation='relu',kernel_regularizer=regularizers.l2(0.01)),Dropout(0.3),\n",
        "\n",
        "     Dense(8, activation='relu',kernel_regularizer=regularizers.l2(0.01)),Dropout(0.3),\n",
        "\n",
        "    Dense(1, activation='sigmoid',kernel_regularizer=regularizers.l2(0.01)),\n",
        "])"
      ],
      "execution_count": null,
      "outputs": []
    },
    {
      "cell_type": "code",
      "metadata": {
        "id": "F_j0WuetprSa"
      },
      "source": [
        "model4.compile(optimizer='adam',\n",
        "              loss='binary_crossentropy',\n",
        "              metrics=['accuracy'])\n"
      ],
      "execution_count": null,
      "outputs": []
    },
    {
      "cell_type": "code",
      "metadata": {
        "id": "diO1Kn20qIQ0",
        "colab": {
          "base_uri": "https://localhost:8080/",
          "height": 1000
        },
        "outputId": "40f3e91b-5b1e-4a25-985e-86d352ce5960"
      },
      "source": [
        "hist4=model4.fit(X_train, Y_train,\n",
        "          batch_size=20, epochs=150,\n",
        "          validation_data=(X_val, Y_val))"
      ],
      "execution_count": null,
      "outputs": [
        {
          "output_type": "stream",
          "text": [
            "Train on 398 samples, validate on 85 samples\n",
            "Epoch 1/150\n",
            "398/398 [==============================] - 0s 638us/step - loss: 0.9774 - accuracy: 0.5050 - val_loss: 0.9465 - val_accuracy: 0.3647\n",
            "Epoch 2/150\n",
            "398/398 [==============================] - 0s 82us/step - loss: 0.9365 - accuracy: 0.6005 - val_loss: 0.9121 - val_accuracy: 0.8353\n",
            "Epoch 3/150\n",
            "398/398 [==============================] - 0s 83us/step - loss: 0.9073 - accuracy: 0.6432 - val_loss: 0.8813 - val_accuracy: 0.8824\n",
            "Epoch 4/150\n",
            "398/398 [==============================] - 0s 80us/step - loss: 0.8795 - accuracy: 0.6759 - val_loss: 0.8530 - val_accuracy: 0.8000\n",
            "Epoch 5/150\n",
            "398/398 [==============================] - 0s 85us/step - loss: 0.8528 - accuracy: 0.7186 - val_loss: 0.8236 - val_accuracy: 0.7294\n",
            "Epoch 6/150\n",
            "398/398 [==============================] - 0s 93us/step - loss: 0.8332 - accuracy: 0.7035 - val_loss: 0.7963 - val_accuracy: 0.7412\n",
            "Epoch 7/150\n",
            "398/398 [==============================] - 0s 94us/step - loss: 0.8127 - accuracy: 0.7085 - val_loss: 0.7742 - val_accuracy: 0.7294\n",
            "Epoch 8/150\n",
            "398/398 [==============================] - 0s 91us/step - loss: 0.7832 - accuracy: 0.7387 - val_loss: 0.7525 - val_accuracy: 0.7294\n",
            "Epoch 9/150\n",
            "398/398 [==============================] - 0s 92us/step - loss: 0.7626 - accuracy: 0.7462 - val_loss: 0.7291 - val_accuracy: 0.7765\n",
            "Epoch 10/150\n",
            "398/398 [==============================] - 0s 96us/step - loss: 0.7479 - accuracy: 0.7563 - val_loss: 0.7072 - val_accuracy: 0.7882\n",
            "Epoch 11/150\n",
            "398/398 [==============================] - 0s 92us/step - loss: 0.7131 - accuracy: 0.7688 - val_loss: 0.6858 - val_accuracy: 0.8118\n",
            "Epoch 12/150\n",
            "398/398 [==============================] - 0s 115us/step - loss: 0.7021 - accuracy: 0.7739 - val_loss: 0.6622 - val_accuracy: 0.8588\n",
            "Epoch 13/150\n",
            "398/398 [==============================] - 0s 98us/step - loss: 0.6927 - accuracy: 0.7864 - val_loss: 0.6420 - val_accuracy: 0.8588\n",
            "Epoch 14/150\n",
            "398/398 [==============================] - 0s 93us/step - loss: 0.6879 - accuracy: 0.7638 - val_loss: 0.6254 - val_accuracy: 0.8588\n",
            "Epoch 15/150\n",
            "398/398 [==============================] - 0s 94us/step - loss: 0.6555 - accuracy: 0.7940 - val_loss: 0.6030 - val_accuracy: 0.9059\n",
            "Epoch 16/150\n",
            "398/398 [==============================] - 0s 89us/step - loss: 0.6395 - accuracy: 0.8065 - val_loss: 0.5834 - val_accuracy: 0.9176\n",
            "Epoch 17/150\n",
            "398/398 [==============================] - 0s 90us/step - loss: 0.6266 - accuracy: 0.8065 - val_loss: 0.5627 - val_accuracy: 0.9176\n",
            "Epoch 18/150\n",
            "398/398 [==============================] - 0s 98us/step - loss: 0.6106 - accuracy: 0.8291 - val_loss: 0.5437 - val_accuracy: 0.9412\n",
            "Epoch 19/150\n",
            "398/398 [==============================] - 0s 96us/step - loss: 0.6034 - accuracy: 0.7889 - val_loss: 0.5257 - val_accuracy: 0.9176\n",
            "Epoch 20/150\n",
            "398/398 [==============================] - 0s 91us/step - loss: 0.5789 - accuracy: 0.8116 - val_loss: 0.5060 - val_accuracy: 0.9176\n",
            "Epoch 21/150\n",
            "398/398 [==============================] - 0s 88us/step - loss: 0.5758 - accuracy: 0.8291 - val_loss: 0.4878 - val_accuracy: 0.9176\n",
            "Epoch 22/150\n",
            "398/398 [==============================] - 0s 84us/step - loss: 0.5557 - accuracy: 0.8417 - val_loss: 0.4664 - val_accuracy: 0.9529\n",
            "Epoch 23/150\n",
            "398/398 [==============================] - 0s 82us/step - loss: 0.5697 - accuracy: 0.8291 - val_loss: 0.4514 - val_accuracy: 0.9529\n",
            "Epoch 24/150\n",
            "398/398 [==============================] - 0s 80us/step - loss: 0.5729 - accuracy: 0.8216 - val_loss: 0.4437 - val_accuracy: 0.9294\n",
            "Epoch 25/150\n",
            "398/398 [==============================] - 0s 84us/step - loss: 0.5284 - accuracy: 0.8442 - val_loss: 0.4298 - val_accuracy: 0.9529\n",
            "Epoch 26/150\n",
            "398/398 [==============================] - 0s 80us/step - loss: 0.5474 - accuracy: 0.8291 - val_loss: 0.4207 - val_accuracy: 0.9529\n",
            "Epoch 27/150\n",
            "398/398 [==============================] - 0s 99us/step - loss: 0.5318 - accuracy: 0.8492 - val_loss: 0.4110 - val_accuracy: 0.9529\n",
            "Epoch 28/150\n",
            "398/398 [==============================] - 0s 90us/step - loss: 0.5195 - accuracy: 0.8593 - val_loss: 0.4044 - val_accuracy: 0.9529\n",
            "Epoch 29/150\n",
            "398/398 [==============================] - 0s 137us/step - loss: 0.5443 - accuracy: 0.8266 - val_loss: 0.3998 - val_accuracy: 0.9529\n",
            "Epoch 30/150\n",
            "398/398 [==============================] - 0s 103us/step - loss: 0.5525 - accuracy: 0.8191 - val_loss: 0.3947 - val_accuracy: 0.9647\n",
            "Epoch 31/150\n",
            "398/398 [==============================] - 0s 103us/step - loss: 0.4978 - accuracy: 0.8367 - val_loss: 0.3875 - val_accuracy: 0.9529\n",
            "Epoch 32/150\n",
            "398/398 [==============================] - 0s 86us/step - loss: 0.5162 - accuracy: 0.8442 - val_loss: 0.3824 - val_accuracy: 0.9529\n",
            "Epoch 33/150\n",
            "398/398 [==============================] - 0s 95us/step - loss: 0.4859 - accuracy: 0.8844 - val_loss: 0.3762 - val_accuracy: 0.9529\n",
            "Epoch 34/150\n",
            "398/398 [==============================] - 0s 96us/step - loss: 0.4653 - accuracy: 0.8920 - val_loss: 0.3681 - val_accuracy: 0.9647\n",
            "Epoch 35/150\n",
            "398/398 [==============================] - 0s 111us/step - loss: 0.5038 - accuracy: 0.8467 - val_loss: 0.3636 - val_accuracy: 0.9647\n",
            "Epoch 36/150\n",
            "398/398 [==============================] - 0s 97us/step - loss: 0.4744 - accuracy: 0.8668 - val_loss: 0.3576 - val_accuracy: 0.9647\n",
            "Epoch 37/150\n",
            "398/398 [==============================] - 0s 105us/step - loss: 0.5069 - accuracy: 0.8417 - val_loss: 0.3541 - val_accuracy: 0.9647\n",
            "Epoch 38/150\n",
            "398/398 [==============================] - 0s 95us/step - loss: 0.4653 - accuracy: 0.8643 - val_loss: 0.3491 - val_accuracy: 0.9647\n",
            "Epoch 39/150\n",
            "398/398 [==============================] - 0s 95us/step - loss: 0.4529 - accuracy: 0.8769 - val_loss: 0.3427 - val_accuracy: 0.9647\n",
            "Epoch 40/150\n",
            "398/398 [==============================] - 0s 96us/step - loss: 0.4634 - accuracy: 0.8719 - val_loss: 0.3394 - val_accuracy: 0.9529\n",
            "Epoch 41/150\n",
            "398/398 [==============================] - 0s 94us/step - loss: 0.4532 - accuracy: 0.8769 - val_loss: 0.3371 - val_accuracy: 0.9529\n",
            "Epoch 42/150\n",
            "398/398 [==============================] - 0s 98us/step - loss: 0.4513 - accuracy: 0.8844 - val_loss: 0.3308 - val_accuracy: 0.9647\n",
            "Epoch 43/150\n",
            "398/398 [==============================] - 0s 99us/step - loss: 0.4511 - accuracy: 0.8794 - val_loss: 0.3289 - val_accuracy: 0.9647\n",
            "Epoch 44/150\n",
            "398/398 [==============================] - 0s 96us/step - loss: 0.4358 - accuracy: 0.8995 - val_loss: 0.3246 - val_accuracy: 0.9647\n",
            "Epoch 45/150\n",
            "398/398 [==============================] - 0s 83us/step - loss: 0.4538 - accuracy: 0.8719 - val_loss: 0.3223 - val_accuracy: 0.9647\n",
            "Epoch 46/150\n",
            "398/398 [==============================] - 0s 82us/step - loss: 0.4423 - accuracy: 0.8894 - val_loss: 0.3191 - val_accuracy: 0.9647\n",
            "Epoch 47/150\n",
            "398/398 [==============================] - 0s 83us/step - loss: 0.4194 - accuracy: 0.8945 - val_loss: 0.3160 - val_accuracy: 0.9647\n",
            "Epoch 48/150\n",
            "398/398 [==============================] - 0s 81us/step - loss: 0.4235 - accuracy: 0.8970 - val_loss: 0.3137 - val_accuracy: 0.9647\n",
            "Epoch 49/150\n",
            "398/398 [==============================] - 0s 81us/step - loss: 0.4393 - accuracy: 0.8794 - val_loss: 0.3142 - val_accuracy: 0.9765\n",
            "Epoch 50/150\n",
            "398/398 [==============================] - 0s 80us/step - loss: 0.4602 - accuracy: 0.8844 - val_loss: 0.3139 - val_accuracy: 0.9765\n",
            "Epoch 51/150\n",
            "398/398 [==============================] - 0s 83us/step - loss: 0.4122 - accuracy: 0.9070 - val_loss: 0.3081 - val_accuracy: 0.9647\n",
            "Epoch 52/150\n",
            "398/398 [==============================] - 0s 83us/step - loss: 0.4090 - accuracy: 0.8970 - val_loss: 0.3063 - val_accuracy: 0.9765\n",
            "Epoch 53/150\n",
            "398/398 [==============================] - 0s 81us/step - loss: 0.4185 - accuracy: 0.8920 - val_loss: 0.3034 - val_accuracy: 0.9647\n",
            "Epoch 54/150\n",
            "398/398 [==============================] - 0s 79us/step - loss: 0.4365 - accuracy: 0.8920 - val_loss: 0.3044 - val_accuracy: 0.9647\n",
            "Epoch 55/150\n",
            "398/398 [==============================] - 0s 95us/step - loss: 0.4387 - accuracy: 0.8819 - val_loss: 0.3030 - val_accuracy: 0.9765\n",
            "Epoch 56/150\n",
            "398/398 [==============================] - 0s 95us/step - loss: 0.4155 - accuracy: 0.8970 - val_loss: 0.3019 - val_accuracy: 0.9765\n",
            "Epoch 57/150\n",
            "398/398 [==============================] - 0s 91us/step - loss: 0.4325 - accuracy: 0.8844 - val_loss: 0.2987 - val_accuracy: 0.9765\n",
            "Epoch 58/150\n",
            "398/398 [==============================] - 0s 99us/step - loss: 0.4016 - accuracy: 0.8970 - val_loss: 0.2975 - val_accuracy: 0.9765\n",
            "Epoch 59/150\n",
            "398/398 [==============================] - 0s 95us/step - loss: 0.4269 - accuracy: 0.8869 - val_loss: 0.2972 - val_accuracy: 0.9765\n",
            "Epoch 60/150\n",
            "398/398 [==============================] - 0s 94us/step - loss: 0.3787 - accuracy: 0.9246 - val_loss: 0.2974 - val_accuracy: 0.9647\n",
            "Epoch 61/150\n",
            "398/398 [==============================] - 0s 92us/step - loss: 0.4143 - accuracy: 0.8995 - val_loss: 0.2949 - val_accuracy: 0.9647\n",
            "Epoch 62/150\n",
            "398/398 [==============================] - 0s 94us/step - loss: 0.4296 - accuracy: 0.8894 - val_loss: 0.2966 - val_accuracy: 0.9647\n",
            "Epoch 63/150\n",
            "398/398 [==============================] - 0s 94us/step - loss: 0.4494 - accuracy: 0.8769 - val_loss: 0.2989 - val_accuracy: 0.9765\n",
            "Epoch 64/150\n",
            "398/398 [==============================] - 0s 95us/step - loss: 0.4094 - accuracy: 0.9045 - val_loss: 0.2953 - val_accuracy: 0.9765\n",
            "Epoch 65/150\n",
            "398/398 [==============================] - 0s 107us/step - loss: 0.4115 - accuracy: 0.8819 - val_loss: 0.2934 - val_accuracy: 0.9765\n",
            "Epoch 66/150\n",
            "398/398 [==============================] - 0s 99us/step - loss: 0.4202 - accuracy: 0.8995 - val_loss: 0.2948 - val_accuracy: 0.9765\n",
            "Epoch 67/150\n",
            "398/398 [==============================] - 0s 96us/step - loss: 0.4210 - accuracy: 0.8995 - val_loss: 0.2923 - val_accuracy: 0.9765\n",
            "Epoch 68/150\n",
            "398/398 [==============================] - 0s 93us/step - loss: 0.4180 - accuracy: 0.8819 - val_loss: 0.2914 - val_accuracy: 0.9765\n",
            "Epoch 69/150\n",
            "398/398 [==============================] - 0s 96us/step - loss: 0.4136 - accuracy: 0.9020 - val_loss: 0.2904 - val_accuracy: 0.9765\n",
            "Epoch 70/150\n",
            "398/398 [==============================] - 0s 95us/step - loss: 0.4513 - accuracy: 0.8945 - val_loss: 0.2922 - val_accuracy: 0.9765\n",
            "Epoch 71/150\n",
            "398/398 [==============================] - 0s 108us/step - loss: 0.4133 - accuracy: 0.9045 - val_loss: 0.2931 - val_accuracy: 0.9765\n",
            "Epoch 72/150\n",
            "398/398 [==============================] - 0s 94us/step - loss: 0.4017 - accuracy: 0.9095 - val_loss: 0.2926 - val_accuracy: 0.9765\n",
            "Epoch 73/150\n",
            "398/398 [==============================] - 0s 92us/step - loss: 0.3980 - accuracy: 0.9146 - val_loss: 0.2921 - val_accuracy: 0.9647\n",
            "Epoch 74/150\n",
            "398/398 [==============================] - 0s 90us/step - loss: 0.4034 - accuracy: 0.9095 - val_loss: 0.2920 - val_accuracy: 0.9647\n",
            "Epoch 75/150\n",
            "398/398 [==============================] - 0s 89us/step - loss: 0.4271 - accuracy: 0.8894 - val_loss: 0.2919 - val_accuracy: 0.9765\n",
            "Epoch 76/150\n",
            "398/398 [==============================] - 0s 81us/step - loss: 0.3940 - accuracy: 0.9070 - val_loss: 0.2908 - val_accuracy: 0.9765\n",
            "Epoch 77/150\n",
            "398/398 [==============================] - 0s 80us/step - loss: 0.4093 - accuracy: 0.9095 - val_loss: 0.2891 - val_accuracy: 0.9647\n",
            "Epoch 78/150\n",
            "398/398 [==============================] - 0s 82us/step - loss: 0.4066 - accuracy: 0.8920 - val_loss: 0.2920 - val_accuracy: 0.9765\n",
            "Epoch 79/150\n",
            "398/398 [==============================] - 0s 78us/step - loss: 0.3884 - accuracy: 0.9221 - val_loss: 0.2899 - val_accuracy: 0.9647\n",
            "Epoch 80/150\n",
            "398/398 [==============================] - 0s 84us/step - loss: 0.4127 - accuracy: 0.8894 - val_loss: 0.2873 - val_accuracy: 0.9765\n",
            "Epoch 81/150\n",
            "398/398 [==============================] - 0s 78us/step - loss: 0.4222 - accuracy: 0.8970 - val_loss: 0.2886 - val_accuracy: 0.9647\n",
            "Epoch 82/150\n",
            "398/398 [==============================] - 0s 86us/step - loss: 0.4196 - accuracy: 0.8995 - val_loss: 0.2880 - val_accuracy: 0.9765\n",
            "Epoch 83/150\n",
            "398/398 [==============================] - 0s 96us/step - loss: 0.3973 - accuracy: 0.9095 - val_loss: 0.2866 - val_accuracy: 0.9647\n",
            "Epoch 84/150\n",
            "398/398 [==============================] - 0s 96us/step - loss: 0.4005 - accuracy: 0.9146 - val_loss: 0.2876 - val_accuracy: 0.9647\n",
            "Epoch 85/150\n",
            "398/398 [==============================] - 0s 93us/step - loss: 0.3935 - accuracy: 0.9196 - val_loss: 0.2884 - val_accuracy: 0.9647\n",
            "Epoch 86/150\n",
            "398/398 [==============================] - 0s 94us/step - loss: 0.4022 - accuracy: 0.9121 - val_loss: 0.2865 - val_accuracy: 0.9647\n",
            "Epoch 87/150\n",
            "398/398 [==============================] - 0s 92us/step - loss: 0.4288 - accuracy: 0.8920 - val_loss: 0.2861 - val_accuracy: 0.9647\n",
            "Epoch 88/150\n",
            "398/398 [==============================] - 0s 94us/step - loss: 0.4350 - accuracy: 0.8945 - val_loss: 0.2896 - val_accuracy: 0.9765\n",
            "Epoch 89/150\n",
            "398/398 [==============================] - 0s 93us/step - loss: 0.4129 - accuracy: 0.8945 - val_loss: 0.2862 - val_accuracy: 0.9647\n",
            "Epoch 90/150\n",
            "398/398 [==============================] - 0s 95us/step - loss: 0.4007 - accuracy: 0.9121 - val_loss: 0.2859 - val_accuracy: 0.9647\n",
            "Epoch 91/150\n",
            "398/398 [==============================] - 0s 100us/step - loss: 0.3976 - accuracy: 0.9171 - val_loss: 0.2845 - val_accuracy: 0.9647\n",
            "Epoch 92/150\n",
            "398/398 [==============================] - 0s 96us/step - loss: 0.4146 - accuracy: 0.9020 - val_loss: 0.2852 - val_accuracy: 0.9647\n",
            "Epoch 93/150\n",
            "398/398 [==============================] - 0s 80us/step - loss: 0.3940 - accuracy: 0.9171 - val_loss: 0.2859 - val_accuracy: 0.9647\n",
            "Epoch 94/150\n",
            "398/398 [==============================] - 0s 82us/step - loss: 0.3831 - accuracy: 0.9020 - val_loss: 0.2839 - val_accuracy: 0.9647\n",
            "Epoch 95/150\n",
            "398/398 [==============================] - 0s 85us/step - loss: 0.4051 - accuracy: 0.9171 - val_loss: 0.2819 - val_accuracy: 0.9647\n",
            "Epoch 96/150\n",
            "398/398 [==============================] - 0s 81us/step - loss: 0.3849 - accuracy: 0.9146 - val_loss: 0.2816 - val_accuracy: 0.9647\n",
            "Epoch 97/150\n",
            "398/398 [==============================] - 0s 83us/step - loss: 0.3926 - accuracy: 0.9121 - val_loss: 0.2801 - val_accuracy: 0.9647\n",
            "Epoch 98/150\n",
            "398/398 [==============================] - 0s 94us/step - loss: 0.4209 - accuracy: 0.9121 - val_loss: 0.2809 - val_accuracy: 0.9647\n",
            "Epoch 99/150\n",
            "398/398 [==============================] - 0s 81us/step - loss: 0.3953 - accuracy: 0.9171 - val_loss: 0.2802 - val_accuracy: 0.9647\n",
            "Epoch 100/150\n",
            "398/398 [==============================] - 0s 82us/step - loss: 0.4196 - accuracy: 0.9020 - val_loss: 0.2813 - val_accuracy: 0.9647\n",
            "Epoch 101/150\n",
            "398/398 [==============================] - 0s 84us/step - loss: 0.4082 - accuracy: 0.9070 - val_loss: 0.2840 - val_accuracy: 0.9647\n",
            "Epoch 102/150\n",
            "398/398 [==============================] - 0s 89us/step - loss: 0.3866 - accuracy: 0.9196 - val_loss: 0.2814 - val_accuracy: 0.9647\n",
            "Epoch 103/150\n",
            "398/398 [==============================] - 0s 95us/step - loss: 0.4084 - accuracy: 0.8995 - val_loss: 0.2829 - val_accuracy: 0.9647\n",
            "Epoch 104/150\n",
            "398/398 [==============================] - 0s 86us/step - loss: 0.3920 - accuracy: 0.9146 - val_loss: 0.2832 - val_accuracy: 0.9647\n",
            "Epoch 105/150\n",
            "398/398 [==============================] - 0s 92us/step - loss: 0.3764 - accuracy: 0.9196 - val_loss: 0.2799 - val_accuracy: 0.9647\n",
            "Epoch 106/150\n",
            "398/398 [==============================] - 0s 79us/step - loss: 0.3897 - accuracy: 0.9221 - val_loss: 0.2788 - val_accuracy: 0.9647\n",
            "Epoch 107/150\n",
            "398/398 [==============================] - 0s 87us/step - loss: 0.3747 - accuracy: 0.9246 - val_loss: 0.2787 - val_accuracy: 0.9647\n",
            "Epoch 108/150\n",
            "398/398 [==============================] - 0s 93us/step - loss: 0.3815 - accuracy: 0.9146 - val_loss: 0.2785 - val_accuracy: 0.9647\n",
            "Epoch 109/150\n",
            "398/398 [==============================] - 0s 95us/step - loss: 0.3890 - accuracy: 0.9171 - val_loss: 0.2784 - val_accuracy: 0.9647\n",
            "Epoch 110/150\n",
            "398/398 [==============================] - 0s 95us/step - loss: 0.4414 - accuracy: 0.8920 - val_loss: 0.2787 - val_accuracy: 0.9647\n",
            "Epoch 111/150\n",
            "398/398 [==============================] - 0s 95us/step - loss: 0.3642 - accuracy: 0.9322 - val_loss: 0.2776 - val_accuracy: 0.9647\n",
            "Epoch 112/150\n",
            "398/398 [==============================] - 0s 95us/step - loss: 0.3870 - accuracy: 0.9171 - val_loss: 0.2767 - val_accuracy: 0.9647\n",
            "Epoch 113/150\n",
            "398/398 [==============================] - 0s 93us/step - loss: 0.4161 - accuracy: 0.8995 - val_loss: 0.2793 - val_accuracy: 0.9647\n",
            "Epoch 114/150\n",
            "398/398 [==============================] - 0s 93us/step - loss: 0.4160 - accuracy: 0.8819 - val_loss: 0.2793 - val_accuracy: 0.9647\n",
            "Epoch 115/150\n",
            "398/398 [==============================] - 0s 92us/step - loss: 0.4119 - accuracy: 0.9070 - val_loss: 0.2784 - val_accuracy: 0.9647\n",
            "Epoch 116/150\n",
            "398/398 [==============================] - 0s 95us/step - loss: 0.4154 - accuracy: 0.8920 - val_loss: 0.2810 - val_accuracy: 0.9647\n",
            "Epoch 117/150\n",
            "398/398 [==============================] - 0s 92us/step - loss: 0.3901 - accuracy: 0.9095 - val_loss: 0.2799 - val_accuracy: 0.9647\n",
            "Epoch 118/150\n",
            "398/398 [==============================] - 0s 93us/step - loss: 0.4115 - accuracy: 0.9045 - val_loss: 0.2791 - val_accuracy: 0.9647\n",
            "Epoch 119/150\n",
            "398/398 [==============================] - 0s 111us/step - loss: 0.4144 - accuracy: 0.8945 - val_loss: 0.2801 - val_accuracy: 0.9647\n",
            "Epoch 120/150\n",
            "398/398 [==============================] - 0s 96us/step - loss: 0.4005 - accuracy: 0.8995 - val_loss: 0.2799 - val_accuracy: 0.9647\n",
            "Epoch 121/150\n",
            "398/398 [==============================] - 0s 98us/step - loss: 0.4028 - accuracy: 0.8970 - val_loss: 0.2810 - val_accuracy: 0.9647\n",
            "Epoch 122/150\n",
            "398/398 [==============================] - 0s 100us/step - loss: 0.4227 - accuracy: 0.8920 - val_loss: 0.2802 - val_accuracy: 0.9647\n",
            "Epoch 123/150\n",
            "398/398 [==============================] - 0s 93us/step - loss: 0.4136 - accuracy: 0.9020 - val_loss: 0.2806 - val_accuracy: 0.9647\n",
            "Epoch 124/150\n",
            "398/398 [==============================] - 0s 81us/step - loss: 0.3792 - accuracy: 0.9246 - val_loss: 0.2787 - val_accuracy: 0.9647\n",
            "Epoch 125/150\n",
            "398/398 [==============================] - 0s 85us/step - loss: 0.4146 - accuracy: 0.9020 - val_loss: 0.2800 - val_accuracy: 0.9647\n",
            "Epoch 126/150\n",
            "398/398 [==============================] - 0s 80us/step - loss: 0.4434 - accuracy: 0.9070 - val_loss: 0.2803 - val_accuracy: 0.9647\n",
            "Epoch 127/150\n",
            "398/398 [==============================] - 0s 83us/step - loss: 0.3796 - accuracy: 0.9271 - val_loss: 0.2812 - val_accuracy: 0.9765\n",
            "Epoch 128/150\n",
            "398/398 [==============================] - 0s 95us/step - loss: 0.3882 - accuracy: 0.9095 - val_loss: 0.2797 - val_accuracy: 0.9765\n",
            "Epoch 129/150\n",
            "398/398 [==============================] - 0s 79us/step - loss: 0.3655 - accuracy: 0.9397 - val_loss: 0.2774 - val_accuracy: 0.9647\n",
            "Epoch 130/150\n",
            "398/398 [==============================] - 0s 81us/step - loss: 0.3737 - accuracy: 0.9322 - val_loss: 0.2755 - val_accuracy: 0.9647\n",
            "Epoch 131/150\n",
            "398/398 [==============================] - 0s 79us/step - loss: 0.3889 - accuracy: 0.9196 - val_loss: 0.2756 - val_accuracy: 0.9647\n",
            "Epoch 132/150\n",
            "398/398 [==============================] - 0s 78us/step - loss: 0.4074 - accuracy: 0.8970 - val_loss: 0.2770 - val_accuracy: 0.9647\n",
            "Epoch 133/150\n",
            "398/398 [==============================] - 0s 81us/step - loss: 0.3783 - accuracy: 0.9196 - val_loss: 0.2766 - val_accuracy: 0.9647\n",
            "Epoch 134/150\n",
            "398/398 [==============================] - 0s 79us/step - loss: 0.4045 - accuracy: 0.9146 - val_loss: 0.2773 - val_accuracy: 0.9647\n",
            "Epoch 135/150\n",
            "398/398 [==============================] - 0s 78us/step - loss: 0.3877 - accuracy: 0.9020 - val_loss: 0.2767 - val_accuracy: 0.9647\n",
            "Epoch 136/150\n",
            "398/398 [==============================] - 0s 81us/step - loss: 0.3674 - accuracy: 0.9221 - val_loss: 0.2750 - val_accuracy: 0.9647\n",
            "Epoch 137/150\n",
            "398/398 [==============================] - 0s 81us/step - loss: 0.3955 - accuracy: 0.9171 - val_loss: 0.2745 - val_accuracy: 0.9647\n",
            "Epoch 138/150\n",
            "398/398 [==============================] - 0s 79us/step - loss: 0.4128 - accuracy: 0.8995 - val_loss: 0.2755 - val_accuracy: 0.9647\n",
            "Epoch 139/150\n",
            "398/398 [==============================] - 0s 80us/step - loss: 0.3869 - accuracy: 0.9121 - val_loss: 0.2764 - val_accuracy: 0.9647\n",
            "Epoch 140/150\n",
            "398/398 [==============================] - 0s 89us/step - loss: 0.4204 - accuracy: 0.8945 - val_loss: 0.2791 - val_accuracy: 0.9647\n",
            "Epoch 141/150\n",
            "398/398 [==============================] - 0s 84us/step - loss: 0.4000 - accuracy: 0.9070 - val_loss: 0.2798 - val_accuracy: 0.9765\n",
            "Epoch 142/150\n",
            "398/398 [==============================] - 0s 85us/step - loss: 0.3775 - accuracy: 0.9347 - val_loss: 0.2757 - val_accuracy: 0.9647\n",
            "Epoch 143/150\n",
            "398/398 [==============================] - 0s 84us/step - loss: 0.3747 - accuracy: 0.9171 - val_loss: 0.2750 - val_accuracy: 0.9647\n",
            "Epoch 144/150\n",
            "398/398 [==============================] - 0s 82us/step - loss: 0.3780 - accuracy: 0.9271 - val_loss: 0.2750 - val_accuracy: 0.9647\n",
            "Epoch 145/150\n",
            "398/398 [==============================] - 0s 89us/step - loss: 0.3964 - accuracy: 0.9045 - val_loss: 0.2753 - val_accuracy: 0.9647\n",
            "Epoch 146/150\n",
            "398/398 [==============================] - 0s 83us/step - loss: 0.4194 - accuracy: 0.9095 - val_loss: 0.2752 - val_accuracy: 0.9647\n",
            "Epoch 147/150\n",
            "398/398 [==============================] - 0s 100us/step - loss: 0.4048 - accuracy: 0.9020 - val_loss: 0.2746 - val_accuracy: 0.9647\n",
            "Epoch 148/150\n",
            "398/398 [==============================] - 0s 96us/step - loss: 0.3804 - accuracy: 0.9196 - val_loss: 0.2757 - val_accuracy: 0.9647\n",
            "Epoch 149/150\n",
            "398/398 [==============================] - 0s 91us/step - loss: 0.3377 - accuracy: 0.9447 - val_loss: 0.2737 - val_accuracy: 0.9647\n",
            "Epoch 150/150\n",
            "398/398 [==============================] - 0s 96us/step - loss: 0.4126 - accuracy: 0.9070 - val_loss: 0.2741 - val_accuracy: 0.9647\n"
          ],
          "name": "stdout"
        }
      ]
    },
    {
      "cell_type": "code",
      "metadata": {
        "id": "mC5PzLgapW3o",
        "colab": {
          "base_uri": "https://localhost:8080/",
          "height": 51
        },
        "outputId": "462630f9-cc99-4dde-bbcc-eb450d762ac3"
      },
      "source": [
        "score=model4.evaluate(X_test,Y_test,verbose=1)\n",
        "print(score)"
      ],
      "execution_count": null,
      "outputs": [
        {
          "output_type": "stream",
          "text": [
            "86/86 [==============================] - 0s 90us/step\n",
            "[0.30907403313836385, 0.9418604373931885]\n"
          ],
          "name": "stdout"
        }
      ]
    },
    {
      "cell_type": "code",
      "metadata": {
        "id": "No0-xLMopcas",
        "colab": {
          "base_uri": "https://localhost:8080/",
          "height": 295
        },
        "outputId": "6dfa0501-7a39-4fb2-c88e-c88a0b207b70"
      },
      "source": [
        "import matplotlib.pyplot as plt\n",
        "plt.plot(hist4.history['loss'])\n",
        "plt.plot(hist4.history['val_loss'])\n",
        "plt.title('Model loss')\n",
        "plt.ylabel('Loss')\n",
        "plt.xlabel('Epoch')\n",
        "plt.legend(['Train', 'Val'], loc='upper right')\n",
        "plt.show()"
      ],
      "execution_count": null,
      "outputs": [
        {
          "output_type": "display_data",
          "data": {
            "image/png": "[encoded data removed]",
            "text/plain": [
              "<Figure size 432x288 with 1 Axes>"
            ]
          },
          "metadata": {
            "tags": [],
            "needs_background": "light"
          }
        }
      ]
    },
    {
      "cell_type": "code",
      "metadata": {
        "id": "3tKr4TFLvAnF",
        "colab": {
          "base_uri": "https://localhost:8080/",
          "height": 295
        },
        "outputId": "9db152a4-7e1c-43cd-b6f0-0e8777d1f9c6"
      },
      "source": [
        "plt.plot(hist4.history['accuracy'])\n",
        "plt.plot(hist4.history['val_accuracy'])\n",
        "plt.title('Model accuracy')\n",
        "plt.ylabel('Accuracy')\n",
        "plt.xlabel('Epoch')\n",
        "plt.legend(['Train', 'Val'], loc='lower right')\n",
        "plt.show()"
      ],
      "execution_count": null,
      "outputs": [
        {
          "output_type": "display_data",
          "data": {
            "image/png": "[encoded data removed]",
            "text/plain": [
              "<Figure size 432x288 with 1 Axes>"
            ]
          },
          "metadata": {
            "tags": [],
            "needs_background": "light"
          }
        }
      ]
    }
  ]
}