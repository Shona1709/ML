{
  "nbformat": 4,
  "nbformat_minor": 0,
  "metadata": {
    "colab": {
      "provenance": [],
      "authorship_tag": "ABX9TyNAOCX1NrpJTqSrE4KlNRkw",
      "include_colab_link": true
    },
    "kernelspec": {
      "name": "python3",
      "display_name": "Python 3"
    },
    "language_info": {
      "name": "python"
    }
  },
  "cells": [
    {
      "cell_type": "markdown",
      "metadata": {
        "id": "view-in-github",
        "colab_type": "text"
      },
      "source": [
        "<a href=\"https://colab.research.google.com/github/Shona1709/ML/blob/Python-scripts/GA_extended_work.ipynb\" target=\"_parent\"><img src=\"https://colab.research.google.com/assets/colab-badge.svg\" alt=\"Open In Colab\"/></a>"
      ]
    },
    {
      "cell_type": "code",
      "metadata": {
        "colab": {
          "base_uri": "https://localhost:8080/"
        },
        "id": "xKRntpetRWf4",
        "outputId": "efa2ec55-a022-4eb7-b7ea-af5f82494b68"
      },
      "source": [
        "!pip install sklearn-genetic"
      ],
      "execution_count": null,
      "outputs": [
        {
          "output_type": "stream",
          "text": [
            "Collecting sklearn-genetic\n",
            "  Downloading sklearn_genetic-0.4.1-py2.py3-none-any.whl (10 kB)\n",
            "Requirement already satisfied: scikit-learn>=0.20.3 in /usr/local/lib/python3.7/dist-packages (from sklearn-genetic) (0.22.2.post1)\n",
            "Collecting deap>=1.0.2\n",
            "  Downloading deap-1.3.1-cp37-cp37m-manylinux_2_5_x86_64.manylinux1_x86_64.manylinux_2_12_x86_64.manylinux2010_x86_64.whl (160 kB)\n",
            "\u001b[K     |████████████████████████████████| 160 kB 6.8 MB/s \n",
            "\u001b[?25hRequirement already satisfied: numpy in /usr/local/lib/python3.7/dist-packages (from deap>=1.0.2->sklearn-genetic) (1.19.5)\n",
            "Requirement already satisfied: scipy>=0.17.0 in /usr/local/lib/python3.7/dist-packages (from scikit-learn>=0.20.3->sklearn-genetic) (1.4.1)\n",
            "Requirement already satisfied: joblib>=0.11 in /usr/local/lib/python3.7/dist-packages (from scikit-learn>=0.20.3->sklearn-genetic) (1.0.1)\n",
            "Installing collected packages: deap, sklearn-genetic\n",
            "Successfully installed deap-1.3.1 sklearn-genetic-0.4.1\n"
          ],
          "name": "stdout"
        }
      ]
    },
    {
      "cell_type": "code",
      "metadata": {
        "id": "iZZXxBw9SnlQ"
      },
      "source": [
        "import numpy as np # linear algebra\n",
        "import pandas as pd # data processing, CSV file I/O (e.g. pd.read_csv)\n",
        "import seaborn as sns # data visualization library\n",
        "import matplotlib.pyplot as plt\n",
        "import time\n",
        "from subprocess import check_output\n",
        "import warnings\n",
        "warnings.filterwarnings(\"ignore\", category=FutureWarning)\n",
        "\n",
        "\n",
        "import sklearn\n",
        "from google.colab import files, drive, data_table\n",
        "from google.colab.data_table import *\n",
        "from lightgbm import *\n",
        "from sklearn.ensemble import *\n",
        "from sklearn.ensemble import *\n",
        "from sklearn.neural_network import *\n",
        "from sklearn.model_selection import *\n",
        "from sklearn.naive_bayes import *\n",
        "from xgboost import *\n",
        "from sklearn.svm import *\n",
        "from sklearn.linear_model import *\n",
        "from genetic_selection import GeneticSelectionCV\n",
        "from sklearn.metrics import *\n",
        "\n",
        "from sklearn.tree import *\n",
        "import warnings\n",
        "from sklearn.utils import *\n",
        "from yellowbrick.model_selection import *\n",
        "from yellowbrick.classifier import *\n",
        "import matplotlib.pyplot as plt\n",
        "#from bayes_opt import *\n",
        "#from mlxtend.feature_selection import *\n",
        "import warnings\n",
        "warnings.filterwarnings(\"ignore\")\n",
        "#import h2o\n",
        "##from h2o.automl import H2OAutoML\n",
        "##h2o.init()\n",
        "\n",
        "mcc = make_scorer(matthews_corrcoef)"
      ],
      "execution_count": null,
      "outputs": []
    },
    {
      "cell_type": "code",
      "metadata": {
        "id": "W44hRMgUUhLw"
      },
      "source": [
        "data = pd.read_csv('breast_cancer_final.csv');"
      ],
      "execution_count": null,
      "outputs": []
    },
    {
      "cell_type": "code",
      "metadata": {
        "id": "5R_HnE-VUyt7"
      },
      "source": [
        "y = data['diagnosis']                   # M or B\n",
        "list = ['id','diagnosis']\n",
        "x = data.drop(list,axis = 1 )\n",
        "y = y.replace(\"B\", 0)\n",
        "y = y.replace(\"M\", 1)\n"
      ],
      "execution_count": null,
      "outputs": []
    },
    {
      "cell_type": "code",
      "metadata": {
        "colab": {
          "base_uri": "https://localhost:8080/"
        },
        "id": "JHf8cKX2WuW0",
        "outputId": "cad6b375-40fb-425f-86e2-e7db64a31680"
      },
      "source": [
        "from sklearn import preprocessing\n",
        "min_max_scaler = preprocessing.MinMaxScaler()\n",
        "X_scale = min_max_scaler.fit_transform(x)\n",
        "X_scale"
      ],
      "execution_count": null,
      "outputs": [
        {
          "output_type": "execute_result",
          "data": {
            "text/plain": [
              "array([[0.52103744, 0.0226581 , 0.54598853, ..., 0.91202749, 0.59846245,\n",
              "        0.41886396],\n",
              "       [0.64314449, 0.27257355, 0.61578329, ..., 0.63917526, 0.23358959,\n",
              "        0.22287813],\n",
              "       [0.60149557, 0.3902604 , 0.59574321, ..., 0.83505155, 0.40370589,\n",
              "        0.21343303],\n",
              "       ...,\n",
              "       [0.45525108, 0.62123774, 0.44578813, ..., 0.48728522, 0.12872068,\n",
              "        0.1519087 ],\n",
              "       [0.64456434, 0.66351031, 0.66553797, ..., 0.91065292, 0.49714173,\n",
              "        0.45231536],\n",
              "       [0.03686876, 0.50152181, 0.02853984, ..., 0.        , 0.25744136,\n",
              "        0.10068215]])"
            ]
          },
          "metadata": {
            "tags": []
          },
          "execution_count": 6
        }
      ]
    },
    {
      "cell_type": "code",
      "metadata": {
        "colab": {
          "base_uri": "https://localhost:8080/"
        },
        "id": "pqfd0LMbZE3z",
        "outputId": "8390e426-040c-48c1-b6b9-a5b1d40b6552"
      },
      "source": [
        "estimator = LogisticRegression(solver = \"liblinear\", C = 6, tol = 1, fit_intercept = True)\n",
        "\n",
        "from sklearn.model_selection import *\n",
        "report = pd.DataFrame()\n",
        "nofeats = []\n",
        "chosen_feats = []\n",
        "cvscore = []\n",
        "rkf = RepeatedStratifiedKFold(n_repeats = 20, n_splits = 5)\n",
        "for i in range(2,11):\n",
        "\n",
        "  selector = GeneticSelectionCV(estimator,\n",
        "                                cv = rkf,\n",
        "                                verbose = 0,\n",
        "                                scoring = mcc,\n",
        "                                max_features = i,\n",
        "                                n_population = 200,\n",
        "                                crossover_proba = 0.5,\n",
        "                                mutation_proba = 0.2,\n",
        "                                n_generations = 10,\n",
        "                                crossover_independent_proba=0.5,\n",
        "                                mutation_independent_proba=0.1,\n",
        "                                #tournament_size = 3,\n",
        "                                n_gen_no_change=10,\n",
        "                                caching=True,\n",
        "                                n_jobs=-1)\n",
        "  selector = selector.fit(x, y)\n",
        "  genfeats = x.columns[selector.support_]\n",
        "  #genfeats = list(genfeats)\n",
        "  print(\"Chosen Feats:  \", genfeats)\n",
        "\n",
        "  cv_score = selector.generation_scores_[-1]\n",
        "  nofeats.append(len(genfeats))\n",
        "  chosen_feats.append(genfeats)\n",
        "  cvscore.append(cv_score)\n",
        "report[\"No of Feats\"] = nofeats\n",
        "report[\"Chosen Feats\"] = chosen_feats\n",
        "report[\"Scores\"] = cvscore\n"
      ],
      "execution_count": null,
      "outputs": [
        {
          "output_type": "stream",
          "text": [
            "Chosen Feats:   Index(['radius_worst', 'concavity_worst'], dtype='object')\n",
            "Chosen Feats:   Index(['radius_worst', 'compactness_worst', 'concavity_worst'], dtype='object')\n",
            "Chosen Feats:   Index(['radius_worst', 'compactness_worst', 'concavity_worst',\n",
            "       'concave points_worst'],\n",
            "      dtype='object')\n",
            "Chosen Feats:   Index(['concavity_se', 'radius_worst', 'compactness_worst', 'concavity_worst',\n",
            "       'concave points_worst'],\n",
            "      dtype='object')\n",
            "Chosen Feats:   Index(['compactness_mean', 'concavity_mean', 'fractal_dimension_mean',\n",
            "       'radius_worst', 'concavity_worst', 'concave points_worst'],\n",
            "      dtype='object')\n",
            "Chosen Feats:   Index(['concavity_mean', 'concave points_mean', 'smoothness_se',\n",
            "       'radius_worst', 'concavity_worst', 'concave points_worst'],\n",
            "      dtype='object')\n",
            "Chosen Feats:   Index(['compactness_mean', 'concavity_mean', 'concave points_mean',\n",
            "       'symmetry_se', 'radius_worst', 'concavity_worst',\n",
            "       'concave points_worst'],\n",
            "      dtype='object')\n",
            "Chosen Feats:   Index(['concavity_mean', 'concave points_mean', 'symmetry_se', 'radius_worst',\n",
            "       'concavity_worst', 'concave points_worst'],\n",
            "      dtype='object')\n",
            "Chosen Feats:   Index(['compactness_mean', 'concavity_mean', 'radius_worst', 'concavity_worst',\n",
            "       'concave points_worst'],\n",
            "      dtype='object')\n"
          ],
          "name": "stdout"
        }
      ]
    },
    {
      "cell_type": "code",
      "metadata": {
        "colab": {
          "base_uri": "https://localhost:8080/"
        },
        "id": "4tmQW-iJgwPr",
        "outputId": "bec70740-1949-4cab-a565-99c3bcb094ae"
      },
      "source": [
        "report[\"Scores\"] = np.round(report[\"Scores\"], 3)\n",
        "report.sort_values(by = \"Scores\", ascending = False, inplace = True)\n",
        "#report.index\n",
        "ga_feats = report.iloc[0][\"Chosen Feats\"]\n",
        "DataTable(report)\n",
        "print(ga_feats)"
      ],
      "execution_count": null,
      "outputs": [
        {
          "output_type": "stream",
          "text": [
            "Index(['compactness_mean', 'concavity_mean', 'fractal_dimension_mean',\n",
            "       'radius_worst', 'concavity_worst', 'concave points_worst'],\n",
            "      dtype='object')\n"
          ],
          "name": "stdout"
        }
      ]
    },
    {
      "cell_type": "code",
      "metadata": {
        "id": "ZbZez5uyptCF"
      },
      "source": [],
      "execution_count": null,
      "outputs": []
    },
    {
      "cell_type": "code",
      "metadata": {
        "id": "tz7GdhNWp2Fm"
      },
      "source": [],
      "execution_count": null,
      "outputs": []
    },
    {
      "cell_type": "code",
      "metadata": {
        "colab": {
          "base_uri": "https://localhost:8080/",
          "height": 328
        },
        "id": "aOyLhgbVg4wX",
        "outputId": "0e1440be-8367-4a17-c136-f4fd10b23345"
      },
      "source": [
        "report"
      ],
      "execution_count": null,
      "outputs": [
        {
          "output_type": "execute_result",
          "data": {
            "text/html": [
              "<div>\n",
              "<style scoped>\n",
              "    .dataframe tbody tr th:only-of-type {\n",
              "        vertical-align: middle;\n",
              "    }\n",
              "\n",
              "    .dataframe tbody tr th {\n",
              "        vertical-align: top;\n",
              "    }\n",
              "\n",
              "    .dataframe thead th {\n",
              "        text-align: right;\n",
              "    }\n",
              "</style>\n",
              "<table border=\"1\" class=\"dataframe\">\n",
              "  <thead>\n",
              "    <tr style=\"text-align: right;\">\n",
              "      <th></th>\n",
              "      <th>No of Feats</th>\n",
              "      <th>Chosen Feats</th>\n",
              "      <th>Scores</th>\n",
              "    </tr>\n",
              "  </thead>\n",
              "  <tbody>\n",
              "    <tr>\n",
              "      <th>4</th>\n",
              "      <td>6</td>\n",
              "      <td>Index(['compactness_mean', 'concavity_mean', '...</td>\n",
              "      <td>0.889</td>\n",
              "    </tr>\n",
              "    <tr>\n",
              "      <th>5</th>\n",
              "      <td>6</td>\n",
              "      <td>Index(['concavity_mean', 'concave points_mean'...</td>\n",
              "      <td>0.889</td>\n",
              "    </tr>\n",
              "    <tr>\n",
              "      <th>6</th>\n",
              "      <td>7</td>\n",
              "      <td>Index(['compactness_mean', 'concavity_mean', '...</td>\n",
              "      <td>0.889</td>\n",
              "    </tr>\n",
              "    <tr>\n",
              "      <th>7</th>\n",
              "      <td>6</td>\n",
              "      <td>Index(['concavity_mean', 'concave points_mean'...</td>\n",
              "      <td>0.889</td>\n",
              "    </tr>\n",
              "    <tr>\n",
              "      <th>8</th>\n",
              "      <td>5</td>\n",
              "      <td>Index(['compactness_mean', 'concavity_mean', '...</td>\n",
              "      <td>0.888</td>\n",
              "    </tr>\n",
              "    <tr>\n",
              "      <th>3</th>\n",
              "      <td>5</td>\n",
              "      <td>Index(['concavity_se', 'radius_worst', 'compac...</td>\n",
              "      <td>0.886</td>\n",
              "    </tr>\n",
              "    <tr>\n",
              "      <th>2</th>\n",
              "      <td>4</td>\n",
              "      <td>Index(['radius_worst', 'compactness_worst', 'c...</td>\n",
              "      <td>0.885</td>\n",
              "    </tr>\n",
              "    <tr>\n",
              "      <th>1</th>\n",
              "      <td>3</td>\n",
              "      <td>Index(['radius_worst', 'compactness_worst', 'c...</td>\n",
              "      <td>0.883</td>\n",
              "    </tr>\n",
              "    <tr>\n",
              "      <th>0</th>\n",
              "      <td>2</td>\n",
              "      <td>Index(['radius_worst', 'concavity_worst'], dty...</td>\n",
              "      <td>0.871</td>\n",
              "    </tr>\n",
              "  </tbody>\n",
              "</table>\n",
              "</div>"
            ],
            "text/plain": [
              "   No of Feats                                       Chosen Feats  Scores\n",
              "4            6  Index(['compactness_mean', 'concavity_mean', '...   0.889\n",
              "5            6  Index(['concavity_mean', 'concave points_mean'...   0.889\n",
              "6            7  Index(['compactness_mean', 'concavity_mean', '...   0.889\n",
              "7            6  Index(['concavity_mean', 'concave points_mean'...   0.889\n",
              "8            5  Index(['compactness_mean', 'concavity_mean', '...   0.888\n",
              "3            5  Index(['concavity_se', 'radius_worst', 'compac...   0.886\n",
              "2            4  Index(['radius_worst', 'compactness_worst', 'c...   0.885\n",
              "1            3  Index(['radius_worst', 'compactness_worst', 'c...   0.883\n",
              "0            2  Index(['radius_worst', 'concavity_worst'], dty...   0.871"
            ]
          },
          "metadata": {
            "tags": []
          },
          "execution_count": 12
        }
      ]
    },
    {
      "cell_type": "code",
      "metadata": {
        "colab": {
          "base_uri": "https://localhost:8080/"
        },
        "id": "PnFvExTmiBTe",
        "outputId": "5a41674d-2786-439e-f3db-9718adb1c3dd"
      },
      "source": [
        "estimator = RandomForestClassifier(max_depth = 3)\n",
        "from sklearn.model_selection import *\n",
        "report = pd.DataFrame()\n",
        "nofeats = []\n",
        "chosen_feats = []\n",
        "cvscore = []\n",
        "rkf = RepeatedStratifiedKFold(n_repeats = 1, n_splits = 10)\n",
        "for i in range(2,11):\n",
        "\n",
        "  selector = GeneticSelectionCV(estimator,\n",
        "                                cv = rkf,\n",
        "                                verbose = 0,\n",
        "                                scoring = \"roc_auc\",\n",
        "                                max_features = i,\n",
        "                                n_population = 30,\n",
        "                                crossover_proba = 0.5,\n",
        "                                mutation_proba = 0.2,\n",
        "                                n_generations = 10,\n",
        "                                crossover_independent_proba=0.5,\n",
        "                                mutation_independent_proba=0.05,\n",
        "                                tournament_size = 1,\n",
        "                                n_gen_no_change = 5,\n",
        "                                caching = True,\n",
        "                                n_jobs=-1)\n",
        "  selector = selector.fit(x, y)\n",
        "\n",
        "  print(selector.support_)\n",
        "\n",
        "  genfeats = x.columns[selector.support_]\n",
        "  #genfeats = list(genfeats)\n",
        "  print(genfeats)\n",
        "\n",
        " # X = D[genfeats] ; y = D.iloc[:,-1]\n",
        "  #clf = selector.estimator\n",
        "\n",
        "  cv_score = selector.generation_scores_[-1]\n",
        "  nofeats.append(len(genfeats))\n",
        "  chosen_feats.append(genfeats)\n",
        "  cvscore.append(cv_score)\n",
        "\n",
        "report[\"No of Feats\"] = nofeats\n",
        "report[\"Chosen Feats\"] = chosen_feats\n",
        "report[\"Scores\"] = np.round(cvscore, 3)"
      ],
      "execution_count": null,
      "outputs": [
        {
          "output_type": "stream",
          "text": [
            "[False False False  True False False False False False False False False\n",
            " False False False False False False False False False False False False\n",
            " False False False  True False False]\n",
            "Index(['area_mean', 'concave points_worst'], dtype='object')\n",
            "[False False  True False  True False False False False False False False\n",
            " False False False False False False False False False  True False False\n",
            " False False False False False False]\n",
            "Index(['perimeter_mean', 'smoothness_mean', 'texture_worst'], dtype='object')\n",
            "[False False False False False False False  True False False False False\n",
            " False False False False False  True False False False False False  True\n",
            "  True False False False False False]\n",
            "Index(['concave points_mean', 'concave points_se', 'area_worst',\n",
            "       'smoothness_worst'],\n",
            "      dtype='object')\n",
            "[False False False False False False False  True False False False False\n",
            " False False False False  True False False False  True  True False False\n",
            " False False  True False False False]\n",
            "Index(['concave points_mean', 'concavity_se', 'radius_worst', 'texture_worst',\n",
            "       'concavity_worst'],\n",
            "      dtype='object')\n",
            "[False False False False False False False False False False False False\n",
            " False  True False False False False False False False False False  True\n",
            " False False  True False  True False]\n",
            "Index(['area_se', 'area_worst', 'concavity_worst', 'symmetry_worst'], dtype='object')\n",
            "[False False False  True False False False  True False False  True False\n",
            " False False False False False False False False False  True False False\n",
            " False False False False False False]\n",
            "Index(['area_mean', 'concave points_mean', 'radius_se', 'texture_worst'], dtype='object')\n",
            "[False False False False False False  True False False False False False\n",
            "  True False False False False  True False False False  True False  True\n",
            "  True False False False  True False]\n",
            "Index(['concavity_mean', 'perimeter_se', 'concave points_se', 'texture_worst',\n",
            "       'area_worst', 'smoothness_worst', 'symmetry_worst'],\n",
            "      dtype='object')\n",
            "[False False False False False False False  True False False  True False\n",
            " False False False  True False False False False False  True False  True\n",
            " False False False False False False]\n",
            "Index(['concave points_mean', 'radius_se', 'compactness_se', 'texture_worst',\n",
            "       'area_worst'],\n",
            "      dtype='object')\n",
            "[ True  True  True False False False False False False  True False  True\n",
            " False  True False False  True False False False False False False False\n",
            " False  True  True  True False False]\n",
            "Index(['radius_mean', 'texture_mean', 'perimeter_mean',\n",
            "       'fractal_dimension_mean', 'texture_se', 'area_se', 'concavity_se',\n",
            "       'compactness_worst', 'concavity_worst', 'concave points_worst'],\n",
            "      dtype='object')\n"
          ],
          "name": "stdout"
        }
      ]
    },
    {
      "cell_type": "code",
      "metadata": {
        "colab": {
          "base_uri": "https://localhost:8080/",
          "height": 328
        },
        "id": "WT7JEufep57J",
        "outputId": "d29f7802-131d-4e0e-d9ca-c459e5236f81"
      },
      "source": [
        "report.sort_values(by = \"Scores\", ascending = False, inplace = True)\n",
        "report"
      ],
      "execution_count": null,
      "outputs": [
        {
          "output_type": "execute_result",
          "data": {
            "text/html": [
              "<div>\n",
              "<style scoped>\n",
              "    .dataframe tbody tr th:only-of-type {\n",
              "        vertical-align: middle;\n",
              "    }\n",
              "\n",
              "    .dataframe tbody tr th {\n",
              "        vertical-align: top;\n",
              "    }\n",
              "\n",
              "    .dataframe thead th {\n",
              "        text-align: right;\n",
              "    }\n",
              "</style>\n",
              "<table border=\"1\" class=\"dataframe\">\n",
              "  <thead>\n",
              "    <tr style=\"text-align: right;\">\n",
              "      <th></th>\n",
              "      <th>No of Feats</th>\n",
              "      <th>Chosen Feats</th>\n",
              "      <th>Scores</th>\n",
              "    </tr>\n",
              "  </thead>\n",
              "  <tbody>\n",
              "    <tr>\n",
              "      <th>6</th>\n",
              "      <td>7</td>\n",
              "      <td>Index(['concavity_mean', 'perimeter_se', 'conc...</td>\n",
              "      <td>0.991</td>\n",
              "    </tr>\n",
              "    <tr>\n",
              "      <th>7</th>\n",
              "      <td>5</td>\n",
              "      <td>Index(['concave points_mean', 'radius_se', 'co...</td>\n",
              "      <td>0.991</td>\n",
              "    </tr>\n",
              "    <tr>\n",
              "      <th>3</th>\n",
              "      <td>5</td>\n",
              "      <td>Index(['concave points_mean', 'concavity_se', ...</td>\n",
              "      <td>0.990</td>\n",
              "    </tr>\n",
              "    <tr>\n",
              "      <th>4</th>\n",
              "      <td>4</td>\n",
              "      <td>Index(['area_se', 'area_worst', 'concavity_wor...</td>\n",
              "      <td>0.990</td>\n",
              "    </tr>\n",
              "    <tr>\n",
              "      <th>5</th>\n",
              "      <td>4</td>\n",
              "      <td>Index(['area_mean', 'concave points_mean', 'ra...</td>\n",
              "      <td>0.990</td>\n",
              "    </tr>\n",
              "    <tr>\n",
              "      <th>8</th>\n",
              "      <td>10</td>\n",
              "      <td>Index(['radius_mean', 'texture_mean', 'perimet...</td>\n",
              "      <td>0.990</td>\n",
              "    </tr>\n",
              "    <tr>\n",
              "      <th>2</th>\n",
              "      <td>4</td>\n",
              "      <td>Index(['concave points_mean', 'concave points_...</td>\n",
              "      <td>0.985</td>\n",
              "    </tr>\n",
              "    <tr>\n",
              "      <th>0</th>\n",
              "      <td>2</td>\n",
              "      <td>Index(['area_mean', 'concave points_worst'], d...</td>\n",
              "      <td>0.983</td>\n",
              "    </tr>\n",
              "    <tr>\n",
              "      <th>1</th>\n",
              "      <td>3</td>\n",
              "      <td>Index(['perimeter_mean', 'smoothness_mean', 't...</td>\n",
              "      <td>0.980</td>\n",
              "    </tr>\n",
              "  </tbody>\n",
              "</table>\n",
              "</div>"
            ],
            "text/plain": [
              "   No of Feats                                       Chosen Feats  Scores\n",
              "6            7  Index(['concavity_mean', 'perimeter_se', 'conc...   0.991\n",
              "7            5  Index(['concave points_mean', 'radius_se', 'co...   0.991\n",
              "3            5  Index(['concave points_mean', 'concavity_se', ...   0.990\n",
              "4            4  Index(['area_se', 'area_worst', 'concavity_wor...   0.990\n",
              "5            4  Index(['area_mean', 'concave points_mean', 'ra...   0.990\n",
              "8           10  Index(['radius_mean', 'texture_mean', 'perimet...   0.990\n",
              "2            4  Index(['concave points_mean', 'concave points_...   0.985\n",
              "0            2  Index(['area_mean', 'concave points_worst'], d...   0.983\n",
              "1            3  Index(['perimeter_mean', 'smoothness_mean', 't...   0.980"
            ]
          },
          "metadata": {
            "tags": []
          },
          "execution_count": 14
        }
      ]
    },
    {
      "cell_type": "code",
      "metadata": {
        "colab": {
          "base_uri": "https://localhost:8080/"
        },
        "id": "p1Mss26_qEp4",
        "outputId": "e1f636a7-a3ba-4a16-dbff-77ac675a8dbc"
      },
      "source": [
        "report[\"Scores\"] = np.round(report[\"Scores\"], 3)\n",
        "report.sort_values(by = \"Scores\", ascending = False, inplace = True)\n",
        "#report.index\n",
        "ga_feats = report.iloc[0][\"Chosen Feats\"]\n",
        "DataTable(report)\n",
        "print(ga_feats)"
      ],
      "execution_count": null,
      "outputs": [
        {
          "output_type": "stream",
          "text": [
            "Index(['concavity_mean', 'perimeter_se', 'concave points_se', 'texture_worst',\n",
            "       'area_worst', 'smoothness_worst', 'symmetry_worst'],\n",
            "      dtype='object')\n"
          ],
          "name": "stdout"
        }
      ]
    }
  ]
}