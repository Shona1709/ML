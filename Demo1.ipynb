{
  "nbformat": 4,
  "nbformat_minor": 0,
  "metadata": {
    "colab": {
      "provenance": [],
      "gpuType": "T4",
      "authorship_tag": "ABX9TyOhZvRuW0A+KFDwrW9Xraex",
      "include_colab_link": true
    },
    "kernelspec": {
      "name": "python3",
      "display_name": "Python 3"
    },
    "language_info": {
      "name": "python"
    },
    "accelerator": "GPU"
  },
  "cells": [
    {
      "cell_type": "markdown",
      "metadata": {
        "id": "view-in-github",
        "colab_type": "text"
      },
      "source": [
        "<a href=\"https://colab.research.google.com/github/Shona1709/ML/blob/Data-Science/Demo1.ipynb\" target=\"_parent\"><img src=\"https://colab.research.google.com/assets/colab-badge.svg\" alt=\"Open In Colab\"/></a>"
      ]
    },
    {
      "cell_type": "markdown",
      "source": [
        "**Learning outcomes**\n",
        "\n",
        "1.   Understand and define variables,keywords and operators\n",
        "2.   Build mathematical expressions using Python\n",
        "3.  Understand and determine datatypes of\n",
        "values\n",
        "4.   Define string variables and apply inbuilt string manipulation functions\n",
        "5.   Implement conditional if -else constructs\n",
        "\n",
        "\n",
        "\n",
        "\n",
        "  \n",
        "\n",
        "\n",
        "\n",
        "\n",
        "\n",
        "\n",
        "\n",
        "\n",
        "\n"
      ],
      "metadata": {
        "id": "V9sktWhPTJhn"
      }
    },
    {
      "cell_type": "markdown",
      "source": [
        "**Use of comments**\n",
        "\n",
        "*   Comments are lines of text  in your code used to describe the code\n",
        "*   To write a comment in Python, just add a hash mark (#) before your comment text\n",
        "\n",
        "\n"
      ],
      "metadata": {
        "id": "rqHFZo0ajwW_"
      }
    },
    {
      "cell_type": "code",
      "source": [
        "#This is a comment line"
      ],
      "metadata": {
        "id": "qgcDfliIk_Uh"
      },
      "execution_count": null,
      "outputs": []
    },
    {
      "cell_type": "markdown",
      "source": [
        "**Print function**"
      ],
      "metadata": {
        "id": "fIlQfnBxjXJh"
      }
    },
    {
      "cell_type": "code",
      "source": [
        "print(\"Hello\")\n",
        "print('Hello')\n"
      ],
      "metadata": {
        "colab": {
          "base_uri": "https://localhost:8080/"
        },
        "id": "Cw1wIB96jfGp",
        "outputId": "50f92704-e008-4aad-c4da-b296bd6f205c"
      },
      "execution_count": null,
      "outputs": [
        {
          "output_type": "stream",
          "name": "stdout",
          "text": [
            "Hello\n",
            "Hello\n"
          ]
        }
      ]
    },
    {
      "cell_type": "markdown",
      "source": [
        "**Syntax error**"
      ],
      "metadata": {
        "id": "r3diuYSwlHQb"
      }
    },
    {
      "cell_type": "code",
      "source": [
        "print(Preface)"
      ],
      "metadata": {
        "colab": {
          "base_uri": "https://localhost:8080/",
          "height": 141
        },
        "id": "efxp4bM2jrNS",
        "outputId": "8c8d4cb2-1d35-4a4f-9af6-22ca891996b5"
      },
      "execution_count": null,
      "outputs": [
        {
          "output_type": "error",
          "ename": "NameError",
          "evalue": "name 'Preface' is not defined",
          "traceback": [
            "\u001b[0;31m---------------------------------------------------------------------------\u001b[0m",
            "\u001b[0;31mNameError\u001b[0m                                 Traceback (most recent call last)",
            "\u001b[0;32m<ipython-input-7-df5fedbfc787>\u001b[0m in \u001b[0;36m<cell line: 1>\u001b[0;34m()\u001b[0m\n\u001b[0;32m----> 1\u001b[0;31m \u001b[0mprint\u001b[0m\u001b[0;34m(\u001b[0m\u001b[0mPreface\u001b[0m\u001b[0;34m)\u001b[0m\u001b[0;34m\u001b[0m\u001b[0;34m\u001b[0m\u001b[0m\n\u001b[0m",
            "\u001b[0;31mNameError\u001b[0m: name 'Preface' is not defined"
          ]
        }
      ]
    },
    {
      "cell_type": "markdown",
      "source": [
        "**Variables**\n",
        "\n",
        "---\n",
        "\n",
        "\n",
        "A placeholder to hold any type of data\n"
      ],
      "metadata": {
        "id": "8yaXpMfafarO"
      }
    },
    {
      "cell_type": "code",
      "source": [
        "a=3\n",
        "print(a)"
      ],
      "metadata": {
        "colab": {
          "base_uri": "https://localhost:8080/"
        },
        "id": "LIti6vY0fZQS",
        "outputId": "a746194c-eef1-4526-83cd-04ee63b043b8"
      },
      "execution_count": null,
      "outputs": [
        {
          "output_type": "stream",
          "name": "stdout",
          "text": [
            "3\n"
          ]
        }
      ]
    },
    {
      "cell_type": "code",
      "source": [
        "print('a')"
      ],
      "metadata": {
        "colab": {
          "base_uri": "https://localhost:8080/"
        },
        "id": "E9sqx5aITPoV",
        "outputId": "cf264f5c-bb71-4c09-cafc-f05efeb637e9"
      },
      "execution_count": null,
      "outputs": [
        {
          "output_type": "stream",
          "name": "stdout",
          "text": [
            "a\n"
          ]
        }
      ]
    },
    {
      "cell_type": "code",
      "source": [
        "string1='Artificial intelligence'\n",
        "print(string1)"
      ],
      "metadata": {
        "colab": {
          "base_uri": "https://localhost:8080/"
        },
        "id": "_hcRW5X7nhEu",
        "outputId": "1ad883d0-74da-4fb8-ce98-bd1b32796c05"
      },
      "execution_count": null,
      "outputs": [
        {
          "output_type": "stream",
          "name": "stdout",
          "text": [
            "Artificial intelligence\n"
          ]
        }
      ]
    },
    {
      "cell_type": "markdown",
      "source": [
        "**Keywords**\n",
        "\n",
        "---\n",
        "Reserved words that cannot be used as variables\n",
        "\n",
        "*and,as,not,else,if,elif,import,def,break and so on*"
      ],
      "metadata": {
        "id": "z8ga1SQa09im"
      }
    },
    {
      "cell_type": "code",
      "source": [
        "def=123"
      ],
      "metadata": {
        "colab": {
          "base_uri": "https://localhost:8080/",
          "height": 106
        },
        "id": "FHXfS_891Fxj",
        "outputId": "32242f25-b0ac-4cce-dce0-0eafe2e83b9d"
      },
      "execution_count": null,
      "outputs": [
        {
          "output_type": "error",
          "ename": "SyntaxError",
          "evalue": "invalid syntax (<ipython-input-11-0e78859b7116>, line 1)",
          "traceback": [
            "\u001b[0;36m  File \u001b[0;32m\"<ipython-input-11-0e78859b7116>\"\u001b[0;36m, line \u001b[0;32m1\u001b[0m\n\u001b[0;31m    def=123\u001b[0m\n\u001b[0m       ^\u001b[0m\n\u001b[0;31mSyntaxError\u001b[0m\u001b[0;31m:\u001b[0m invalid syntax\n"
          ]
        }
      ]
    },
    {
      "cell_type": "markdown",
      "source": [
        "**Operators**\n",
        "\n",
        "\n",
        "---\n",
        "\n",
        "\n",
        "*   Assignment\n",
        "*   Arithmetic\n",
        "*   Comparison\n",
        "*   Logical\n",
        "\n",
        "\n",
        "\n",
        "\n",
        "\n",
        "\n",
        "\n",
        "\n",
        "\n"
      ],
      "metadata": {
        "id": "jRDEYoiEofuL"
      }
    },
    {
      "cell_type": "markdown",
      "source": [
        "Arithmetic operators\n",
        "\n",
        "\n",
        "---\n",
        "\n",
        "\n",
        "\n",
        "\n",
        "\n"
      ],
      "metadata": {
        "id": "Us_Q3EviuOE0"
      }
    },
    {
      "cell_type": "code",
      "source": [
        "#Addition\n",
        "a=2\n",
        "b=3\n",
        "c=a+b\n",
        "print('Addition =',c)"
      ],
      "metadata": {
        "colab": {
          "base_uri": "https://localhost:8080/"
        },
        "id": "4vy-2XBIo-OJ",
        "outputId": "a7651304-2610-4c16-af8e-b3d43634344d"
      },
      "execution_count": null,
      "outputs": [
        {
          "output_type": "stream",
          "name": "stdout",
          "text": [
            "Addition = 5\n"
          ]
        }
      ]
    },
    {
      "cell_type": "code",
      "source": [
        "c=2+3\n",
        "print(c)"
      ],
      "metadata": {
        "colab": {
          "base_uri": "https://localhost:8080/"
        },
        "id": "viikEaZ-pITn",
        "outputId": "9529ffcf-fea2-43e4-9954-3ae17445f051"
      },
      "execution_count": null,
      "outputs": [
        {
          "output_type": "stream",
          "name": "stdout",
          "text": [
            "5\n"
          ]
        }
      ]
    },
    {
      "cell_type": "code",
      "source": [
        "#Subtraction\n",
        "c=a-b\n",
        "print('Subtraction =',c)\n",
        "\n"
      ],
      "metadata": {
        "colab": {
          "base_uri": "https://localhost:8080/"
        },
        "id": "C-VOMR17pVaE",
        "outputId": "c4151cac-f292-4cc0-b90e-b2c76ec46395"
      },
      "execution_count": null,
      "outputs": [
        {
          "output_type": "stream",
          "name": "stdout",
          "text": [
            "Subtraction = -1\n"
          ]
        }
      ]
    },
    {
      "cell_type": "code",
      "source": [
        "#Multiplication\n",
        "c=a*b\n",
        "print('Multiplication =',c)"
      ],
      "metadata": {
        "colab": {
          "base_uri": "https://localhost:8080/"
        },
        "id": "WNE2Mkqhp3eD",
        "outputId": "3076a2b9-754c-42e7-98cf-1dfbed80d9d6"
      },
      "execution_count": null,
      "outputs": [
        {
          "output_type": "stream",
          "name": "stdout",
          "text": [
            "Multiplication = 6\n"
          ]
        }
      ]
    },
    {
      "cell_type": "code",
      "source": [
        "#Division\n",
        "c=a/b\n",
        "print('Division =',c)"
      ],
      "metadata": {
        "colab": {
          "base_uri": "https://localhost:8080/"
        },
        "id": "dEeGRLz9qOQK",
        "outputId": "fbaebaf0-82d1-4d6b-b3a5-19cc5947ec7e"
      },
      "execution_count": null,
      "outputs": [
        {
          "output_type": "stream",
          "name": "stdout",
          "text": [
            "Division = 0.6666666666666666\n"
          ]
        }
      ]
    },
    {
      "cell_type": "markdown",
      "source": [
        "Comparison operators\n",
        "\n",
        "---\n",
        "\n"
      ],
      "metadata": {
        "id": "XJPBzZvouWEW"
      }
    },
    {
      "cell_type": "code",
      "source": [
        "#Equal to\n",
        "var1=12==13\n",
        "print(var1)"
      ],
      "metadata": {
        "colab": {
          "base_uri": "https://localhost:8080/"
        },
        "id": "IE0z6TX7rK_v",
        "outputId": "fb8c0576-3e66-49cd-a728-e7e7e15a0446"
      },
      "execution_count": null,
      "outputs": [
        {
          "output_type": "stream",
          "name": "stdout",
          "text": [
            "False\n"
          ]
        }
      ]
    },
    {
      "cell_type": "code",
      "source": [
        "var1=12\n",
        "var2=13\n",
        "print(var1==var2)"
      ],
      "metadata": {
        "colab": {
          "base_uri": "https://localhost:8080/"
        },
        "id": "ylUkhvP4sx9w",
        "outputId": "560a444a-8a0a-445d-d0eb-bb3144cf0175"
      },
      "execution_count": null,
      "outputs": [
        {
          "output_type": "stream",
          "name": "stdout",
          "text": [
            "False\n"
          ]
        }
      ]
    },
    {
      "cell_type": "code",
      "source": [
        "#Not Equal to\n",
        "var1=12!=13\n",
        "print(var1)"
      ],
      "metadata": {
        "colab": {
          "base_uri": "https://localhost:8080/"
        },
        "id": "_EkNqE-Ks7Cb",
        "outputId": "9ab5c98a-c055-475f-f163-d7382e470808"
      },
      "execution_count": null,
      "outputs": [
        {
          "output_type": "stream",
          "name": "stdout",
          "text": [
            "True\n"
          ]
        }
      ]
    },
    {
      "cell_type": "code",
      "source": [
        "#Greater than\n",
        "var1=12.4>13\n",
        "print(var1)"
      ],
      "metadata": {
        "colab": {
          "base_uri": "https://localhost:8080/"
        },
        "id": "k-Lr3vUwtJpH",
        "outputId": "41e7b8c5-a9a3-4fc8-c8bb-366babff2d38"
      },
      "execution_count": null,
      "outputs": [
        {
          "output_type": "stream",
          "name": "stdout",
          "text": [
            "False\n"
          ]
        }
      ]
    },
    {
      "cell_type": "code",
      "source": [
        "#Lesser than\n",
        "var1=13<15\n",
        "print(var1)"
      ],
      "metadata": {
        "colab": {
          "base_uri": "https://localhost:8080/"
        },
        "id": "lyzq0LNwtQ7I",
        "outputId": "02825a6c-e4c8-430b-b791-46231c57253e"
      },
      "execution_count": null,
      "outputs": [
        {
          "output_type": "stream",
          "name": "stdout",
          "text": [
            "True\n"
          ]
        }
      ]
    },
    {
      "cell_type": "code",
      "source": [
        "#Greater than or equal to\n",
        "var1=13>=13\n",
        "print(var1)"
      ],
      "metadata": {
        "colab": {
          "base_uri": "https://localhost:8080/"
        },
        "id": "3pBINb6ltaiB",
        "outputId": "67303015-86ff-408f-88c2-1edfb2a33aa0"
      },
      "execution_count": null,
      "outputs": [
        {
          "output_type": "stream",
          "name": "stdout",
          "text": [
            "True\n"
          ]
        }
      ]
    },
    {
      "cell_type": "code",
      "source": [
        "var1=28>=21\n",
        "print(var1)"
      ],
      "metadata": {
        "colab": {
          "base_uri": "https://localhost:8080/"
        },
        "id": "amgUwpCwtlvB",
        "outputId": "f6163332-c282-413e-fedd-7e3ecf2aafaa"
      },
      "execution_count": null,
      "outputs": [
        {
          "output_type": "stream",
          "name": "stdout",
          "text": [
            "True\n"
          ]
        }
      ]
    },
    {
      "cell_type": "code",
      "source": [
        "#Lesser than or equal to\n",
        "var1=33<=90\n",
        "print(var1)"
      ],
      "metadata": {
        "colab": {
          "base_uri": "https://localhost:8080/"
        },
        "id": "SnRWMat6t2eW",
        "outputId": "a110be94-1e02-4219-8068-07ac982c8bb4"
      },
      "execution_count": null,
      "outputs": [
        {
          "output_type": "stream",
          "name": "stdout",
          "text": [
            "True\n"
          ]
        }
      ]
    },
    {
      "cell_type": "code",
      "source": [
        "#Comparision with strings\n",
        "string1='Hello'\n",
        "string2='Hello'\n",
        "print(string1==string2)"
      ],
      "metadata": {
        "colab": {
          "base_uri": "https://localhost:8080/"
        },
        "id": "fxT224IuuDrG",
        "outputId": "255668a9-7e9f-442b-fa39-31b2ce684241"
      },
      "execution_count": null,
      "outputs": [
        {
          "output_type": "stream",
          "name": "stdout",
          "text": [
            "True\n"
          ]
        }
      ]
    },
    {
      "cell_type": "code",
      "source": [
        "Error case\n",
        "print(string1=string2)"
      ],
      "metadata": {
        "colab": {
          "base_uri": "https://localhost:8080/",
          "height": 106
        },
        "id": "1QtR5kXovo4J",
        "outputId": "32aad312-351b-49fe-9979-0374555acf34"
      },
      "execution_count": null,
      "outputs": [
        {
          "output_type": "error",
          "ename": "SyntaxError",
          "evalue": "invalid syntax (<ipython-input-26-b38fa74e009a>, line 1)",
          "traceback": [
            "\u001b[0;36m  File \u001b[0;32m\"<ipython-input-26-b38fa74e009a>\"\u001b[0;36m, line \u001b[0;32m1\u001b[0m\n\u001b[0;31m    Error case\u001b[0m\n\u001b[0m          ^\u001b[0m\n\u001b[0;31mSyntaxError\u001b[0m\u001b[0;31m:\u001b[0m invalid syntax\n"
          ]
        }
      ]
    },
    {
      "cell_type": "code",
      "source": [
        "string3='Preface Coding'\n",
        "string4='Preface'\n",
        "print(string3>string4)"
      ],
      "metadata": {
        "colab": {
          "base_uri": "https://localhost:8080/"
        },
        "id": "Awq8Vt5EwFhP",
        "outputId": "b4289bc8-ff1a-4df9-b413-9c8eb847e91f"
      },
      "execution_count": null,
      "outputs": [
        {
          "output_type": "stream",
          "name": "stdout",
          "text": [
            "True\n"
          ]
        }
      ]
    },
    {
      "cell_type": "code",
      "source": [
        "print(string4<string3)"
      ],
      "metadata": {
        "colab": {
          "base_uri": "https://localhost:8080/"
        },
        "id": "EsKla7FxwipP",
        "outputId": "d79b4975-a1c7-40f7-e586-b83fe28149ed"
      },
      "execution_count": null,
      "outputs": [
        {
          "output_type": "stream",
          "name": "stdout",
          "text": [
            "True\n"
          ]
        }
      ]
    },
    {
      "cell_type": "markdown",
      "source": [
        "Logical operators\n",
        "\n",
        "---\n",
        "\n",
        "\n",
        "Rules for AND operator\n",
        "\n",
        "Requires both the parameter values to evaluate to true for an output of True\n",
        "\n"
      ],
      "metadata": {
        "id": "LN2Y5kFzw7VQ"
      }
    },
    {
      "cell_type": "code",
      "source": [
        "#Use of AND,OR,NOT\n",
        "result=(10<17)and(5>2)\n",
        "print(result)\n"
      ],
      "metadata": {
        "colab": {
          "base_uri": "https://localhost:8080/"
        },
        "id": "15IyUbrQw89z",
        "outputId": "8e9d57d5-0a19-428f-aeb7-7561f6b13140"
      },
      "execution_count": null,
      "outputs": [
        {
          "output_type": "stream",
          "name": "stdout",
          "text": [
            "True\n"
          ]
        }
      ]
    },
    {
      "cell_type": "code",
      "source": [
        "result=(19==19)and (3>31)\n",
        "print(result)"
      ],
      "metadata": {
        "colab": {
          "base_uri": "https://localhost:8080/"
        },
        "id": "lNFsK0tzzwUc",
        "outputId": "20a8bd2a-7183-4305-bbac-e6b183852dda"
      },
      "execution_count": null,
      "outputs": [
        {
          "output_type": "stream",
          "name": "stdout",
          "text": [
            "False\n"
          ]
        }
      ]
    },
    {
      "cell_type": "markdown",
      "source": [
        "Rules for OR operator\n",
        "\n",
        "Requires any one of the parameter values to evaluate to true for an output of True"
      ],
      "metadata": {
        "id": "tWSHhMyx0Glc"
      }
    },
    {
      "cell_type": "code",
      "source": [
        "result=(10<17)or(5<2)\n",
        "print(result)"
      ],
      "metadata": {
        "colab": {
          "base_uri": "https://localhost:8080/"
        },
        "id": "IpPABy0L0LsN",
        "outputId": "4e142c49-9ade-4e0b-af39-9cfc2c9a4f9f"
      },
      "execution_count": null,
      "outputs": [
        {
          "output_type": "stream",
          "name": "stdout",
          "text": [
            "True\n"
          ]
        }
      ]
    },
    {
      "cell_type": "markdown",
      "source": [
        "NOT operator"
      ],
      "metadata": {
        "id": "c2JI-ZXr0aOq"
      }
    },
    {
      "cell_type": "code",
      "source": [
        "print(not(4>6))"
      ],
      "metadata": {
        "colab": {
          "base_uri": "https://localhost:8080/"
        },
        "id": "G43c-dVS0doh",
        "outputId": "46858317-4c2e-47cb-8ae7-fd27c5dc2cef"
      },
      "execution_count": null,
      "outputs": [
        {
          "output_type": "stream",
          "name": "stdout",
          "text": [
            "True\n"
          ]
        }
      ]
    },
    {
      "cell_type": "code",
      "source": [
        "print(not(456.6==456.6))"
      ],
      "metadata": {
        "colab": {
          "base_uri": "https://localhost:8080/"
        },
        "id": "b6OXbSfR0vt_",
        "outputId": "279d028f-7fde-4723-a841-add1820c39a6"
      },
      "execution_count": null,
      "outputs": [
        {
          "output_type": "stream",
          "name": "stdout",
          "text": [
            "False\n"
          ]
        }
      ]
    },
    {
      "cell_type": "markdown",
      "source": [
        "**Data types**\n",
        "\n",
        "\n",
        "---\n",
        "\n",
        "*   Numbers\n",
        "*   Boolean\n",
        "*  String\n",
        "\n",
        "\n",
        "\n",
        "\n"
      ],
      "metadata": {
        "id": "PxI4-QKk2jpJ"
      }
    },
    {
      "cell_type": "code",
      "source": [
        "#use type function to identify the data type of a value\n",
        "x=5.67\n",
        "type (x)\n"
      ],
      "metadata": {
        "colab": {
          "base_uri": "https://localhost:8080/"
        },
        "id": "QFuq3o_V24iK",
        "outputId": "52ff5d84-7ef0-4f53-97f2-44bd0f26c650"
      },
      "execution_count": null,
      "outputs": [
        {
          "output_type": "execute_result",
          "data": {
            "text/plain": [
              "float"
            ]
          },
          "metadata": {},
          "execution_count": 34
        }
      ]
    },
    {
      "cell_type": "code",
      "source": [
        "type(True)"
      ],
      "metadata": {
        "colab": {
          "base_uri": "https://localhost:8080/",
          "height": 0
        },
        "id": "ZcHzHvcncpZO",
        "outputId": "fa349e0d-72a1-40fb-c39c-108b0cf004b2"
      },
      "execution_count": 1,
      "outputs": [
        {
          "output_type": "execute_result",
          "data": {
            "text/plain": [
              "bool"
            ]
          },
          "metadata": {},
          "execution_count": 1
        }
      ]
    },
    {
      "cell_type": "code",
      "source": [
        "type('A demo class')"
      ],
      "metadata": {
        "colab": {
          "base_uri": "https://localhost:8080/",
          "height": 0
        },
        "id": "S_VYsrSGcyZu",
        "outputId": "515d87e5-5e20-4632-b415-220c87bd24cd"
      },
      "execution_count": 2,
      "outputs": [
        {
          "output_type": "execute_result",
          "data": {
            "text/plain": [
              "str"
            ]
          },
          "metadata": {},
          "execution_count": 2
        }
      ]
    },
    {
      "cell_type": "code",
      "source": [
        "#Reading an input\n",
        "var6 = input('Enter your age')\n",
        "print(\"The age you entered is \",var6)"
      ],
      "metadata": {
        "colab": {
          "base_uri": "https://localhost:8080/"
        },
        "id": "P4k9H3q84dDk",
        "outputId": "16c6197c-1e44-4f91-a622-ee4e26612dec"
      },
      "execution_count": null,
      "outputs": [
        {
          "output_type": "stream",
          "name": "stdout",
          "text": [
            "Enter your age89\n",
            "The age you entered is  89\n"
          ]
        }
      ]
    },
    {
      "cell_type": "markdown",
      "source": [
        "**String functions**\n",
        "\n",
        "---\n",
        "\n",
        "\n",
        "1.   **format()**\n",
        "\n",
        "    Replaces the placeholder {} in the string with the argument provided\n",
        "\n",
        "2.   **lower()**\n",
        "\n",
        "    Returns a string with uppercase characters converted to lowercase\n",
        "\n",
        "\n",
        "3.   **upper()**\n",
        "    \n",
        "    Returns a string with lowercase characters converted to uppercase\n",
        "\n",
        "4.   **len()**\n",
        "\n",
        "    Returns the length of a string\n",
        "\n",
        "\n",
        "5.  **find()**\n",
        "\n",
        "    Returns the index of the first occurence of the search argument\n",
        "\n",
        "6. **replace()**\n",
        "\n",
        "    Replaces the occurence of the first argument with the second argument in the string\n",
        "\n",
        "\n",
        "\n",
        "\n",
        "\n",
        "\n"
      ],
      "metadata": {
        "id": "GDlKM_cF-DXJ"
      }
    },
    {
      "cell_type": "code",
      "source": [
        "#format()\n",
        "str1='Fred scored {} out of {} in a test'\n",
        "print(str1.format(3,10))"
      ],
      "metadata": {
        "id": "ecjb9sEu-L1X",
        "colab": {
          "base_uri": "https://localhost:8080/",
          "height": 0
        },
        "outputId": "9c0f869a-3363-4613-a0e2-55d1c79f4cd4"
      },
      "execution_count": 3,
      "outputs": [
        {
          "output_type": "stream",
          "name": "stdout",
          "text": [
            "Fred scored 3 out of 10 in a test\n"
          ]
        }
      ]
    },
    {
      "cell_type": "code",
      "source": [
        "#lower()\n",
        "str2='London City'\n",
        "print(str2.lower())"
      ],
      "metadata": {
        "colab": {
          "base_uri": "https://localhost:8080/",
          "height": 0
        },
        "id": "bjDHj8ariPJM",
        "outputId": "6e6393f7-b228-449f-806f-8e658e49a07d"
      },
      "execution_count": 4,
      "outputs": [
        {
          "output_type": "stream",
          "name": "stdout",
          "text": [
            "london city\n"
          ]
        }
      ]
    },
    {
      "cell_type": "code",
      "source": [
        "#upper()\n",
        "print(str2.upper())"
      ],
      "metadata": {
        "colab": {
          "base_uri": "https://localhost:8080/",
          "height": 0
        },
        "id": "bgluDPZriiaS",
        "outputId": "f31ff227-2c98-4c23-8a5e-9b8884ac0671"
      },
      "execution_count": 5,
      "outputs": [
        {
          "output_type": "stream",
          "name": "stdout",
          "text": [
            "LONDON CITY\n"
          ]
        }
      ]
    },
    {
      "cell_type": "code",
      "source": [
        "#len()\n",
        "print(len(str2))"
      ],
      "metadata": {
        "colab": {
          "base_uri": "https://localhost:8080/",
          "height": 0
        },
        "id": "87DdjgMtkfwZ",
        "outputId": "bb96c229-38d3-4937-e313-e87f6c40f16e"
      },
      "execution_count": 6,
      "outputs": [
        {
          "output_type": "stream",
          "name": "stdout",
          "text": [
            "11\n"
          ]
        }
      ]
    },
    {
      "cell_type": "code",
      "source": [
        "#find()\n",
        "print(str2.find('n'))\n"
      ],
      "metadata": {
        "colab": {
          "base_uri": "https://localhost:8080/",
          "height": 0
        },
        "id": "2To54EEbkpcX",
        "outputId": "fae011af-0544-4acd-ec3d-6b6c31fe279f"
      },
      "execution_count": 14,
      "outputs": [
        {
          "output_type": "stream",
          "name": "stdout",
          "text": [
            "2\n"
          ]
        }
      ]
    },
    {
      "cell_type": "code",
      "source": [
        "print(str2.find('c'))"
      ],
      "metadata": {
        "colab": {
          "base_uri": "https://localhost:8080/",
          "height": 0
        },
        "id": "Fkz6KRCelOhW",
        "outputId": "5da431ed-4a0d-4823-9288-959087bb4be9"
      },
      "execution_count": 15,
      "outputs": [
        {
          "output_type": "stream",
          "name": "stdout",
          "text": [
            "-1\n"
          ]
        }
      ]
    },
    {
      "cell_type": "code",
      "source": [
        "#replace()\n",
        "print(str2.replace('o','O'))"
      ],
      "metadata": {
        "colab": {
          "base_uri": "https://localhost:8080/",
          "height": 0
        },
        "id": "CrheHj_FlQIF",
        "outputId": "2c0dc82a-8688-4943-d770-dd5013a039a5"
      },
      "execution_count": 16,
      "outputs": [
        {
          "output_type": "stream",
          "name": "stdout",
          "text": [
            "LOndOn City\n"
          ]
        }
      ]
    },
    {
      "cell_type": "code",
      "source": [
        "print(str2)"
      ],
      "metadata": {
        "colab": {
          "base_uri": "https://localhost:8080/",
          "height": 0
        },
        "id": "4RUm7mw0li9G",
        "outputId": "b563fbc5-749a-4d65-d77b-cfd234e18c95"
      },
      "execution_count": 17,
      "outputs": [
        {
          "output_type": "stream",
          "name": "stdout",
          "text": [
            "London City\n"
          ]
        }
      ]
    },
    {
      "cell_type": "markdown",
      "source": [
        "**Conditional Constructs if-else**\n",
        "\n",
        "![image.png](data:image/png;base64,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)\n"
      ],
      "metadata": {
        "id": "HZXBKnNpoX1S"
      }
    },
    {
      "cell_type": "code",
      "source": [
        "#if construct\n",
        "num=3\n",
        "if num==3:\n",
        "print('The number is ',num)\n"
      ],
      "metadata": {
        "colab": {
          "base_uri": "https://localhost:8080/",
          "height": 106
        },
        "id": "A9QiH18bprkd",
        "outputId": "d28f2488-918f-437d-efb4-7788c2a28d5f"
      },
      "execution_count": 4,
      "outputs": [
        {
          "output_type": "error",
          "ename": "IndentationError",
          "evalue": "expected an indented block after 'if' statement on line 3 (<ipython-input-4-2120c7e3e314>, line 4)",
          "traceback": [
            "\u001b[0;36m  File \u001b[0;32m\"<ipython-input-4-2120c7e3e314>\"\u001b[0;36m, line \u001b[0;32m4\u001b[0m\n\u001b[0;31m    print('The number is ',num)\u001b[0m\n\u001b[0m    ^\u001b[0m\n\u001b[0;31mIndentationError\u001b[0m\u001b[0;31m:\u001b[0m expected an indented block after 'if' statement on line 3\n"
          ]
        }
      ]
    },
    {
      "cell_type": "code",
      "source": [
        "num=3\n",
        "if num==3:\n",
        "  print('The number is ',num)\n"
      ],
      "metadata": {
        "colab": {
          "base_uri": "https://localhost:8080/",
          "height": 0
        },
        "id": "3GMkwCULoTqK",
        "outputId": "a25c2de4-4490-42d6-d583-d3bfb4bf2bbf"
      },
      "execution_count": 5,
      "outputs": [
        {
          "output_type": "stream",
          "name": "stdout",
          "text": [
            "The number is  3\n"
          ]
        }
      ]
    },
    {
      "cell_type": "code",
      "source": [
        "num=3\n",
        "if num==3:\n",
        "  print('The number is 3')\n",
        "else :\n",
        "  print('The number is not 3')\n"
      ],
      "metadata": {
        "colab": {
          "base_uri": "https://localhost:8080/",
          "height": 0
        },
        "id": "y-RWQHY6qXI8",
        "outputId": "c1ba4513-a40a-484a-f0a0-cbeebe3114bb"
      },
      "execution_count": 7,
      "outputs": [
        {
          "output_type": "stream",
          "name": "stdout",
          "text": [
            "The number is 3\n"
          ]
        }
      ]
    },
    {
      "cell_type": "code",
      "source": [
        "#Nesting constructs\n",
        "num1=int(input('Enter num1'))\n",
        "num2=int(input('Enter num2'))\n",
        "\n",
        "if num1>num2:\n",
        "  if num1+num2>10:\n",
        "      print('Execution in the nested if')\n",
        "  else:\n",
        "      print('Execution in the nested else')\n",
        "\n",
        "else:\n",
        "  print('Execution in the outer else')"
      ],
      "metadata": {
        "colab": {
          "base_uri": "https://localhost:8080/",
          "height": 0
        },
        "id": "rw58HKGxqnIF",
        "outputId": "667946ae-74f7-4c61-c657-a2c393edae11"
      },
      "execution_count": 9,
      "outputs": [
        {
          "output_type": "stream",
          "name": "stdout",
          "text": [
            "Enter num13\n",
            "Enter num210\n",
            "Execution in the outer else\n"
          ]
        }
      ]
    }
  ]
}