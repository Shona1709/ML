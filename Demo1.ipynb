{
  "nbformat": 4,
  "nbformat_minor": 0,
  "metadata": {
    "colab": {
      "provenance": [],
      "gpuType": "T4",
      "authorship_tag": "ABX9TyMEPEGzEuza4GwMXeV0MjsZ",
      "include_colab_link": true
    },
    "kernelspec": {
      "name": "python3",
      "display_name": "Python 3"
    },
    "language_info": {
      "name": "python"
    },
    "accelerator": "GPU"
  },
  "cells": [
    {
      "cell_type": "markdown",
      "metadata": {
        "id": "view-in-github",
        "colab_type": "text"
      },
      "source": [
        "<a href=\"https://colab.research.google.com/github/Shona1709/ML/blob/Data-Science/Demo1.ipynb\" target=\"_parent\"><img src=\"https://colab.research.google.com/assets/colab-badge.svg\" alt=\"Open In Colab\"/></a>"
      ]
    },
    {
      "cell_type": "markdown",
      "source": [
        "**Learning outcomes**\n",
        "\n",
        "1.   Understand and define variables,keywords,operators and expressions\n",
        "2.   Build mathematical expressions using Python\n",
        "3.  Understand and determine datatypes of\n",
        "values\n",
        "4.   Define string variables and apply inbuilt string manipulation functions\n",
        "5.   Implementing conditional constructs if-else\n",
        "\n",
        "\n",
        "\n",
        "\n",
        "  \n",
        "\n",
        "\n",
        "\n",
        "\n",
        "\n",
        "\n",
        "\n",
        "\n",
        "\n"
      ],
      "metadata": {
        "id": "V9sktWhPTJhn"
      }
    },
    {
      "cell_type": "markdown",
      "source": [
        "**Use of comments**\n",
        "\n",
        "*   Comments are lines of text  in your code used to describe the code\n",
        "*   To write a comment in Python, just add a hash mark (#) before your comment text\n",
        "\n",
        "\n"
      ],
      "metadata": {
        "id": "rqHFZo0ajwW_"
      }
    },
    {
      "cell_type": "code",
      "source": [
        "#This is a comment line"
      ],
      "metadata": {
        "id": "qgcDfliIk_Uh"
      },
      "execution_count": 5,
      "outputs": []
    },
    {
      "cell_type": "markdown",
      "source": [
        "**Print function**"
      ],
      "metadata": {
        "id": "fIlQfnBxjXJh"
      }
    },
    {
      "cell_type": "code",
      "source": [
        "print(\"Hello\")\n",
        "print('Hello')\n"
      ],
      "metadata": {
        "colab": {
          "base_uri": "https://localhost:8080/"
        },
        "id": "Cw1wIB96jfGp",
        "outputId": "50f92704-e008-4aad-c4da-b296bd6f205c"
      },
      "execution_count": 6,
      "outputs": [
        {
          "output_type": "stream",
          "name": "stdout",
          "text": [
            "Hello\n",
            "Hello\n"
          ]
        }
      ]
    },
    {
      "cell_type": "markdown",
      "source": [
        "**Syntax error**"
      ],
      "metadata": {
        "id": "r3diuYSwlHQb"
      }
    },
    {
      "cell_type": "code",
      "source": [
        "print(Preface)"
      ],
      "metadata": {
        "colab": {
          "base_uri": "https://localhost:8080/",
          "height": 141
        },
        "id": "efxp4bM2jrNS",
        "outputId": "8c8d4cb2-1d35-4a4f-9af6-22ca891996b5"
      },
      "execution_count": 7,
      "outputs": [
        {
          "output_type": "error",
          "ename": "NameError",
          "evalue": "name 'Preface' is not defined",
          "traceback": [
            "\u001b[0;31m---------------------------------------------------------------------------\u001b[0m",
            "\u001b[0;31mNameError\u001b[0m                                 Traceback (most recent call last)",
            "\u001b[0;32m<ipython-input-7-df5fedbfc787>\u001b[0m in \u001b[0;36m<cell line: 1>\u001b[0;34m()\u001b[0m\n\u001b[0;32m----> 1\u001b[0;31m \u001b[0mprint\u001b[0m\u001b[0;34m(\u001b[0m\u001b[0mPreface\u001b[0m\u001b[0;34m)\u001b[0m\u001b[0;34m\u001b[0m\u001b[0;34m\u001b[0m\u001b[0m\n\u001b[0m",
            "\u001b[0;31mNameError\u001b[0m: name 'Preface' is not defined"
          ]
        }
      ]
    },
    {
      "cell_type": "markdown",
      "source": [
        "**Variables**\n",
        "\n",
        "---\n",
        "\n",
        "\n",
        "A placeholder to hold any type of data\n"
      ],
      "metadata": {
        "id": "8yaXpMfafarO"
      }
    },
    {
      "cell_type": "code",
      "source": [
        "a=3\n",
        "print(a)"
      ],
      "metadata": {
        "colab": {
          "base_uri": "https://localhost:8080/"
        },
        "id": "LIti6vY0fZQS",
        "outputId": "a746194c-eef1-4526-83cd-04ee63b043b8"
      },
      "execution_count": 8,
      "outputs": [
        {
          "output_type": "stream",
          "name": "stdout",
          "text": [
            "3\n"
          ]
        }
      ]
    },
    {
      "cell_type": "code",
      "source": [
        "print('a')"
      ],
      "metadata": {
        "colab": {
          "base_uri": "https://localhost:8080/"
        },
        "id": "E9sqx5aITPoV",
        "outputId": "cf264f5c-bb71-4c09-cafc-f05efeb637e9"
      },
      "execution_count": 9,
      "outputs": [
        {
          "output_type": "stream",
          "name": "stdout",
          "text": [
            "a\n"
          ]
        }
      ]
    },
    {
      "cell_type": "code",
      "source": [
        "string1='Artificial intelligence'\n",
        "print(string1)"
      ],
      "metadata": {
        "colab": {
          "base_uri": "https://localhost:8080/"
        },
        "id": "_hcRW5X7nhEu",
        "outputId": "1ad883d0-74da-4fb8-ce98-bd1b32796c05"
      },
      "execution_count": 10,
      "outputs": [
        {
          "output_type": "stream",
          "name": "stdout",
          "text": [
            "Artificial intelligence\n"
          ]
        }
      ]
    },
    {
      "cell_type": "markdown",
      "source": [
        "**Keywords**\n",
        "\n",
        "---\n",
        "Reserved words that cannot be used as variables\n",
        "\n",
        "*and,as,not,else,if,elif,import,def,break and so on*"
      ],
      "metadata": {
        "id": "z8ga1SQa09im"
      }
    },
    {
      "cell_type": "code",
      "source": [
        "def=123"
      ],
      "metadata": {
        "colab": {
          "base_uri": "https://localhost:8080/",
          "height": 106
        },
        "id": "FHXfS_891Fxj",
        "outputId": "32242f25-b0ac-4cce-dce0-0eafe2e83b9d"
      },
      "execution_count": 11,
      "outputs": [
        {
          "output_type": "error",
          "ename": "SyntaxError",
          "evalue": "invalid syntax (<ipython-input-11-0e78859b7116>, line 1)",
          "traceback": [
            "\u001b[0;36m  File \u001b[0;32m\"<ipython-input-11-0e78859b7116>\"\u001b[0;36m, line \u001b[0;32m1\u001b[0m\n\u001b[0;31m    def=123\u001b[0m\n\u001b[0m       ^\u001b[0m\n\u001b[0;31mSyntaxError\u001b[0m\u001b[0;31m:\u001b[0m invalid syntax\n"
          ]
        }
      ]
    },
    {
      "cell_type": "markdown",
      "source": [
        "**Operators**\n",
        "\n",
        "\n",
        "---\n",
        "\n",
        "\n",
        "*   Assignment\n",
        "*   Arithmetic\n",
        "*   Comparison\n",
        "*   Logical\n",
        "\n",
        "\n",
        "\n",
        "\n",
        "\n",
        "\n",
        "\n",
        "\n",
        "\n"
      ],
      "metadata": {
        "id": "jRDEYoiEofuL"
      }
    },
    {
      "cell_type": "markdown",
      "source": [
        "Arithmetic operators\n",
        "\n",
        "\n",
        "---\n",
        "\n",
        "\n",
        "\n",
        "\n",
        "\n"
      ],
      "metadata": {
        "id": "Us_Q3EviuOE0"
      }
    },
    {
      "cell_type": "code",
      "source": [
        "#Addition\n",
        "a=2\n",
        "b=3\n",
        "c=a+b\n",
        "print('Addition =',c)"
      ],
      "metadata": {
        "colab": {
          "base_uri": "https://localhost:8080/"
        },
        "id": "4vy-2XBIo-OJ",
        "outputId": "a7651304-2610-4c16-af8e-b3d43634344d"
      },
      "execution_count": 12,
      "outputs": [
        {
          "output_type": "stream",
          "name": "stdout",
          "text": [
            "Addition = 5\n"
          ]
        }
      ]
    },
    {
      "cell_type": "code",
      "source": [
        "c=2+3\n",
        "print(c)"
      ],
      "metadata": {
        "colab": {
          "base_uri": "https://localhost:8080/"
        },
        "id": "viikEaZ-pITn",
        "outputId": "9529ffcf-fea2-43e4-9954-3ae17445f051"
      },
      "execution_count": 13,
      "outputs": [
        {
          "output_type": "stream",
          "name": "stdout",
          "text": [
            "5\n"
          ]
        }
      ]
    },
    {
      "cell_type": "code",
      "source": [
        "#Subtraction\n",
        "c=a-b\n",
        "print('Subtraction =',c)\n",
        "\n"
      ],
      "metadata": {
        "colab": {
          "base_uri": "https://localhost:8080/"
        },
        "id": "C-VOMR17pVaE",
        "outputId": "c4151cac-f292-4cc0-b90e-b2c76ec46395"
      },
      "execution_count": 14,
      "outputs": [
        {
          "output_type": "stream",
          "name": "stdout",
          "text": [
            "Subtraction = -1\n"
          ]
        }
      ]
    },
    {
      "cell_type": "code",
      "source": [
        "#Multiplication\n",
        "c=a*b\n",
        "print('Multiplication =',c)"
      ],
      "metadata": {
        "colab": {
          "base_uri": "https://localhost:8080/"
        },
        "id": "WNE2Mkqhp3eD",
        "outputId": "3076a2b9-754c-42e7-98cf-1dfbed80d9d6"
      },
      "execution_count": 15,
      "outputs": [
        {
          "output_type": "stream",
          "name": "stdout",
          "text": [
            "Multiplication = 6\n"
          ]
        }
      ]
    },
    {
      "cell_type": "code",
      "source": [
        "#Division\n",
        "c=a/b\n",
        "print('Division =',c)"
      ],
      "metadata": {
        "colab": {
          "base_uri": "https://localhost:8080/"
        },
        "id": "dEeGRLz9qOQK",
        "outputId": "fbaebaf0-82d1-4d6b-b3a5-19cc5947ec7e"
      },
      "execution_count": 16,
      "outputs": [
        {
          "output_type": "stream",
          "name": "stdout",
          "text": [
            "Division = 0.6666666666666666\n"
          ]
        }
      ]
    },
    {
      "cell_type": "markdown",
      "source": [
        "Comparison operators\n",
        "\n",
        "---\n",
        "\n"
      ],
      "metadata": {
        "id": "XJPBzZvouWEW"
      }
    },
    {
      "cell_type": "code",
      "source": [
        "#Equal to\n",
        "var1=12==13\n",
        "print(var1)"
      ],
      "metadata": {
        "colab": {
          "base_uri": "https://localhost:8080/"
        },
        "id": "IE0z6TX7rK_v",
        "outputId": "fb8c0576-3e66-49cd-a728-e7e7e15a0446"
      },
      "execution_count": 17,
      "outputs": [
        {
          "output_type": "stream",
          "name": "stdout",
          "text": [
            "False\n"
          ]
        }
      ]
    },
    {
      "cell_type": "code",
      "source": [
        "var1=12\n",
        "var2=13\n",
        "print(var1==var2)"
      ],
      "metadata": {
        "colab": {
          "base_uri": "https://localhost:8080/"
        },
        "id": "ylUkhvP4sx9w",
        "outputId": "560a444a-8a0a-445d-d0eb-bb3144cf0175"
      },
      "execution_count": 18,
      "outputs": [
        {
          "output_type": "stream",
          "name": "stdout",
          "text": [
            "False\n"
          ]
        }
      ]
    },
    {
      "cell_type": "code",
      "source": [
        "#Not Equal to\n",
        "var1=12!=13\n",
        "print(var1)"
      ],
      "metadata": {
        "colab": {
          "base_uri": "https://localhost:8080/"
        },
        "id": "_EkNqE-Ks7Cb",
        "outputId": "9ab5c98a-c055-475f-f163-d7382e470808"
      },
      "execution_count": 19,
      "outputs": [
        {
          "output_type": "stream",
          "name": "stdout",
          "text": [
            "True\n"
          ]
        }
      ]
    },
    {
      "cell_type": "code",
      "source": [
        "#Greater than\n",
        "var1=12.4>13\n",
        "print(var1)"
      ],
      "metadata": {
        "colab": {
          "base_uri": "https://localhost:8080/"
        },
        "id": "k-Lr3vUwtJpH",
        "outputId": "41e7b8c5-a9a3-4fc8-c8bb-366babff2d38"
      },
      "execution_count": 20,
      "outputs": [
        {
          "output_type": "stream",
          "name": "stdout",
          "text": [
            "False\n"
          ]
        }
      ]
    },
    {
      "cell_type": "code",
      "source": [
        "#Lesser than\n",
        "var1=13<15\n",
        "print(var1)"
      ],
      "metadata": {
        "colab": {
          "base_uri": "https://localhost:8080/"
        },
        "id": "lyzq0LNwtQ7I",
        "outputId": "02825a6c-e4c8-430b-b791-46231c57253e"
      },
      "execution_count": 21,
      "outputs": [
        {
          "output_type": "stream",
          "name": "stdout",
          "text": [
            "True\n"
          ]
        }
      ]
    },
    {
      "cell_type": "code",
      "source": [
        "#Greater than or equal to\n",
        "var1=13>=13\n",
        "print(var1)"
      ],
      "metadata": {
        "colab": {
          "base_uri": "https://localhost:8080/"
        },
        "id": "3pBINb6ltaiB",
        "outputId": "67303015-86ff-408f-88c2-1edfb2a33aa0"
      },
      "execution_count": 22,
      "outputs": [
        {
          "output_type": "stream",
          "name": "stdout",
          "text": [
            "True\n"
          ]
        }
      ]
    },
    {
      "cell_type": "code",
      "source": [
        "var1=28>=21\n",
        "print(var1)"
      ],
      "metadata": {
        "colab": {
          "base_uri": "https://localhost:8080/"
        },
        "id": "amgUwpCwtlvB",
        "outputId": "f6163332-c282-413e-fedd-7e3ecf2aafaa"
      },
      "execution_count": 23,
      "outputs": [
        {
          "output_type": "stream",
          "name": "stdout",
          "text": [
            "True\n"
          ]
        }
      ]
    },
    {
      "cell_type": "code",
      "source": [
        "#Lesser than or equal to\n",
        "var1=33<=90\n",
        "print(var1)"
      ],
      "metadata": {
        "colab": {
          "base_uri": "https://localhost:8080/"
        },
        "id": "SnRWMat6t2eW",
        "outputId": "a110be94-1e02-4219-8068-07ac982c8bb4"
      },
      "execution_count": 24,
      "outputs": [
        {
          "output_type": "stream",
          "name": "stdout",
          "text": [
            "True\n"
          ]
        }
      ]
    },
    {
      "cell_type": "code",
      "source": [
        "#Comparision with strings\n",
        "string1='Hello'\n",
        "string2='Hello'\n",
        "print(string1==string2)"
      ],
      "metadata": {
        "colab": {
          "base_uri": "https://localhost:8080/"
        },
        "id": "fxT224IuuDrG",
        "outputId": "255668a9-7e9f-442b-fa39-31b2ce684241"
      },
      "execution_count": 25,
      "outputs": [
        {
          "output_type": "stream",
          "name": "stdout",
          "text": [
            "True\n"
          ]
        }
      ]
    },
    {
      "cell_type": "code",
      "source": [
        "Error case\n",
        "print(string1=string2)"
      ],
      "metadata": {
        "colab": {
          "base_uri": "https://localhost:8080/",
          "height": 106
        },
        "id": "1QtR5kXovo4J",
        "outputId": "32aad312-351b-49fe-9979-0374555acf34"
      },
      "execution_count": 26,
      "outputs": [
        {
          "output_type": "error",
          "ename": "SyntaxError",
          "evalue": "invalid syntax (<ipython-input-26-b38fa74e009a>, line 1)",
          "traceback": [
            "\u001b[0;36m  File \u001b[0;32m\"<ipython-input-26-b38fa74e009a>\"\u001b[0;36m, line \u001b[0;32m1\u001b[0m\n\u001b[0;31m    Error case\u001b[0m\n\u001b[0m          ^\u001b[0m\n\u001b[0;31mSyntaxError\u001b[0m\u001b[0;31m:\u001b[0m invalid syntax\n"
          ]
        }
      ]
    },
    {
      "cell_type": "code",
      "source": [
        "string3='Preface Coding'\n",
        "string4='Preface'\n",
        "print(string3>string4)"
      ],
      "metadata": {
        "colab": {
          "base_uri": "https://localhost:8080/"
        },
        "id": "Awq8Vt5EwFhP",
        "outputId": "b4289bc8-ff1a-4df9-b413-9c8eb847e91f"
      },
      "execution_count": 27,
      "outputs": [
        {
          "output_type": "stream",
          "name": "stdout",
          "text": [
            "True\n"
          ]
        }
      ]
    },
    {
      "cell_type": "code",
      "source": [
        "print(string4<string3)"
      ],
      "metadata": {
        "colab": {
          "base_uri": "https://localhost:8080/"
        },
        "id": "EsKla7FxwipP",
        "outputId": "d79b4975-a1c7-40f7-e586-b83fe28149ed"
      },
      "execution_count": 28,
      "outputs": [
        {
          "output_type": "stream",
          "name": "stdout",
          "text": [
            "True\n"
          ]
        }
      ]
    },
    {
      "cell_type": "markdown",
      "source": [
        "Logical operators\n",
        "\n",
        "---\n",
        "\n",
        "\n",
        "Rules for AND operator\n",
        "Requires both the parameter values to evaluate to true for an output of True\n",
        "\n"
      ],
      "metadata": {
        "id": "LN2Y5kFzw7VQ"
      }
    },
    {
      "cell_type": "code",
      "source": [
        "#Use of AND,OR,NOT\n",
        "result=(10<17)and(5>2)\n",
        "print(result)\n"
      ],
      "metadata": {
        "colab": {
          "base_uri": "https://localhost:8080/"
        },
        "id": "15IyUbrQw89z",
        "outputId": "8e9d57d5-0a19-428f-aeb7-7561f6b13140"
      },
      "execution_count": 29,
      "outputs": [
        {
          "output_type": "stream",
          "name": "stdout",
          "text": [
            "True\n"
          ]
        }
      ]
    },
    {
      "cell_type": "code",
      "source": [
        "result=(19==19)and (3>31)\n",
        "print(result)"
      ],
      "metadata": {
        "colab": {
          "base_uri": "https://localhost:8080/"
        },
        "id": "lNFsK0tzzwUc",
        "outputId": "20a8bd2a-7183-4305-bbac-e6b183852dda"
      },
      "execution_count": 30,
      "outputs": [
        {
          "output_type": "stream",
          "name": "stdout",
          "text": [
            "False\n"
          ]
        }
      ]
    },
    {
      "cell_type": "markdown",
      "source": [
        "Rules for OR operator\n",
        "Requires any one of the parameter values to evaluate to true for an output of True"
      ],
      "metadata": {
        "id": "tWSHhMyx0Glc"
      }
    },
    {
      "cell_type": "code",
      "source": [
        "result=(10<17)or(5<2)\n",
        "print(result)"
      ],
      "metadata": {
        "colab": {
          "base_uri": "https://localhost:8080/"
        },
        "id": "IpPABy0L0LsN",
        "outputId": "4e142c49-9ade-4e0b-af39-9cfc2c9a4f9f"
      },
      "execution_count": 31,
      "outputs": [
        {
          "output_type": "stream",
          "name": "stdout",
          "text": [
            "True\n"
          ]
        }
      ]
    },
    {
      "cell_type": "markdown",
      "source": [
        "NOT operator"
      ],
      "metadata": {
        "id": "c2JI-ZXr0aOq"
      }
    },
    {
      "cell_type": "code",
      "source": [
        "print(not(4>6))"
      ],
      "metadata": {
        "colab": {
          "base_uri": "https://localhost:8080/"
        },
        "id": "G43c-dVS0doh",
        "outputId": "46858317-4c2e-47cb-8ae7-fd27c5dc2cef"
      },
      "execution_count": 32,
      "outputs": [
        {
          "output_type": "stream",
          "name": "stdout",
          "text": [
            "True\n"
          ]
        }
      ]
    },
    {
      "cell_type": "code",
      "source": [
        "print(not(456.6==456.6))"
      ],
      "metadata": {
        "colab": {
          "base_uri": "https://localhost:8080/"
        },
        "id": "b6OXbSfR0vt_",
        "outputId": "279d028f-7fde-4723-a841-add1820c39a6"
      },
      "execution_count": 33,
      "outputs": [
        {
          "output_type": "stream",
          "name": "stdout",
          "text": [
            "False\n"
          ]
        }
      ]
    },
    {
      "cell_type": "markdown",
      "source": [
        "**Data types**\n",
        "\n",
        "\n",
        "---\n",
        "\n",
        "*   Numbers\n",
        "*   Boolean\n",
        "*  String\n",
        "*   \n",
        "\n",
        "\n",
        "\n"
      ],
      "metadata": {
        "id": "PxI4-QKk2jpJ"
      }
    },
    {
      "cell_type": "code",
      "source": [
        "#use type function to identify the data type of a value\n",
        "x=5.67\n",
        "type (x)\n"
      ],
      "metadata": {
        "colab": {
          "base_uri": "https://localhost:8080/"
        },
        "id": "QFuq3o_V24iK",
        "outputId": "52ff5d84-7ef0-4f53-97f2-44bd0f26c650"
      },
      "execution_count": 34,
      "outputs": [
        {
          "output_type": "execute_result",
          "data": {
            "text/plain": [
              "float"
            ]
          },
          "metadata": {},
          "execution_count": 34
        }
      ]
    },
    {
      "cell_type": "code",
      "source": [
        "#Reading an input\n",
        "var6 = input('Enter your age')\n",
        "#type(var6)\n",
        "print(\"The age you entered is \",var6)"
      ],
      "metadata": {
        "colab": {
          "base_uri": "https://localhost:8080/"
        },
        "id": "P4k9H3q84dDk",
        "outputId": "16c6197c-1e44-4f91-a622-ee4e26612dec"
      },
      "execution_count": 38,
      "outputs": [
        {
          "output_type": "stream",
          "name": "stdout",
          "text": [
            "Enter your age89\n",
            "The age you entered is  89\n"
          ]
        }
      ]
    },
    {
      "cell_type": "markdown",
      "source": [
        "**String functions**"
      ],
      "metadata": {
        "id": "GDlKM_cF-DXJ"
      }
    },
    {
      "cell_type": "code",
      "source": [
        "#"
      ],
      "metadata": {
        "id": "ecjb9sEu-L1X"
      },
      "execution_count": null,
      "outputs": []
    }
  ]
}