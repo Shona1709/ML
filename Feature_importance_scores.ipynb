{
  "nbformat": 4,
  "nbformat_minor": 0,
  "metadata": {
    "colab": {
      "provenance": [],
      "authorship_tag": "ABX9TyMqGi/75C0K8zODyoT4C+bN",
      "include_colab_link": true
    },
    "kernelspec": {
      "name": "python3",
      "display_name": "Python 3"
    },
    "language_info": {
      "name": "python"
    }
  },
  "cells": [
    {
      "cell_type": "markdown",
      "metadata": {
        "id": "view-in-github",
        "colab_type": "text"
      },
      "source": [
        "<a href=\"https://colab.research.google.com/github/Shona1709/ML/blob/Data-Science/Feature_importance_scores.ipynb\" target=\"_parent\"><img src=\"https://colab.research.google.com/assets/colab-badge.svg\" alt=\"Open In Colab\"/></a>"
      ]
    },
    {
      "cell_type": "code",
      "metadata": {
        "id": "6hf3x92b383q"
      },
      "source": [
        "import numpy as np # linear algebra\n",
        "import pandas as pd # data processing, CSV file I/O (e.g. pd.read_csv)\n",
        "import seaborn as sns # data visualization library\n",
        "import matplotlib.pyplot as plt"
      ],
      "execution_count": null,
      "outputs": []
    },
    {
      "cell_type": "code",
      "metadata": {
        "id": "FlXPev0a4m4f"
      },
      "source": [
        "data = pd.read_csv('breast_cancer_final.csv');"
      ],
      "execution_count": null,
      "outputs": []
    },
    {
      "cell_type": "code",
      "metadata": {
        "id": "rIO5B-R382pH"
      },
      "source": [
        "y = data['diagnosis']                   # M or B\n",
        "list = ['id','diagnosis']\n",
        "x = data.drop(list,axis = 1 )\n",
        "y = y.replace(\"B\", 0)\n",
        "y = y.replace(\"M\", 1)"
      ],
      "execution_count": null,
      "outputs": []
    },
    {
      "cell_type": "code",
      "metadata": {
        "colab": {
          "base_uri": "https://localhost:8080/",
          "height": 931
        },
        "id": "BaR3fAIo3_5y",
        "outputId": "5107d94d-e38e-4600-841a-72defa5fa736"
      },
      "source": [
        "from sklearn.datasets import make_classification\n",
        "from sklearn.linear_model import LogisticRegression\n",
        "from matplotlib import pyplot\n",
        "\n",
        "# define the model\n",
        "model = LogisticRegression()\n",
        "# fit the model\n",
        "model.fit(x, y)\n",
        "# get importance\n",
        "importance = model.coef_[0]\n",
        "# summarize feature importance\n",
        "for i,v in enumerate(importance):\n",
        "\tprint('Feature: %0d, Score: %.5f' % (i,v))\n",
        "# plot feature importance\n",
        "pyplot.bar([x for x in range(len(importance))], importance)\n",
        "pyplot.show()"
      ],
      "execution_count": null,
      "outputs": [
        {
          "output_type": "stream",
          "text": [
            "/usr/local/lib/python3.7/dist-packages/sklearn/linear_model/_logistic.py:940: ConvergenceWarning: lbfgs failed to converge (status=1):\n",
            "STOP: TOTAL NO. of ITERATIONS REACHED LIMIT.\n",
            "\n",
            "Increase the number of iterations (max_iter) or scale the data as shown in:\n",
            "    https://scikit-learn.org/stable/modules/preprocessing.html\n",
            "Please also refer to the documentation for alternative solver options:\n",
            "    https://scikit-learn.org/stable/modules/linear_model.html#logistic-regression\n",
            "  extra_warning_msg=_LOGISTIC_SOLVER_CONVERGENCE_MSG)\n"
          ],
          "name": "stderr"
        },
        {
          "output_type": "stream",
          "text": [
            "Feature: 0, Score: -0.93865\n",
            "Feature: 1, Score: -0.45466\n",
            "Feature: 2, Score: -0.28090\n",
            "Feature: 3, Score: 0.01630\n",
            "Feature: 4, Score: 0.03485\n",
            "Feature: 5, Score: 0.16432\n",
            "Feature: 6, Score: 0.23008\n",
            "Feature: 7, Score: 0.09689\n",
            "Feature: 8, Score: 0.04829\n",
            "Feature: 9, Score: 0.00963\n",
            "Feature: 10, Score: -0.04071\n",
            "Feature: 11, Score: -0.37031\n",
            "Feature: 12, Score: -0.14222\n",
            "Feature: 13, Score: 0.10977\n",
            "Feature: 14, Score: 0.00315\n",
            "Feature: 15, Score: 0.03534\n",
            "Feature: 16, Score: 0.04921\n",
            "Feature: 17, Score: 0.01262\n",
            "Feature: 18, Score: 0.01166\n",
            "Feature: 19, Score: 0.00328\n",
            "Feature: 20, Score: -0.99769\n",
            "Feature: 21, Score: 0.49666\n",
            "Feature: 22, Score: 0.25309\n",
            "Feature: 23, Score: 0.01310\n",
            "Feature: 24, Score: 0.06325\n",
            "Feature: 25, Score: 0.51256\n",
            "Feature: 26, Score: 0.63789\n",
            "Feature: 27, Score: 0.18647\n",
            "Feature: 28, Score: 0.15315\n",
            "Feature: 29, Score: 0.04923\n"
          ],
          "name": "stdout"
        },
        {
          "output_type": "display_data",
          "data": {
            "image/png": "[encoded data removed]",
            "text/plain": [
              "<Figure size 432x288 with 1 Axes>"
            ]
          },
          "metadata": {
            "tags": [],
            "needs_background": "light"
          }
        }
      ]
    },
    {
      "cell_type": "code",
      "metadata": {
        "colab": {
          "base_uri": "https://localhost:8080/",
          "height": 775
        },
        "id": "7S3s7xxYBMg6",
        "outputId": "81467896-9803-41da-81f0-ccb740cd264c"
      },
      "source": [
        "from sklearn.datasets import make_classification\n",
        "from sklearn.ensemble import RandomForestClassifier\n",
        "from matplotlib import pyplot\n",
        "\n",
        "# define the model\n",
        "model = RandomForestClassifier()\n",
        "# fit the model\n",
        "model.fit(x, y)\n",
        "# get importance\n",
        "importance = model.feature_importances_\n",
        "# summarize feature importance\n",
        "for i,v in enumerate(importance):\n",
        "\tprint('Feature: %0d, Score: %.5f' % (i,v))\n",
        "# plot feature importance\n",
        "pyplot.bar([x for x in range(len(importance))], importance)\n",
        "pyplot.show()"
      ],
      "execution_count": null,
      "outputs": [
        {
          "output_type": "stream",
          "text": [
            "Feature: 0, Score: 0.06459\n",
            "Feature: 1, Score: 0.01344\n",
            "Feature: 2, Score: 0.03768\n",
            "Feature: 3, Score: 0.08960\n",
            "Feature: 4, Score: 0.00527\n",
            "Feature: 5, Score: 0.00991\n",
            "Feature: 6, Score: 0.05141\n",
            "Feature: 7, Score: 0.05558\n",
            "Feature: 8, Score: 0.00383\n",
            "Feature: 9, Score: 0.00350\n",
            "Feature: 10, Score: 0.01552\n",
            "Feature: 11, Score: 0.00480\n",
            "Feature: 12, Score: 0.01522\n",
            "Feature: 13, Score: 0.02815\n",
            "Feature: 14, Score: 0.00504\n",
            "Feature: 15, Score: 0.00399\n",
            "Feature: 16, Score: 0.00546\n",
            "Feature: 17, Score: 0.00852\n",
            "Feature: 18, Score: 0.00288\n",
            "Feature: 19, Score: 0.00505\n",
            "Feature: 20, Score: 0.13769\n",
            "Feature: 21, Score: 0.01904\n",
            "Feature: 22, Score: 0.10863\n",
            "Feature: 23, Score: 0.09358\n",
            "Feature: 24, Score: 0.01258\n",
            "Feature: 25, Score: 0.00950\n",
            "Feature: 26, Score: 0.04904\n",
            "Feature: 27, Score: 0.12578\n",
            "Feature: 28, Score: 0.00821\n",
            "Feature: 29, Score: 0.00651\n"
          ],
          "name": "stdout"
        },
        {
          "output_type": "display_data",
          "data": {
            "image/png": "[encoded data removed]",
            "text/plain": [
              "<Figure size 432x288 with 1 Axes>"
            ]
          },
          "metadata": {
            "tags": [],
            "needs_background": "light"
          }
        }
      ]
    }
  ]
}